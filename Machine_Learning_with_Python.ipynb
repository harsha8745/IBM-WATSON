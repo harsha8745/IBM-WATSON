{
  "nbformat": 4,
  "nbformat_minor": 0,
  "metadata": {
    "colab": {
      "name": "Machine Learning with Python.ipynb",
      "provenance": [],
      "collapsed_sections": [
        "m_guUB_F-zEi",
        "GQ1QiBFDeX-w",
        "WANxtZYrj0B0",
        "Ct16WrzvGtrB",
        "opYnNY2wXpIs",
        "P2cNhID5eEiF"
      ],
      "authorship_tag": "ABX9TyOnkRuwiS4u226gDUgqdw4b",
      "include_colab_link": true
    },
    "kernelspec": {
      "name": "python3",
      "display_name": "Python 3"
    }
  },
  "cells": [
    {
      "cell_type": "markdown",
      "metadata": {
        "id": "view-in-github",
        "colab_type": "text"
      },
      "source": [
        "<a href=\"https://colab.research.google.com/github/harsha8745/IBM-WATSON/blob/master/Machine_Learning_with_Python.ipynb\" target=\"_parent\"><img src=\"https://colab.research.google.com/assets/colab-badge.svg\" alt=\"Open In Colab\"/></a>"
      ]
    },
    {
      "cell_type": "markdown",
      "metadata": {
        "id": "m_guUB_F-zEi"
      },
      "source": [
        "#What is Machine Learning?"
      ]
    },
    {
      "cell_type": "markdown",
      "metadata": {
        "id": "6UUZ4Vht-43x"
      },
      "source": [
        "##Welcome"
      ]
    },
    {
      "cell_type": "markdown",
      "metadata": {
        "id": "nGUxij_U_GnX"
      },
      "source": [
        "In this course you'll learn how Machine Learning is used in many key fields and industries. \r\n",
        "\r\n",
        "For example, in the healthcare industry data scientists use Machine Learning to predict whether a human cell that is believed to be at risk of developing cancer is either benign or malignant. \r\n",
        "\r\n",
        "As such, Machine Learning can play a key role in determining a person's health and welfare. \r\n",
        "\r\n",
        "You'll also learn about the value of decision trees and how building a good decision tree from historical data helps doctors to prescribe the proper medicine for each of their patients; \r\n",
        "\r\n",
        "you'll learn how bankers use Machine Learning to make decisions on whether to approve loan applications; and you will learn how to use Machine Learning to do bank customer segmentation, where it is not usually easy to run for huge volumes of varied data.\r\n",
        "\r\n",
        "In this course you'll see how machine learning helps websites such as YouTube, Amazon, or Netflix develop recommendations to their customers about various products or services, such as which movies they might be interested in going to see or which books to buy. \r\n",
        "\r\n",
        "There is so much that you can do with Machine Learning. Here you'll learn how to use popular Python libraries to build your model. For example, given an automobile data set we can use the scikit-learn library to estimate the co2 emission of cars using their engine size or cylinders. We can even predict what the co2 emissions will be for a car that hasn't even been produced yet, and \r\n",
        "\r\n",
        "we'll see how the telecommunications industries can predict customer churn\r\n",
        "\r\n",
        "you'll get new skills to add to your resume such as regression, classification, clustering, scikit-learn, and psy PI. \r\n",
        "\r\n",
        "You'll also get new projects that you can add to your portfolio including cancer detection, predicting economic trends, predicting customer churn, recommendation engines, and many more."
      ]
    },
    {
      "cell_type": "markdown",
      "metadata": {
        "id": "DAAxvY-XAAMH"
      },
      "source": [
        "##Introduction to Machine Learning"
      ]
    },
    {
      "cell_type": "markdown",
      "metadata": {
        "id": "I-baZMKxAuNh"
      },
      "source": [
        ">This is a human cell sample extracted from a patient, and this cell has characteristics. For example, its clump thickness is 6, its uniformity of cell size is 1, its marginal adhesion is 1, and so on. One of the interesting questions we can ask, at this point is: Is this a benign or malignant cell? In contrast with a benign tumor, a malignant tumor is a tumor that may invade its surrounding tissue or spread around the body, and diagnosing it early might be the key to a patient’s survival. One could easily presume that only a doctor with years of experience could diagnose that tumor and say if the patient is developing cancer or not. Right? Well, imagine that you’ve obtained a dataset containing characteristics of thousands of human cell samples extracted from patients who were believed to be at risk of developing cancer. Analysis of the original data showed that many of the characteristics differed significantly between benign and malignant samples. You can use the values of these cell characteristics in samples from other patients to give an early indication of whether a new sample might be benign or malignant. You should clean your data, select a proper algorithm for building a prediction model, and train your model to understand patterns of benign or malignant cells within the data. Once the model has been trained by going through data iteratively, it can be used to predict your new or unknown cell with a rather high accuracy. This is machine learning! It is the way that a machine learning model can do a doctor’s task or at least help that doctor make the process faster."
      ]
    },
    {
      "cell_type": "markdown",
      "metadata": {
        "id": "HoeeYeb5BoX0"
      },
      "source": [
        ">Now, let me give a formal definition of machine learning. Machine learning is the subfield of computer science that gives \"computers the ability to learn without being explicitly programmed.”"
      ]
    },
    {
      "cell_type": "markdown",
      "metadata": {
        "id": "rEYlBXojBprE"
      },
      "source": [
        ">Let me explain what I mean when I say “without being explicitly programmed.” Assume that you have a dataset of images of animals such as cats and dogs, and you want to have software or an application that can recognize and differentiate them. The first thing that you have to do here is interpret the images as a set of feature sets. For example, does the image show the animal’s eyes? If so, what is their size? Does it have ears? What about a tail? How many legs? Does it have wings? Prior to machine learning, each image would be transformed to a vector of features. Then, traditionally, we had to write down some rules or methods in order to get computers to be intelligent and detect the animals. But, it was a failure. Why? Well, as you can guess, it needed a lot of rules, highly dependent on the current dataset, and not generalized enough to detect out-of-sample cases. This is when machine learning entered the scene. Using machine learning, allows us to build a model that looks at all the feature sets, and their corresponding type of animals, and it learns the pattern of each animal. It is a model built by machine learning algorithms. It detects without explicitly being programmed to do so. In essence, machine learning follows the same process that a 4-year-old child uses to learn, understand, and differentiate animals. So, machine learning algorithms, inspired by the human learning process, iteratively learn from data, and allow computers to find hidden insights. These models help us in a variety of tasks, such as object recognition, summarization, recommendation, and so on."
      ]
    },
    {
      "cell_type": "markdown",
      "metadata": {
        "id": "2evR42I2C31a"
      },
      "source": [
        ">Machine Learning impacts society in a very influential way. Here are some real-life examples. First, how do you think Netflix and Amazon recommend videos, movies, and TV shows to its users? They use Machine Learning to produce suggestions that you might enjoy! This is similar to how your friends might recommend a television show to you, based on their knowledge of the types of shows you like to watch. How do you think banks make a decision when approving a loan application? They use machine learning to predict the probability of default for each applicant, and then approve or refuse the loan application based on that probability. Telecommunication companies use their customers’ demographic data to segment them, or predict if they will unsubscribe from their company the next month. There are many other applications of machine learning that we see every day in our daily life, such as chatbots, logging into our phones or even computer games using face recognition. Each of these use different machine learning techniques and algorithms."
      ]
    },
    {
      "cell_type": "markdown",
      "metadata": {
        "id": "AMq1tCP9C5fX"
      },
      "source": [
        ">So, let’s quickly examine a few of the more popular techniques. The Regression/Estimation technique is used for predicting a continuous value. For example, predicting things like the price of a house based on its characteristics, or to estimate the Co2 emission from a car’s engine. A Classification technique is used for Predicting the class or category of a case, for example, if a cell is benign or malignant, or whether or not a customer will churn. Clustering groups of similar cases, for example, can find similar patients, or can be used for customer segmentation in the banking field. Association technique is used for finding items or events that often co-occur, for example, grocery items that are usually bought together by a particular customer. Anomaly detection is used to discover abnormal and unusual cases, for example, it is used for credit card fraud detection. Sequence mining is used for predicting the next event, for instance, the click-stream in websites. Dimension reduction is used to reduce the size of data. And finally, recommendation systems, this associates people's preferences with others who have similar tastes, and recommends new items to them, such as books or movies. "
      ]
    },
    {
      "cell_type": "markdown",
      "metadata": {
        "id": "_Mscw3ouG4Lz"
      },
      "source": [
        ">“What is the difference between these buzzwords that we keep hearing these days, such as Artificial intelligence (or AI), Machine Learning and Deep Learning?” Well, let me explain what is different between them. In brief, AI tries to make computers intelligent in order to mimic the cognitive functions of humans. So, Artificial Intelligence is a general field with a broad scope including: Computer Vision, Language Processing, Creativity, and Summarization. Machine Learning is the branch of AI that covers the statistical part of artificial intelligence. It teaches the computer to solve problems by looking at hundreds or thousands of examples, learning from them, and then using that experience to solve the same problem in new situations. And Deep Learning is a very special field of Machine Learning where computers can actually learn and make intelligent decisions on their own. Deep learning involves a deeper level of automation in comparison with most machine learning algorithms. "
      ]
    },
    {
      "cell_type": "markdown",
      "metadata": {
        "id": "pZbTfjxjHAgE"
      },
      "source": [
        ">subsequent videos will focus on reviewing two main components: First, you’ll be learning about the purpose of Machine Learning and where it can be applied in the real world; and Second, you’ll get a general overview of Machine Learning topics, such as supervised vs unsupervised learning, model evaluation and various Machine Learning algorithms. "
      ]
    },
    {
      "cell_type": "markdown",
      "metadata": {
        "id": "fAJQewEfHUr5"
      },
      "source": [
        "##Python for Machine Learning"
      ]
    },
    {
      "cell_type": "markdown",
      "metadata": {
        "id": "xIJPn_NCHks3"
      },
      "source": [
        ">Python is a popular and powerful general purpose programming language that recently emerged as the preferred language among data scientists. You can write your machine-learning algorithms using Python, and it works very well. However, there are a lot of modules and libraries already implemented in Python, that can make your life much easier. "
      ]
    },
    {
      "cell_type": "markdown",
      "metadata": {
        "id": "mOQgjYF0Hyxr"
      },
      "source": [
        ">The first package is NumPy which is a math library to work with N-dimensional arrays in Python. It enables you to do computation efficiently and effectively. It is better than regular Python because of its amazing capabilities. For example, for working with arrays, dictionaries, functions, datatypes and working with images you need to know NumPy. "
      ]
    },
    {
      "cell_type": "markdown",
      "metadata": {
        "id": "839Xne5aKwbi"
      },
      "source": [
        ">SciPy is a collection of numerical algorithms and domain specific toolboxes, including signal processing, optimization, statistics and much more. SciPy is a good library for scientific and high performance computation."
      ]
    },
    {
      "cell_type": "markdown",
      "metadata": {
        "id": "XhmcOFWDK7sT"
      },
      "source": [
        ">Matplotlib is a very popular plotting package that provides 2D plotting, as well as 3D plotting. "
      ]
    },
    {
      "cell_type": "markdown",
      "metadata": {
        "id": "UiS99hCRLMBP"
      },
      "source": [
        "> Pandas library is a very high-level Python library that provides high performance easy to use data structures. It has many functions for data importing, manipulation and analysis. In particular, it offers data structures and operations for manipulating numerical tables and timeseries."
      ]
    },
    {
      "cell_type": "markdown",
      "metadata": {
        "id": "aEyY-qoYLsFx"
      },
      "source": [
        ">SciKit Learn is a collection of algorithms and tools for machine learning which is our focus here and which you'll learn to use within this course.\r\n",
        "\r\n",
        ">SciKit Learn is a free Machine Learning Library for the Python programming language. It has most of the classification, regression and clustering algorithms, and it's designed to work with a Python numerical and scientific libraries: NumPy and SciPy. Also, it includes very good documentation. On top of that, implementing machine learning models with SciKit Learn is really easy with a few lines of Python code.\r\n",
        "\r\n",
        ">Most of the tasks that need to be done in a machine learning pipeline are implemented already in Scikit Learn including pre-processing of data, feature selection, feature extraction, train test splitting, defining the algorithms, fitting models, tuning parameters, prediction, evaluation, and exporting the model. \r\n",
        "\r\n"
      ]
    },
    {
      "cell_type": "markdown",
      "metadata": {
        "id": "bfZ7OWXGMxrC"
      },
      "source": [
        ">Let me show you an example of how SciKit Learn looks like when you use this library.\r\n",
        "\r\n",
        ">Basically, machine-learning algorithms benefit from standardization of the dataset. If there are some outliers or different scales fields in your dataset, you have to fix them. The pre-processing package of SciKit Learn provides several common utility functions and transformer classes to change raw feature vectors into a suitable form of vector for modeling. You have to split your dataset into train and test sets to train your model and then test the model's accuracy separately. SciKit Learn can split arrays or matrices into random train and test subsets for you in one line of code. Then you can set up your algorithm. For example, you can build a classifier using a support vector classification algorithm. We call our estimator instance CLF and initialize its parameters. Now you can train your model with the train set by passing our training set to the fit method, the CLF model learns to classify unknown cases. Then we can use our test set to run predictions, and the result tells us what the class of each unknown value is. Also, you can use the different metrics to evaluate your model accuracy. For example, using a confusion matrix to show the results. And finally, you save your model."
      ]
    },
    {
      "cell_type": "markdown",
      "metadata": {
        "id": "wSN-a8wLNizk"
      },
      "source": [
        "##Supervised vs Unsupervised"
      ]
    },
    {
      "cell_type": "markdown",
      "metadata": {
        "id": "2-cMIi7nOkpM"
      },
      "source": [
        "**Supervised ML**\r\n",
        ">An easy way to begin grasping the concept of supervised learning is by looking directly at the words that make it up. Supervise, means to observe, and direct the execution of a task, project, or activity. Obviously we aren't going to be supervising a person, instead will be supervising a machine learning model that might be able to produce classification regions like we see here.\r\n",
        "\r\n",
        ">So, how do we supervise a machine learning model? We do this by teaching the model, that is we load the model with knowledge so that we can have it predict future instances. But this leads to the next question which is, how exactly do we teach a model? We teach the model by training it with some data from a labeled dataset. "
      ]
    },
    {
      "cell_type": "markdown",
      "metadata": {
        "id": "2-Zxp6EXPvFj"
      },
      "source": [
        ">It's important to note that the data is labeled, and what does a labeled dataset look like? Well, it could look something like this. This example is taken from the cancer dataset. As you can see, we have some historical data for patients, and we already know the class of each row. Let's start by introducing some components of this table. \r\n",
        "- The names up here which are called clump thickness, uniformity of cell size, uniformity of cell shape, marginal adhesion and so on are called attributes. \r\n",
        "- The columns are called features which include the data. \r\n",
        "- If you plot this data, and look at a single data point on a plot, it'll have all of these attributes that would make a row on this chart also referred to as an observation. \r\n",
        "\r\n",
        ">Looking directly at the value of the data, you can have two kinds.\r\n",
        "- The first is numerical. When dealing with machine learning, the most commonly used data is numeric. \r\n",
        "- The second is categorical, that is its non-numeric because it contains characters rather than numbers. In this case, it's categorical because this dataset is made for classification. "
      ]
    },
    {
      "cell_type": "markdown",
      "metadata": {
        "id": "LT-M5JyRQI7C"
      },
      "source": [
        "**Types of supervised ML**\r\n",
        ">There are two types of supervised learning techniques. They are classification, and regression. \r\n",
        "\r\n",
        "- Classification is the process of predicting a discrete class label, or category. \r\n",
        "- Regression is the process of predicting a continuous value as opposed to predicting a categorical value in classification.   \r\n",
        "Look at this dataset. It is related to CO2 emissions of different cars. It includes; engine size, cylinders, fuel consumption, and CO2 emission of various models of automobiles. Given this dataset, you can use regression to predict the CO2 emission of a new car by using other fields such as engine size, or number of cylinders. "
      ]
    },
    {
      "cell_type": "markdown",
      "metadata": {
        "id": "Rlw6SPSlSrBu"
      },
      "source": [
        "**Unsupervised ML**\r\n",
        ">Yes, unsupervised learning is exactly as it sounds. We do not supervise the model, but we let the model work on its own to discover information that may not be visible to the human eye. It means, the unsupervised algorithm trains on the dataset, and draws conclusions on unlabeled data. Generally speaking, unsupervised learning has more difficult algorithms than supervised learning since we know little to no information about the data, or the outcomes that are to be expected. Dimension reduction, density estimation, market basket analysis, and clustering are the most widely used unsupervised machine learning techniques."
      ]
    },
    {
      "cell_type": "markdown",
      "metadata": {
        "id": "aKo7AN-tS52J"
      },
      "source": [
        "**Types of unsupervised ML techniques**"
      ]
    },
    {
      "cell_type": "markdown",
      "metadata": {
        "id": "bWZQkPdUTPxN"
      },
      "source": [
        "- Dimensionality reduction, and/or feature selection, play a large role in this by reducing redundant features to make the classification easier. \r\n",
        "\r\n",
        "- Market basket analysis is a modeling technique based upon the theory that if you buy a certain group of items, you're more likely to buy another group of items. \r\n",
        "\r\n",
        "- Density estimation is a very simple concept that is mostly used to explore the data to find some structure within it. \r\n",
        "\r\n",
        "- Clustering is considered to be one of the most popular unsupervised machine learning techniques used for grouping data points, or objects that are somehow similar.   \r\n",
        "Cluster analysis has many applications in different domains, whether it be a bank's desire to segment his customers based on certain characteristics, or helping an individual to organize in-group his, or her favorite types of music. Generally speaking though, clustering is used mostly for :\r\n",
        "  - Discovering structure\r\n",
        "  - Summarization\r\n",
        "  - Anomaly detection"
      ]
    },
    {
      "cell_type": "markdown",
      "metadata": {
        "id": "tdgflbStUq6H"
      },
      "source": [
        "**Supervised VS Unsupervised ML**\r\n"
      ]
    },
    {
      "cell_type": "markdown",
      "metadata": {
        "id": "06Zjlu7zU8v-"
      },
      "source": [
        "- The biggest difference between supervised and unsupervised learning is that supervised learning deals with labeled data while unsupervised learning deals with unlabeled data. \r\n",
        "\r\n",
        "- In supervised learning, we have machine learning algorithms for classification and regression. In unsupervised learning, we have methods such as clustering. \r\n",
        "\r\n",
        "- In comparison to supervised learning, unsupervised learning has fewer models and fewer evaluation methods that can be used to ensure that the outcome of the model is accurate.\r\n",
        "\r\n",
        "- As such, unsupervised learning creates a less controllable environment as the machine is creating outcomes for us. "
      ]
    },
    {
      "cell_type": "markdown",
      "metadata": {
        "id": "y5nnISxXWfQh"
      },
      "source": [
        "#Linear Regression"
      ]
    },
    {
      "cell_type": "markdown",
      "metadata": {
        "id": "GQ1QiBFDeX-w"
      },
      "source": [
        "##Introduction to Regression"
      ]
    },
    {
      "cell_type": "markdown",
      "metadata": {
        "id": "Qu6yJL55eZx-"
      },
      "source": [
        ">Look at this data set. It's related to co2 emissions from different cars. It includes engine size, number of cylinders, fuel consumption, and co2 emission from various automobile models. The question is: given this data set can we predict the co2 emission of a car using other fields such as engine size or cylinders? Let's assume we have some historical data from different cars and assume that a car such as in row 9 has not been manufactured yet, but we're interested in estimating its approximate co2 emission after production. Is it possible? We can use regression methods to predict a continuous value such as co2 emission using some other variables. Indeed regression is the process of predicting a continuous value. In regression there are two types of variables: a dependent variable and one or more independent variables. The dependent variable can be seen as the state, target, or final goal we study and try to predict. And the independent variables, also known as explanatory variables, can be seen as the causes of those states. The independent variables are shown conventionally by X and the dependent variable is notated by Y. A regression model relates Y or the dependent variable to a function of X i.e. the independent variables. The key point in the regression is that our dependent value should be continuous and cannot be a discrete value. However, the independent variable, or variables, can be measured on either a categorical or continuous measurement scale. So, what we want to do here is to use the historical data of some cars using one or more of their features and from that data make a model. We use regression to build such a regression estimation model; then the model is used to predict the expected co2 emission for a new or unknown car.\r\n",
        "![](https://github.com/harsha8745/IBM-WATSON/blob/Images/Screenshot%20(659).png?raw=true)\r\n",
        "![](https://github.com/harsha8745/IBM-WATSON/blob/Images/Screenshot%20(660).png?raw=true)"
      ]
    },
    {
      "cell_type": "markdown",
      "metadata": {
        "id": "Vu6tRrEHhYCd"
      },
      "source": [
        ">Basically there are two types of regression models simple regression and multiple regression. \r\n",
        "\r\n",
        "- Simple regression is when one independent variable is used to estimate a dependent variable. It can be either linear or non-linear. For example, predicting co2 emission using the variable of engine size. Linearity of regression is based on the nature of relationship between independent and dependent variables. \r\n",
        "\r\n",
        "- When more than one independent variable is present the process is called multiple linear regression. For example, predicting co2 emission using engine size and the number of cylinders in any given car. Again, depending on the relation between dependent and independent variables it can be either linear or non-linear regression. \r\n",
        "![](https://github.com/harsha8745/IBM-WATSON/blob/Images/Screenshot%20(661).png?raw=true)"
      ]
    },
    {
      "cell_type": "markdown",
      "metadata": {
        "id": "tst3n_qliOvx"
      },
      "source": [
        ">Let's examine some sample applications of regression. Essentially we use regression when we want to estimate a continuous value. \r\n",
        "\r\n",
        "- For instance, one of the applications of regression analysis could be in the area of sales forecasting. You can try to predict a sales person's total yearly sales from independent variables such as age, education, and years of experience. \r\n",
        "\r\n",
        "- It can also be used in the field of psychology, for example, to determine individual satisfaction, based on demographic and psychological factors.\r\n",
        "\r\n",
        "- We can use regression analysis to predict the price of a house in an area, based on its size number of bedrooms, and so on. \r\n",
        "\r\n",
        "- We can even use it to predict employment income for independent variables such as hours of work, education, occupation, sex, age, years of experience, and so on. \r\n",
        "![](https://github.com/harsha8745/IBM-WATSON/blob/Images/Screenshot%20(663).png?raw=true)\r\n",
        "- Indeed, you can find many examples of the usefulness of regression analysis in these and many other fields or domains, such as finance, healthcare, retail, and more. \r\n",
        "\r\n",
        ">We have many regression algorithms, each of them has its own importance and a specific condition to which their application is best suited. And while we've covered just a few of them in this course, it gives you enough base knowledge for you to explore different regression techniques.\r\n",
        "![](https://github.com/harsha8745/IBM-WATSON/blob/Images/Screenshot%20(664).png?raw=true)"
      ]
    },
    {
      "cell_type": "markdown",
      "metadata": {
        "id": "WANxtZYrj0B0"
      },
      "source": [
        "##Simple Linear Regression"
      ]
    },
    {
      "cell_type": "markdown",
      "metadata": {
        "id": "cr0kChfWmARv"
      },
      "source": [
        ">Let's take a look at this data set. It's related to the Co2 emission of different cars. It includes engine size, cylinders, fuel consumption and Co2 emissions for various car models. The question is, given this data set, can we predict the Co2 emission of a car using another field such as engine size? Quite simply, yes. We can use linear regression to predict a continuous value such as Co2 emission by using other variables. Linear regression is the approximation of a linear model used to describe the relationship between two or more variables. In simple linear regression, there are two variables, a dependent variable and an independent variable. The key point in the linear regression is that our dependent value should be continuous and cannot be a discrete value. However, the independent variables can be measured on either a categorical or continuous measurement scale. \r\n",
        "![](https://github.com/harsha8745/IBM-WATSON/blob/Images/Screenshot%20(665).png?raw=true)"
      ]
    },
    {
      "cell_type": "markdown",
      "metadata": {
        "id": "kKOeL_-MmEDX"
      },
      "source": [
        ">There are two types of linear regression models. They are simple regression and multiple regression.\r\n",
        "\r\n",
        "- Simple linear regression is when one independent variable is used to estimate a dependent variable. For example, predicting Co2 emission using the engine size variable. \r\n",
        "\r\n",
        "- When more than one independent variable is present the process is called multiple linear regression, for example, predicting Co2 emission using engine size and cylinders of cars. \r\n",
        "![](https://github.com/harsha8745/IBM-WATSON/blob/Images/Screenshot%20(666).png?raw=true)"
      ]
    },
    {
      "cell_type": "markdown",
      "metadata": {
        "id": "9Mtd_ramtE7I"
      },
      "source": [
        ">To understand linear regression, we can plot our variables here. We show engine size as an independent variable and emission as the target value that we would like to predict. A scatter plot clearly shows the relation between variables where changes in one variable explain or possibly cause changes in the other variable. Also, it indicates that these variables are linearly related. With linear regression you can fit a line through the data. For instance, as the engine size increases, so do the emissions. With linear regression you can model the relationship of these variables. A good model can be used to predict what the approximate emission of each car is.\r\n",
        "![](https://github.com/harsha8745/IBM-WATSON/blob/Images/Screenshot%20(667).png?raw=true)\r\n",
        "![](https://github.com/harsha8745/IBM-WATSON/blob/Images/Screenshot%20(668).png?raw=true)"
      ]
    },
    {
      "cell_type": "markdown",
      "metadata": {
        "id": "WmLC_3BY-ja7"
      },
      "source": [
        ">**Cost Function:**  \r\n",
        "It is a function that measures the performance of a Machine Learning model for given data. Cost Function quantifies the error between predicted values and expected values and presents it in the form of a single real number. Depending on the problem Cost Function can be formed in many different ways. The purpose of Cost Function is to be either:\r\n",
        "- Minimized - then returned value is usually called cost, loss or error. The goal is to find the values of model parameters for which Cost Function return as small number as possible.\r\n",
        "- Maximized - then the value it yields is named a reward. The goal is to find values of model parameters for which returned number is as large as possible."
      ]
    },
    {
      "cell_type": "markdown",
      "metadata": {
        "id": "uxRC5AJS4WSa"
      },
      "source": [
        ">The mean of all residual errors shows how poorly the line fits with the whole data set. Mathematically it can be shown by the equation Mean Squared Error, shown as MSE. The objective of linear regression, is to minimize this MSE equation and to minimize it, we should find the best parameters theta 0 and theta 1. Now the question is how to find theta 0 and theta 1 in such a way that it minimizes this error?\r\n",
        "![](https://github.com/harsha8745/IBM-WATSON/blob/Images/Screenshot%20(669).png?raw=true)"
      ]
    },
    {
      "cell_type": "markdown",
      "metadata": {
        "id": "VPteA0jr4sV8"
      },
      "source": [
        ">Actually, we have two options here. Option one, we can use a mathematic approach, or option two, we can use an optimization approach."
      ]
    },
    {
      "cell_type": "markdown",
      "metadata": {
        "id": "XlYWfQsP4x9d"
      },
      "source": [
        ">Let's see how we could easily use a mathematic formula to find the theta 0 and theta 1.\r\n",
        "\r\n",
        ">So these are the two parameters for the line, where theta 0 is also called the bias coefficient, and theta 1 is the coefficient for the Co2 emission column.\r\n",
        "![](https://github.com/harsha8745/IBM-WATSON/blob/Images/Screenshot%20(670).png?raw=true)\r\n",
        "![](https://github.com/harsha8745/IBM-WATSON/blob/Images/Screenshot%20(671).png?raw=true)"
      ]
    },
    {
      "cell_type": "markdown",
      "metadata": {
        "id": "qs9lZfFj5l5m"
      },
      "source": [
        ">why linear regression is so useful. \r\n",
        "- Quite simply, it is the most basic regression to use and understand. \r\n",
        "- It's fast. \r\n",
        "- It also doesn't require tuning of parameters. So something like tuning the K parameter in K nearest neighbors, or the learning rate in neural networks isn't something to worry about. \r\n",
        "- Linear regression is also easy to understand, and highly interpretable.\r\n",
        "![](https://github.com/harsha8745/IBM-WATSON/blob/Images/Screenshot%20(672).png?raw=true)"
      ]
    },
    {
      "cell_type": "markdown",
      "metadata": {
        "id": "Ct16WrzvGtrB"
      },
      "source": [
        "##Model Evaluation in Regression Models"
      ]
    },
    {
      "cell_type": "markdown",
      "metadata": {
        "id": "-jBYujrIHfI9"
      },
      "source": [
        ">The goal of regression is to build a model to accurately predict an unknown case. To this end, we have to perform regression evaluation after building the model. In this video, we'll introduce and discuss two types of evaluation approaches that can be used to achieve this goal. These approaches are train and test on the same dataset and train/test split. We'll talk about what each of these are, as well as the pros and cons of using each of these models. Also, we'll introduce some metrics for accuracy of regression models.\r\n",
        "![](https://github.com/harsha8745/IBM-WATSON/blob/Images/Screenshot%20(673).png?raw=true)"
      ]
    },
    {
      "cell_type": "markdown",
      "metadata": {
        "id": "NlxFXn0WI98p"
      },
      "source": [
        "**Method-1: Train and Test on same data:**  "
      ]
    },
    {
      "cell_type": "markdown",
      "metadata": {
        "id": "8XKFCbr_JTvz"
      },
      "source": [
        "![](https://github.com/harsha8745/IBM-WATSON/blob/Images/Screenshot%20(674).png?raw=true)\r\n",
        "![](https://github.com/harsha8745/IBM-WATSON/blob/Images/Screenshot%20(675).png?raw=true)\r\n",
        "![](https://github.com/harsha8745/IBM-WATSON/blob/Images/Screenshot%20(676).png?raw=true)\r\n",
        ">This evaluation approach would most likely have a high training accuracy and the low out-of-sample accuracy since the model knows all of the testing data points from the training. \r\n",
        "\r\n",
        ">What is training accuracy and out-of-sample accuracy? \r\n",
        "- Training accuracy is the percentage of correct predictions that the model makes when using the test dataset. However, a high training accuracy isn't necessarily a good thing. For instance, having a high training accuracy may result in an over-fit the data. This means that the model is overly trained to the dataset, which may capture noise and produce a non-generalized model. \r\n",
        "- Out-of-sample accuracy is the percentage of correct predictions that the model makes on data that the model has not been trained on. Doing a train and test on the same dataset will most likely have low out-of-sample accuracy due to the likelihood of being over-fit. \r\n",
        "- It's important that our models have high out-of-sample accuracy because the purpose of our model is, of course, to make correct predictions on unknown data. So, how can we improve out-of-sample accuracy? "
      ]
    },
    {
      "cell_type": "markdown",
      "metadata": {
        "id": "fOxMMZAuJJ1x"
      },
      "source": [
        "**Method-2: Train Test Split(TTS)**"
      ]
    },
    {
      "cell_type": "markdown",
      "metadata": {
        "id": "AGSctEKHJWOx"
      },
      "source": [
        ">The second evaluation approach is called train/test split. Train/test split involves splitting the dataset into training and testing sets respectively, which are mutually exclusive. After which, you train with the training set and test with the testing set. Finally, the predicted values for the test set are compared with the actual values of the testing set. \r\n",
        "![](https://github.com/harsha8745/IBM-WATSON/blob/Images/Screenshot%20(677).png?raw=true)\r\n",
        "- This will provide a more accurate evaluation on out-of-sample accuracy because the testing dataset is not part of the dataset that has been used to train the data. \r\n",
        "- It is more realistic for real-world problems. This means that we know the outcome of each data point in the dataset, making it great to test with. \r\n",
        "- Since this data has not been used to train the model, the model has no knowledge of the outcome of these data points. So, in essence, it's truly out-of-sample testing. \r\n",
        "\r\n",
        ">However, please ensure that you train your model with the testing set afterwards, as you don't want to lose potentially valuable data. \r\n",
        "![](https://github.com/harsha8745/IBM-WATSON/blob/Images/Screenshot%20(678).png?raw=true)\r\n",
        ">The issue with train/test split is that it's highly dependent on the datasets on which the data was trained and tested. The variation of this causes train/test split to have a better out-of-sample prediction than training and testing on the same dataset, but it still has some problems due to this dependency. "
      ]
    },
    {
      "cell_type": "markdown",
      "metadata": {
        "id": "_9reKaqSTvkU"
      },
      "source": [
        "**K-fold cross-validation**"
      ]
    },
    {
      "cell_type": "markdown",
      "metadata": {
        "id": "38aRW6lXUZ3R"
      },
      "source": [
        ">Another evaluation model, called K-fold cross-validation, resolves most of these dependency issues of TTS method.\r\n",
        "\r\n",
        ">The entire dataset is represented by the points in the image at the top left. If we have K equals four folds, then we split up this dataset as shown here. In the first fold for example, we use the first 25 percent of the dataset for testing and the rest for training. The model is built using the training set and is evaluated using the test set. Then, in the next round or in the second fold, the second 25 percent of the dataset is used for testing and the rest for training the model. Again, the accuracy of the model is calculated. We continue for all folds. Finally, the result of all four evaluations are averaged. That is, the accuracy of each fold is then averaged, keeping in mind that each fold is distinct, where no training data in one fold is used in another. K-fold cross-validation in its simplest form performs multiple train/test splits, using the same dataset where each split is different. Then, the result is average to produce a more consistent out-of-sample accuracy.\r\n",
        "![](https://github.com/harsha8745/IBM-WATSON/blob/Images/Screenshot%20(679).png?raw=true)"
      ]
    },
    {
      "cell_type": "markdown",
      "metadata": {
        "id": "opYnNY2wXpIs"
      },
      "source": [
        "##Evaluation Metrics in Regression Models"
      ]
    },
    {
      "cell_type": "markdown",
      "metadata": {
        "id": "pAqlrETIZaTG"
      },
      "source": [
        ">Evaluation metrics are used to explain the performance of a model. Let's talk more about the model evaluation metrics that are used for regression. As mentioned, basically, we can compare the actual values and predicted values, to calculate the accuracy of our regression model. Evaluation metrics, provide a key role in the development of a model, as it provides insight to areas that require improvement. We'll be reviewing a number of model evaluation metrics including mean absolute error, mean squared error, and root mean squared error.\r\n",
        "![](https://github.com/harsha8745/IBM-WATSON/blob/Images/Screenshot%20(680).png?raw=true)"
      ]
    },
    {
      "cell_type": "markdown",
      "metadata": {
        "id": "9dFDN_lmaPdo"
      },
      "source": [
        "> In the context of regression, the error of the model is the difference between the data points(actual values) and the trend line generated(predicted values) by the algorithm. \r\n",
        "\r\n",
        ">Since there are multiple data points, an error can be determined in multiple ways. \r\n",
        "\r\n",
        "![](https://github.com/harsha8745/IBM-WATSON/blob/Images/Screenshot%20(681).png?raw=true)\r\n",
        "\r\n",
        "- MAE: Mean absolute error is the mean of the absolute value of the errors. This is the easiest of the metrics to understand, since it's just the average error. \r\n",
        "\r\n",
        "- MSE: Mean squared error is the mean of the squared error. It's more popular than mean absolute error because the focus is geared more towards large errors. This is due to the squared term exponentially increasing larger errors in comparison to smaller ones.\r\n",
        "\r\n",
        "- RMSE: Root mean squared error is the square root of the mean squared error. This is one of the most popular of the evaluation metrics because root mean squared error is interpretable in the same units as the response vector or y units, making it easy to relate its information. \r\n",
        "\r\n",
        "- RAE: Relative absolute error, also known as residual sum of square, where y bar is a mean value of y, takes the total absolute error and normalizes it by dividing by the total absolute error of the simple predictor(mean). \r\n",
        "\r\n",
        "- RSE: Relative squared error is very similar to relative absolute error but is widely adopted by the data science community, as it is used for calculating R squared.\r\n",
        "\r\n",
        "- R squared: R squared is not an error per se but is a popular metric for the accuracy of your model. It represents how close the data values are to the fitted regression line. The higher the R-squared, the better the model fits your data. \r\n",
        "\r\n",
        ">Each of these metrics can be used for quantifying of your prediction. The choice of metric completely depends on the type of model, your data type, and domain of knowledge."
      ]
    },
    {
      "cell_type": "markdown",
      "metadata": {
        "id": "P2cNhID5eEiF"
      },
      "source": [
        "##Multiple Linear Regression"
      ]
    },
    {
      "cell_type": "markdown",
      "metadata": {
        "id": "EP-zwzxifOaB"
      },
      "source": [
        ">Basically, there are two applications for multiple linear regression. \r\n",
        "- First, it can be used when we would like to identify the strength of the effect that the independent variables have on the dependent variable. For example, does revision time, test anxiety, lecture attendance and gender have any effect on exam performance of students? \r\n",
        "- Second, it can be used to predict the impact of changes, that is, to understand how the dependent variable changes when we change the independent variables. For example, if we were reviewing a person's health data, a multiple linear regression can tell you how much that person's blood pressure goes up or down for every unit increase or decrease in a patient's body mass index holding other factors constant. \r\n",
        "![](https://github.com/harsha8745/IBM-WATSON/blob/Images/Screenshot%20(682).png?raw=true)"
      ]
    },
    {
      "cell_type": "markdown",
      "metadata": {
        "id": "JglWY4o1hSkK"
      },
      "source": [
        "- Multiple linear regression is very useful because you can examine which variables are significant predictors of the outcome variable. \r\n",
        "- Also, you can find out how each feature impacts the outcome variable. \r\n",
        "![](https://github.com/harsha8745/IBM-WATSON/blob/Images/Screenshot%20(683).png?raw=true)\r\n",
        "\r\n",
        ">Again, as is the case in simple linear regression, if you manage to build such a regression model, you can use it to predict the emission amount of an unknown case such as record number nine.\r\n",
        "\r\n",
        ">Generally, the model is of the form y hat equals theta zero, plus theta one x_1, plus theta two x_2 and so on, up to theta n x_n. \r\n",
        "\r\n"
      ]
    },
    {
      "cell_type": "markdown",
      "metadata": {
        "id": "YawLe-M4iLTr"
      },
      "source": [
        "**Vector form**  \r\n",
        ">Mathematically, we can show it as a vector form as well. This means it can be shown as a dot product of two vectors; the parameters vector and the feature set vector. \r\n",
        "![](https://github.com/harsha8745/IBM-WATSON/blob/Images/Screenshot%20(684).png?raw=true)\r\n",
        ">Generally, we can show the equation for a multidimensional space as theta transpose x, where theta is an n by one vector of unknown parameters in a multi-dimensional space, and x is the vector of the featured sets. \r\n",
        "- As theta is a vector of coefficients and is supposed to be multiplied by x. Conventionally, it is shown as transpose theta. Theta is also called the parameters or weight vector of the regression equation. Both these terms can be used interchangeably, and \r\n",
        "- x is the feature set which represents a car. For example, x_1 for engine size or x_2 for cylinders, and so on. The first element of the feature set would be set to one, because it turns that theta zero into the intercept or biased parameter when the vector is multiplied by the parameter vector. \r\n",
        "\r\n",
        ">Please notice that theta transpose x in a one-dimensional space is the equation of a line, it is what we use in simple linear regression. In higher dimensions when we have more than one input or x the line is called a plane or a hyperplane, and this is what we use for multiple linear regression. \r\n",
        "\r\n",
        ">So, the whole idea is to find the best fit hyperplane for our data. To this end and as is the case in linear regression, we should estimate the values for theta vector that best predict the value of the target field in each row. To achieve this goal, we have to minimize the error of the prediction.\r\n",
        "![](https://github.com/harsha8745/IBM-WATSON/blob/Images/Screenshot%20(685).png?raw=true)"
      ]
    },
    {
      "cell_type": "markdown",
      "metadata": {
        "id": "Q-6XRGfTjnTS"
      },
      "source": [
        ">The mean of all residual errors shows how bad the model is representing the data set, it is called the mean squared error, or MSE. Mathematically, MSE can be shown by an equation. While this is not the only way to expose the error of a multiple linear regression model, it is one of the most popular ways to do so. The best model for our data set is the one with minimum error for all prediction values. So, the objective of multiple linear regression is to minimize the MSE equation. "
      ]
    },
    {
      "cell_type": "markdown",
      "metadata": {
        "id": "FgToE8jAk461"
      },
      "source": [
        "**Finding best parameters**\r\n",
        ">To minimize it, we should find the best parameters theta, but how? Okay, how do we find the parameter or coefficients for multiple linear regression? There are many ways to estimate the value of these coefficients. However, the most common methods are the ordinary least squares and optimization approach. \r\n",
        "![](https://github.com/harsha8745/IBM-WATSON/blob/Images/Screenshot%20(686).png?raw=true)\r\n",
        "- Ordinary least squares tries to estimate the values of the coefficients by minimizing the mean square error. This approach uses the data as a matrix and uses linear algebra operations to estimate the optimal values for the theta. The problem with this technique is the time complexity of calculating matrix operations as it can take a very long time to finish. When the number of rows in your data set is less than 10,000, you can think of this technique as an option. However, for greater values, you should try other faster approaches.\r\n",
        "- The second option is to use an optimization algorithm to find the best parameters. That is, you can use a process of optimizing the values of the coefficients by iteratively minimizing the error of the model on your training data. For example, you can use ***gradient descent*** which starts optimization with random values for each coefficient, then calculates the errors and tries to minimize it through y's changing of the coefficients in multiple iterations. Gradient descent is a proper approach if you have a large data set. Please understand however, that there are other approaches to estimate the parameters of the multiple linear regression that you can explore on your own. After you find the best parameters for your model, you can go to the prediction phase"
      ]
    },
    {
      "cell_type": "markdown",
      "metadata": {
        "id": "UfiLMe1HmbQA"
      },
      "source": [
        "**Prediction**\r\n",
        ">After we found the parameters of the linear equation, making predictions is as simple as solving the equation for a specific set of inputs. Imagine we are predicting CO_2 emission or Y from other variables for the automobile in record number nine. Our linear regression model representation for this problem would be y hat equals theta transpose x. Once we find the parameters, we can plug them into the equation of the linear model. For example, let's use theta zero equals 125, theta one equals 6.2, theta two equals 14, and so on. If we map it to our data set, we can rewrite the linear model as CO_2 emissions equals 125 plus 6.2 multiplied by engine size, plus 14 multiplied by cylinder, and so on.\r\n",
        "\r\n",
        ">As you can see, multiple linear regression estimates the relative importance of predictors. For example, it shows cylinder has higher impact on CO_2 emission amounts in comparison with engine size. Now, let's plug in the ninth row of our data set and calculate the CO_2 emission for a car with the engine size of 2.4. So, CO_2 emission equals 125 plus 6.2 times 2.4, plus 14 times four, and so on. We can predict the CO_2 emission for this specific car would be 214.1.\r\n",
        "![](https://github.com/harsha8745/IBM-WATSON/blob/Images/Screenshot%20(687).png?raw=true)"
      ]
    },
    {
      "cell_type": "markdown",
      "metadata": {
        "id": "Z8zDFg-Wn3kl"
      },
      "source": [
        "**Tips**\r\n",
        "![](https://github.com/harsha8745/IBM-WATSON/blob/Images/Screenshot%20(688).png?raw=true)\r\n",
        ">As you saw, you can use multiple independent variables to predict a target value in multiple linear regression. It sometimes results in a better model compared to using a simple linear regression which uses only one independent variable to predict the dependent variable. Now the question is how, many independent variable should we use for the prediction? Should we use all the fields in our data set? Does adding independent variables to a multiple linear regression model always increase the accuracy of the model? Basically, adding too many independent variables without any theoretical justification may result in an overfit model. An overfit model is a real problem because it is too complicated for your data set and not general enough to be used for prediction. So, it is recommended to avoid using many variables for prediction. There are different ways to avoid overfitting a model in regression, however that is outside the scope of this video. The next question is, should independent variables be continuous? Basically, categorical independent variables can be incorporated into a regression model by converting them into numerical variables. For example, given a binary variables such as car type, the code dummy zero for manual and one for automatic cars. As a last point, remember that multiple linear regression is a specific type of linear regression. So, there needs to be a linear relationship between the dependent variable and each of your independent variables. There are a number of ways to check for linear relationship. For example, you can use scatter plots and then visually checked for linearity. If the relationship displayed in your scatter plot is not linear, then you need to use non-linear regression."
      ]
    },
    {
      "cell_type": "code",
      "metadata": {
        "id": "i8vBmyMVeHvc"
      },
      "source": [
        ""
      ],
      "execution_count": null,
      "outputs": []
    }
  ]
}