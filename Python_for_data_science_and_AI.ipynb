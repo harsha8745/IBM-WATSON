{
  "nbformat": 4,
  "nbformat_minor": 0,
  "metadata": {
    "colab": {
      "name": "Python for data science and AI",
      "provenance": [],
      "collapsed_sections": [
        "7XNZg7CbXfe-",
        "X_-KnXQoapsJ",
        "zspAe_zmSWBI",
        "j5WK8-s6WJqI",
        "tOUV-dBfWQVj",
        "9Befe6C5Nq06",
        "-5eVpJmTYlkL",
        "O7YHnY-BuvZm",
        "2OkP2chxMThe",
        "y2y9MMw2ZHij",
        "GrdkTCpO2mSD",
        "cuNdhEuz3Zu2",
        "XfahzoOJ8a6Q",
        "3CgaQiKBhD0p",
        "lfUuS9xvr1Pt",
        "MKiVge-0IR4l"
      ],
      "authorship_tag": "ABX9TyOw1JBK7b6/3OMohRYQZIrG",
      "include_colab_link": true
    },
    "kernelspec": {
      "name": "python3",
      "display_name": "Python 3"
    }
  },
  "cells": [
    {
      "cell_type": "markdown",
      "metadata": {
        "id": "view-in-github",
        "colab_type": "text"
      },
      "source": [
        "<a href=\"https://colab.research.google.com/github/harsha8745/IBM-WATSON/blob/master/Python_for_data_science_and_AI.ipynb\" target=\"_parent\"><img src=\"https://colab.research.google.com/assets/colab-badge.svg\" alt=\"Open In Colab\"/></a>"
      ]
    },
    {
      "cell_type": "markdown",
      "metadata": {
        "colab_type": "text",
        "id": "7XNZg7CbXfe-"
      },
      "source": [
        "#Introduction - Lab 1.1  "
      ]
    },
    {
      "cell_type": "markdown",
      "metadata": {
        "colab_type": "text",
        "id": "prRWEi2qXfe_"
      },
      "source": [
        "##Basics"
      ]
    },
    {
      "cell_type": "code",
      "metadata": {
        "colab_type": "code",
        "id": "zJL9lGFwXffA",
        "colab": {
          "base_uri": "https://localhost:8080/",
          "height": 34
        },
        "outputId": "282be790-da04-4f73-94c6-353da6967278"
      },
      "source": [
        "print('welcome to the world of python!')"
      ],
      "execution_count": null,
      "outputs": [
        {
          "output_type": "stream",
          "text": [
            "welcome to the world of python!\n"
          ],
          "name": "stdout"
        }
      ]
    },
    {
      "cell_type": "markdown",
      "metadata": {
        "colab_type": "text",
        "id": "hwMlwP5qXffF"
      },
      "source": [
        ">[Tip:] <code>print()</code> is a ***function***. You passed the string 'Hello, Python!' as an argument to instruct Python on what to print.\n"
      ]
    },
    {
      "cell_type": "code",
      "metadata": {
        "colab_type": "code",
        "id": "3pFFhbtLXffF",
        "colab": {
          "base_uri": "https://localhost:8080/",
          "height": 50
        },
        "outputId": "599de470-9e80-4fca-d733-21bb3eabce03"
      },
      "source": [
        "# Check the Python Version\n",
        "import sys\n",
        "print(sys.version)"
      ],
      "execution_count": null,
      "outputs": [
        {
          "output_type": "stream",
          "text": [
            "3.6.9 (default, Apr 18 2020, 01:56:04) \n",
            "[GCC 8.4.0]\n"
          ],
          "name": "stdout"
        }
      ]
    },
    {
      "cell_type": "markdown",
      "metadata": {
        "colab_type": "text",
        "id": "Pb4xnYCjXffI"
      },
      "source": [
        "> [Tip:] <code>sys</code> is a ***built-in module*** that contains many system-specific parameters and functions, including the Python version in use. Before using it, we must explictly <code>import</code> it.\n"
      ]
    },
    {
      "cell_type": "code",
      "metadata": {
        "colab_type": "code",
        "id": "MQA7HTH-XffI",
        "colab": {
          "base_uri": "https://localhost:8080/",
          "height": 195
        },
        "outputId": "292be015-6c24-4db6-d49c-1bc3c9d213bc"
      },
      "source": [
        "#understanding errors\n",
        "\n",
        "#function name error\n",
        "frint('sdvesv')  #location(indicated by --->) and type of error msg"
      ],
      "execution_count": null,
      "outputs": [
        {
          "output_type": "error",
          "ename": "NameError",
          "evalue": "ignored",
          "traceback": [
            "\u001b[0;31m---------------------------------------------------------------------------\u001b[0m",
            "\u001b[0;31mNameError\u001b[0m                                 Traceback (most recent call last)",
            "\u001b[0;32m<ipython-input-67-84c0fc164e66>\u001b[0m in \u001b[0;36m<module>\u001b[0;34m()\u001b[0m\n\u001b[1;32m      2\u001b[0m \u001b[0;34m\u001b[0m\u001b[0m\n\u001b[1;32m      3\u001b[0m \u001b[0;31m#function name error\u001b[0m\u001b[0;34m\u001b[0m\u001b[0;34m\u001b[0m\u001b[0;34m\u001b[0m\u001b[0m\n\u001b[0;32m----> 4\u001b[0;31m \u001b[0mfrint\u001b[0m\u001b[0;34m(\u001b[0m\u001b[0;34m'sdvesv'\u001b[0m\u001b[0;34m)\u001b[0m  \u001b[0;31m#location and type of error msg\u001b[0m\u001b[0;34m\u001b[0m\u001b[0;34m\u001b[0m\u001b[0m\n\u001b[0m",
            "\u001b[0;31mNameError\u001b[0m: name 'frint' is not defined"
          ]
        }
      ]
    },
    {
      "cell_type": "code",
      "metadata": {
        "colab_type": "code",
        "id": "HaOMjjXiXffM",
        "colab": {
          "base_uri": "https://localhost:8080/",
          "height": 128
        },
        "outputId": "8f7e9c7c-8b25-4813-fc10-b13c34c54b2d"
      },
      "source": [
        "##syntax error\n",
        "print(\"dgfedg)"
      ],
      "execution_count": null,
      "outputs": [
        {
          "output_type": "error",
          "ename": "SyntaxError",
          "evalue": "ignored",
          "traceback": [
            "\u001b[0;36m  File \u001b[0;32m\"<ipython-input-68-4f0a3b0793a2>\"\u001b[0;36m, line \u001b[0;32m2\u001b[0m\n\u001b[0;31m    print(\"dgfedg)\u001b[0m\n\u001b[0m                  ^\u001b[0m\n\u001b[0;31mSyntaxError\u001b[0m\u001b[0;31m:\u001b[0m EOL while scanning string literal\n"
          ]
        }
      ]
    },
    {
      "cell_type": "markdown",
      "metadata": {
        "colab_type": "text",
        "id": "Ev4P_J9DXffO"
      },
      "source": [
        ">Python is what is called an ***interpreted language***. Compiled languages examine your entire program at compile time, and are able to warn you about a whole class of errors prior to execution. In contrast, Python interprets your script line by line as it executes it. Python will stop executing the entire program when it encounters an error (unless the error is expected and handled by the programmer, a more advanced subject that we'll cover later on in this course)."
      ]
    },
    {
      "cell_type": "code",
      "metadata": {
        "colab_type": "code",
        "id": "7cYzwfOfXffO",
        "colab": {
          "base_uri": "https://localhost:8080/",
          "height": 229
        },
        "outputId": "5e4bb201-1cc5-4f48-a184-fc19d1a45848"
      },
      "source": [
        "#example\n",
        "print(\"This will be printed\")\n",
        "frint(\"This will cause an error\")\n",
        "print(\"This will NOT be printed\")"
      ],
      "execution_count": null,
      "outputs": [
        {
          "output_type": "stream",
          "text": [
            "This will be printed\n"
          ],
          "name": "stdout"
        },
        {
          "output_type": "error",
          "ename": "NameError",
          "evalue": "ignored",
          "traceback": [
            "\u001b[0;31m---------------------------------------------------------------------------\u001b[0m",
            "\u001b[0;31mNameError\u001b[0m                                 Traceback (most recent call last)",
            "\u001b[0;32m<ipython-input-69-f4e5bbda5910>\u001b[0m in \u001b[0;36m<module>\u001b[0;34m()\u001b[0m\n\u001b[1;32m      1\u001b[0m \u001b[0;31m#example\u001b[0m\u001b[0;34m\u001b[0m\u001b[0;34m\u001b[0m\u001b[0;34m\u001b[0m\u001b[0m\n\u001b[1;32m      2\u001b[0m \u001b[0mprint\u001b[0m\u001b[0;34m(\u001b[0m\u001b[0;34m\"This will be printed\"\u001b[0m\u001b[0;34m)\u001b[0m\u001b[0;34m\u001b[0m\u001b[0;34m\u001b[0m\u001b[0m\n\u001b[0;32m----> 3\u001b[0;31m \u001b[0mfrint\u001b[0m\u001b[0;34m(\u001b[0m\u001b[0;34m\"This will cause an error\"\u001b[0m\u001b[0;34m)\u001b[0m\u001b[0;34m\u001b[0m\u001b[0;34m\u001b[0m\u001b[0m\n\u001b[0m\u001b[1;32m      4\u001b[0m \u001b[0mprint\u001b[0m\u001b[0;34m(\u001b[0m\u001b[0;34m\"This will NOT be printed\"\u001b[0m\u001b[0;34m)\u001b[0m\u001b[0;34m\u001b[0m\u001b[0;34m\u001b[0m\u001b[0m\n",
            "\u001b[0;31mNameError\u001b[0m: name 'frint' is not defined"
          ]
        }
      ]
    },
    {
      "cell_type": "markdown",
      "metadata": {
        "colab_type": "text",
        "id": "xeTSrH7fXffR"
      },
      "source": [
        "##Types of objects in Python"
      ]
    },
    {
      "cell_type": "markdown",
      "metadata": {
        "colab_type": "text",
        "id": "SMxrAd8RXffR"
      },
      "source": [
        ">Python is an ***object-oriented language***. There are many different types of objects in Python. Let's start with the most common object types: strings, integers, floats and boolean. Anytime you write words (text) in Python, you're using character strings (strings for short). The most common numbers, on the other hand, are integers (e.g. -1, 0, 100) and floats, which represent real numbers (e.g. 3.14, -42.0)."
      ]
    },
    {
      "cell_type": "markdown",
      "metadata": {
        "colab_type": "text",
        "id": "3Uunb9N3XffS"
      },
      "source": [
        ">You can get Python to tell you the type of an expression by using the built-in <code>type()</code> ***function***. You'll notice that Python refers to integers as <code>int</code>, floats as <code>float</code>, and character strings as <code>str</code>"
      ]
    },
    {
      "cell_type": "markdown",
      "metadata": {
        "colab_type": "text",
        "id": "NXy2ku5uXffS"
      },
      "source": [
        ">Floats represent real numbers; they are a superset of integer numbers but also include \"numbers with decimals\". There are some limitations when it comes to machines representing real numbers, but floating point numbers are a good representation in most cases. You can learn more about the specifics of floats for your runtime environment, by checking the value of sys.float_info. This will also tell you what's the largest and smallest number that can be represented with them"
      ]
    },
    {
      "cell_type": "code",
      "metadata": {
        "colab_type": "code",
        "id": "KbHN2gGzXffT",
        "colab": {
          "base_uri": "https://localhost:8080/",
          "height": 54
        },
        "outputId": "86e07413-cae5-4a52-a3f3-7b6c09159173"
      },
      "source": [
        "import sys\n",
        "sys.float_info"
      ],
      "execution_count": null,
      "outputs": [
        {
          "output_type": "execute_result",
          "data": {
            "text/plain": [
              "sys.float_info(max=1.7976931348623157e+308, max_exp=1024, max_10_exp=308, min=2.2250738585072014e-308, min_exp=-1021, min_10_exp=-307, dig=15, mant_dig=53, epsilon=2.220446049250313e-16, radix=2, rounds=1)"
            ]
          },
          "metadata": {
            "tags": []
          },
          "execution_count": 73
        }
      ]
    },
    {
      "cell_type": "markdown",
      "metadata": {
        "colab_type": "text",
        "id": "6wWpC4pMXffV"
      },
      "source": [
        "---\n",
        "---\n",
        "---\n"
      ]
    },
    {
      "cell_type": "markdown",
      "metadata": {
        "id": "X_-KnXQoapsJ",
        "colab_type": "text"
      },
      "source": [
        "#Types"
      ]
    },
    {
      "cell_type": "code",
      "metadata": {
        "id": "cXB3sTOFax-i",
        "colab_type": "code",
        "colab": {
          "base_uri": "https://localhost:8080/",
          "height": 34
        },
        "outputId": "96a351e8-58d5-4705-877b-d5e753412c74"
      },
      "source": [
        "type(3)"
      ],
      "execution_count": null,
      "outputs": [
        {
          "output_type": "execute_result",
          "data": {
            "text/plain": [
              "int"
            ]
          },
          "metadata": {
            "tags": []
          },
          "execution_count": 6
        }
      ]
    },
    {
      "cell_type": "code",
      "metadata": {
        "id": "pMdsCmf4bGmE",
        "colab_type": "code",
        "colab": {
          "base_uri": "https://localhost:8080/",
          "height": 34
        },
        "outputId": "92e93b64-9e95-4f42-f4fa-8aa496c06ab4"
      },
      "source": [
        "type(542.498499)"
      ],
      "execution_count": null,
      "outputs": [
        {
          "output_type": "execute_result",
          "data": {
            "text/plain": [
              "float"
            ]
          },
          "metadata": {
            "tags": []
          },
          "execution_count": 7
        }
      ]
    },
    {
      "cell_type": "code",
      "metadata": {
        "id": "eaWOQvunJDWP",
        "colab_type": "code",
        "colab": {
          "base_uri": "https://localhost:8080/",
          "height": 34
        },
        "outputId": "590cb16d-2efe-4365-8dca-0533284fd7e8"
      },
      "source": [
        "type('hghj')"
      ],
      "execution_count": null,
      "outputs": [
        {
          "output_type": "execute_result",
          "data": {
            "text/plain": [
              "str"
            ]
          },
          "metadata": {
            "tags": []
          },
          "execution_count": 37
        }
      ]
    },
    {
      "cell_type": "code",
      "metadata": {
        "id": "PUQEMrcoJSwi",
        "colab_type": "code",
        "colab": {
          "base_uri": "https://localhost:8080/",
          "height": 34
        },
        "outputId": "8bdf9d16-25ba-4d16-8998-264d2063ffa7"
      },
      "source": [
        "float(2) #type casting..to convert types"
      ],
      "execution_count": null,
      "outputs": [
        {
          "output_type": "execute_result",
          "data": {
            "text/plain": [
              "2.0"
            ]
          },
          "metadata": {
            "tags": []
          },
          "execution_count": 14
        }
      ]
    },
    {
      "cell_type": "markdown",
      "metadata": {
        "id": "AvdCqzVi7VhA",
        "colab_type": "text"
      },
      "source": [
        "> When we convert an integer into a float, we don't really change the value (i.e., the significand) of the number. However, if we cast a float into an integer, we could potentially lose some information. For example, if we cast the float 1.1 to integer we will get 1 and lose the decimal information (i.e., 0.1)"
      ]
    },
    {
      "cell_type": "code",
      "metadata": {
        "id": "a5kugSOJJtak",
        "colab_type": "code",
        "colab": {
          "base_uri": "https://localhost:8080/",
          "height": 34
        },
        "outputId": "3b210b87-b1bb-469e-d13f-5131bfdc11f9"
      },
      "source": [
        "int(54.51) #but we lose some data"
      ],
      "execution_count": null,
      "outputs": [
        {
          "output_type": "execute_result",
          "data": {
            "text/plain": [
              "54"
            ]
          },
          "metadata": {
            "tags": []
          },
          "execution_count": 12
        }
      ]
    },
    {
      "cell_type": "code",
      "metadata": {
        "id": "cAFYWy_FJv1-",
        "colab_type": "code",
        "colab": {
          "base_uri": "https://localhost:8080/",
          "height": 34
        },
        "outputId": "b7509011-13b9-46c8-bf04-bc60b309b51f"
      },
      "source": [
        "int('25') #'25' was a string, now it will be int"
      ],
      "execution_count": null,
      "outputs": [
        {
          "output_type": "execute_result",
          "data": {
            "text/plain": [
              "25"
            ]
          },
          "metadata": {
            "tags": []
          },
          "execution_count": 15
        }
      ]
    },
    {
      "cell_type": "code",
      "metadata": {
        "id": "WEpEC0NTKgI-",
        "colab_type": "code",
        "colab": {
          "base_uri": "https://localhost:8080/",
          "height": 34
        },
        "outputId": "f1f4c412-54ad-477e-be36-33035122b3b8"
      },
      "source": [
        "a = '25'\n",
        "type(a)"
      ],
      "execution_count": null,
      "outputs": [
        {
          "output_type": "execute_result",
          "data": {
            "text/plain": [
              "str"
            ]
          },
          "metadata": {
            "tags": []
          },
          "execution_count": 18
        }
      ]
    },
    {
      "cell_type": "code",
      "metadata": {
        "id": "ingzKtHoKyNy",
        "colab_type": "code",
        "colab": {
          "base_uri": "https://localhost:8080/",
          "height": 34
        },
        "outputId": "1658e75a-62c1-4a81-aa08-3ebac1e2d6ac"
      },
      "source": [
        "int(a)"
      ],
      "execution_count": null,
      "outputs": [
        {
          "output_type": "execute_result",
          "data": {
            "text/plain": [
              "25"
            ]
          },
          "metadata": {
            "tags": []
          },
          "execution_count": 19
        }
      ]
    },
    {
      "cell_type": "code",
      "metadata": {
        "id": "ywDvqBDVK3sQ",
        "colab_type": "code",
        "colab": {
          "base_uri": "https://localhost:8080/",
          "height": 34
        },
        "outputId": "184cb433-e5a9-4889-d6fd-f5119d7f316c"
      },
      "source": [
        "type(a)"
      ],
      "execution_count": null,
      "outputs": [
        {
          "output_type": "execute_result",
          "data": {
            "text/plain": [
              "str"
            ]
          },
          "metadata": {
            "tags": []
          },
          "execution_count": 20
        }
      ]
    },
    {
      "cell_type": "code",
      "metadata": {
        "id": "8TWZ64s0O4SV",
        "colab_type": "code",
        "colab": {
          "base_uri": "https://localhost:8080/",
          "height": 34
        },
        "outputId": "04e8c563-936a-42d4-a41a-28808330abf3"
      },
      "source": [
        "type(int(a))"
      ],
      "execution_count": null,
      "outputs": [
        {
          "output_type": "execute_result",
          "data": {
            "text/plain": [
              "int"
            ]
          },
          "metadata": {
            "tags": []
          },
          "execution_count": 38
        }
      ]
    },
    {
      "cell_type": "code",
      "metadata": {
        "id": "yLpsWNWX8mO8",
        "colab_type": "code",
        "colab": {
          "base_uri": "https://localhost:8080/",
          "height": 34
        },
        "outputId": "47e49e27-08ba-4f50-8621-7010e49d52be"
      },
      "source": [
        "float('1.2')"
      ],
      "execution_count": null,
      "outputs": [
        {
          "output_type": "execute_result",
          "data": {
            "text/plain": [
              "1.2"
            ]
          },
          "metadata": {
            "tags": []
          },
          "execution_count": 74
        }
      ]
    },
    {
      "cell_type": "code",
      "metadata": {
        "id": "WoxR4zlaK64S",
        "colab_type": "code",
        "colab": {
          "base_uri": "https://localhost:8080/",
          "height": 162
        },
        "outputId": "353a9f96-5d80-45b7-fd92-98eca052d98c"
      },
      "source": [
        "int('b') #we cant convert strings with non integer value"
      ],
      "execution_count": null,
      "outputs": [
        {
          "output_type": "error",
          "ename": "ValueError",
          "evalue": "ignored",
          "traceback": [
            "\u001b[0;31m---------------------------------------------------------------------------\u001b[0m",
            "\u001b[0;31mValueError\u001b[0m                                Traceback (most recent call last)",
            "\u001b[0;32m<ipython-input-29-0d1d3f6ad0e6>\u001b[0m in \u001b[0;36m<module>\u001b[0;34m()\u001b[0m\n\u001b[0;32m----> 1\u001b[0;31m \u001b[0mint\u001b[0m\u001b[0;34m(\u001b[0m\u001b[0;34m'b'\u001b[0m\u001b[0;34m)\u001b[0m \u001b[0;31m#we cant convert strings with non integer value\u001b[0m\u001b[0;34m\u001b[0m\u001b[0;34m\u001b[0m\u001b[0m\n\u001b[0m",
            "\u001b[0;31mValueError\u001b[0m: invalid literal for int() with base 10: 'b'"
          ]
        }
      ]
    },
    {
      "cell_type": "code",
      "metadata": {
        "id": "pkdJNnyxLIeT",
        "colab_type": "code",
        "colab": {
          "base_uri": "https://localhost:8080/",
          "height": 34
        },
        "outputId": "784b3999-ed35-4dfd-87c9-e28c91eb018a"
      },
      "source": [
        "b = str(54)\n",
        "b"
      ],
      "execution_count": null,
      "outputs": [
        {
          "output_type": "execute_result",
          "data": {
            "text/plain": [
              "'54'"
            ]
          },
          "metadata": {
            "tags": []
          },
          "execution_count": 27
        }
      ]
    },
    {
      "cell_type": "code",
      "metadata": {
        "id": "SYj1vMEQLVdw",
        "colab_type": "code",
        "colab": {
          "base_uri": "https://localhost:8080/",
          "height": 34
        },
        "outputId": "ce74063d-afd6-4501-827b-cf977e1eb901"
      },
      "source": [
        "type(b)"
      ],
      "execution_count": null,
      "outputs": [
        {
          "output_type": "execute_result",
          "data": {
            "text/plain": [
              "str"
            ]
          },
          "metadata": {
            "tags": []
          },
          "execution_count": 28
        }
      ]
    },
    {
      "cell_type": "code",
      "metadata": {
        "id": "tQXP_mtRLoVz",
        "colab_type": "code",
        "colab": {
          "base_uri": "https://localhost:8080/",
          "height": 34
        },
        "outputId": "9ce48ab1-cc43-41cf-a168-e83a69a693bd"
      },
      "source": [
        "str(545.544)"
      ],
      "execution_count": null,
      "outputs": [
        {
          "output_type": "execute_result",
          "data": {
            "text/plain": [
              "'545.544'"
            ]
          },
          "metadata": {
            "tags": []
          },
          "execution_count": 30
        }
      ]
    },
    {
      "cell_type": "markdown",
      "metadata": {
        "id": "A17a3uzN86P-",
        "colab_type": "text"
      },
      "source": [
        "> Boolean is another important type in Python. An object of type Boolean can take on one of two values: True or False:\n",
        "\n",
        ">Notice that the value <code>True</code> has an uppercase \"T\". The same is true for <code>False</code> (i.e. you must use the uppercase \"F\")\n",
        "\n",
        ">We can cast boolean objects to other data types. If we cast a boolean with a value of <code>True</code> to an integer or float we will get a one. If we cast a boolean with a value of <code>False</code> to an integer or float we will get a zero. Similarly, if we cast a 1 to a Boolean, you get a <code>True</code>. And if we cast a 0 to a Boolean we will get a <code>False</code>. Let's give it a try:"
      ]
    },
    {
      "cell_type": "code",
      "metadata": {
        "id": "wQbme0HSMOO8",
        "colab_type": "code",
        "colab": {
          "base_uri": "https://localhost:8080/",
          "height": 34
        },
        "outputId": "20e490a9-bcd8-41d6-8f61-f585d70ae53e"
      },
      "source": [
        "#boolean (bool) - True, False\n",
        "type(True)"
      ],
      "execution_count": null,
      "outputs": [
        {
          "output_type": "execute_result",
          "data": {
            "text/plain": [
              "bool"
            ]
          },
          "metadata": {
            "tags": []
          },
          "execution_count": 31
        }
      ]
    },
    {
      "cell_type": "code",
      "metadata": {
        "id": "Ni1A1e8EMo1P",
        "colab_type": "code",
        "colab": {
          "base_uri": "https://localhost:8080/",
          "height": 34
        },
        "outputId": "9ec754e9-bb5f-442c-9cd5-9dcd08c9a6c7"
      },
      "source": [
        "type(False)"
      ],
      "execution_count": null,
      "outputs": [
        {
          "output_type": "execute_result",
          "data": {
            "text/plain": [
              "bool"
            ]
          },
          "metadata": {
            "tags": []
          },
          "execution_count": 32
        }
      ]
    },
    {
      "cell_type": "code",
      "metadata": {
        "id": "Evro4roAMuzW",
        "colab_type": "code",
        "colab": {
          "base_uri": "https://localhost:8080/",
          "height": 34
        },
        "outputId": "e4bbd059-10e7-414f-aabb-11131a05c491"
      },
      "source": [
        "int(True)"
      ],
      "execution_count": null,
      "outputs": [
        {
          "output_type": "execute_result",
          "data": {
            "text/plain": [
              "1"
            ]
          },
          "metadata": {
            "tags": []
          },
          "execution_count": 33
        }
      ]
    },
    {
      "cell_type": "code",
      "metadata": {
        "id": "eXQ6fjQw-N3C",
        "colab_type": "code",
        "colab": {
          "base_uri": "https://localhost:8080/",
          "height": 34
        },
        "outputId": "9fd4d7d1-6a9c-43ec-8715-2aaa53c36977"
      },
      "source": [
        "float(True)"
      ],
      "execution_count": null,
      "outputs": [
        {
          "output_type": "execute_result",
          "data": {
            "text/plain": [
              "1.0"
            ]
          },
          "metadata": {
            "tags": []
          },
          "execution_count": 76
        }
      ]
    },
    {
      "cell_type": "code",
      "metadata": {
        "id": "eC-3TfB2M1yb",
        "colab_type": "code",
        "colab": {
          "base_uri": "https://localhost:8080/",
          "height": 34
        },
        "outputId": "75c1dd74-2e83-4345-a645-3dd43fce2f17"
      },
      "source": [
        "int(False)"
      ],
      "execution_count": null,
      "outputs": [
        {
          "output_type": "execute_result",
          "data": {
            "text/plain": [
              "0"
            ]
          },
          "metadata": {
            "tags": []
          },
          "execution_count": 34
        }
      ]
    },
    {
      "cell_type": "code",
      "metadata": {
        "id": "xw0EGvTeM4CD",
        "colab_type": "code",
        "colab": {
          "base_uri": "https://localhost:8080/",
          "height": 34
        },
        "outputId": "d81baa1f-3005-4040-d627-66e2441ef796"
      },
      "source": [
        "bool(1.0)"
      ],
      "execution_count": null,
      "outputs": [
        {
          "output_type": "execute_result",
          "data": {
            "text/plain": [
              "True"
            ]
          },
          "metadata": {
            "tags": []
          },
          "execution_count": 75
        }
      ]
    },
    {
      "cell_type": "code",
      "metadata": {
        "id": "Gk7vcjcoM95t",
        "colab_type": "code",
        "colab": {
          "base_uri": "https://localhost:8080/",
          "height": 34
        },
        "outputId": "cdf4cae3-40ee-43ff-cbd8-5b45c444d0a9"
      },
      "source": [
        "bool(0)"
      ],
      "execution_count": null,
      "outputs": [
        {
          "output_type": "execute_result",
          "data": {
            "text/plain": [
              "False"
            ]
          },
          "metadata": {
            "tags": []
          },
          "execution_count": 36
        }
      ]
    },
    {
      "cell_type": "markdown",
      "metadata": {
        "id": "5MiUqn8VPGL0",
        "colab_type": "text"
      },
      "source": [
        "---\n",
        "***\n",
        "___\n"
      ]
    },
    {
      "cell_type": "markdown",
      "metadata": {
        "id": "zspAe_zmSWBI",
        "colab_type": "text"
      },
      "source": [
        "# Expressions and Variables"
      ]
    },
    {
      "cell_type": "markdown",
      "metadata": {
        "id": "j5WK8-s6WJqI",
        "colab_type": "text"
      },
      "source": [
        "##expressions"
      ]
    },
    {
      "cell_type": "markdown",
      "metadata": {
        "id": "JWqC6QxzTiH5",
        "colab_type": "text"
      },
      "source": [
        "> expressions describe type of operations, performed by python"
      ]
    },
    {
      "cell_type": "code",
      "metadata": {
        "id": "Por_0NKiTnwo",
        "colab_type": "code",
        "colab": {
          "base_uri": "https://localhost:8080/",
          "height": 34
        },
        "outputId": "6f01d4f6-3493-44f2-e3c1-9bc6f26fbdd1"
      },
      "source": [
        "55+54 #numbers are operands, math symbols are operators"
      ],
      "execution_count": null,
      "outputs": [
        {
          "output_type": "execute_result",
          "data": {
            "text/plain": [
              "109"
            ]
          },
          "metadata": {
            "tags": []
          },
          "execution_count": 39
        }
      ]
    },
    {
      "cell_type": "code",
      "metadata": {
        "id": "i34nPQ3OTyB5",
        "colab_type": "code",
        "colab": {
          "base_uri": "https://localhost:8080/",
          "height": 34
        },
        "outputId": "be679b8d-8b33-4d83-9802-0000ab50302b"
      },
      "source": [
        "495-51"
      ],
      "execution_count": null,
      "outputs": [
        {
          "output_type": "execute_result",
          "data": {
            "text/plain": [
              "444"
            ]
          },
          "metadata": {
            "tags": []
          },
          "execution_count": 40
        }
      ]
    },
    {
      "cell_type": "code",
      "metadata": {
        "id": "lVbSmTi9Tzwd",
        "colab_type": "code",
        "colab": {
          "base_uri": "https://localhost:8080/",
          "height": 34
        },
        "outputId": "3693277a-a2a4-4f84-ca0a-0f0eae4336eb"
      },
      "source": [
        "55489*54"
      ],
      "execution_count": null,
      "outputs": [
        {
          "output_type": "execute_result",
          "data": {
            "text/plain": [
              "2996406"
            ]
          },
          "metadata": {
            "tags": []
          },
          "execution_count": 41
        }
      ]
    },
    {
      "cell_type": "code",
      "metadata": {
        "id": "2RZDS5zMvl98",
        "colab_type": "code",
        "colab": {
          "base_uri": "https://localhost:8080/",
          "height": 34
        },
        "outputId": "5a716aea-2a56-4540-d13e-7397ba0924b7"
      },
      "source": [
        "x = 1/1         #after divsion u get float type\n",
        "x"
      ],
      "execution_count": null,
      "outputs": [
        {
          "output_type": "execute_result",
          "data": {
            "text/plain": [
              "1.0"
            ]
          },
          "metadata": {
            "tags": []
          },
          "execution_count": 79
        }
      ]
    },
    {
      "cell_type": "code",
      "metadata": {
        "id": "oo4Fw4BN-sWZ",
        "colab_type": "code",
        "colab": {
          "base_uri": "https://localhost:8080/",
          "height": 34
        },
        "outputId": "a4121367-0f50-46be-cbed-f272135c51ee"
      },
      "source": [
        "type(x)"
      ],
      "execution_count": null,
      "outputs": [
        {
          "output_type": "execute_result",
          "data": {
            "text/plain": [
              "float"
            ]
          },
          "metadata": {
            "tags": []
          },
          "execution_count": 80
        }
      ]
    },
    {
      "cell_type": "code",
      "metadata": {
        "id": "zrKT--VkT2YU",
        "colab_type": "code",
        "colab": {
          "base_uri": "https://localhost:8080/",
          "height": 34
        },
        "outputId": "f7fcc5a7-8573-41bc-aaf4-420779b833be"
      },
      "source": [
        "515519/15"
      ],
      "execution_count": null,
      "outputs": [
        {
          "output_type": "execute_result",
          "data": {
            "text/plain": [
              "34367.933333333334"
            ]
          },
          "metadata": {
            "tags": []
          },
          "execution_count": 42
        }
      ]
    },
    {
      "cell_type": "code",
      "metadata": {
        "id": "kbsgRAXkT6ty",
        "colab_type": "code",
        "colab": {
          "base_uri": "https://localhost:8080/",
          "height": 34
        },
        "outputId": "996c4753-c11d-43c3-b78c-1960ade3334c"
      },
      "source": [
        "y = 515519//15  #integer division (rounds off), we get integer type\n",
        "y "
      ],
      "execution_count": null,
      "outputs": [
        {
          "output_type": "execute_result",
          "data": {
            "text/plain": [
              "34367"
            ]
          },
          "metadata": {
            "tags": []
          },
          "execution_count": 81
        }
      ]
    },
    {
      "cell_type": "code",
      "metadata": {
        "id": "jLnxmtgF-2oT",
        "colab_type": "code",
        "colab": {
          "base_uri": "https://localhost:8080/",
          "height": 34
        },
        "outputId": "83fdddee-ee35-43a9-e338-a62d2f580ea8"
      },
      "source": [
        "type(y)"
      ],
      "execution_count": null,
      "outputs": [
        {
          "output_type": "execute_result",
          "data": {
            "text/plain": [
              "int"
            ]
          },
          "metadata": {
            "tags": []
          },
          "execution_count": 82
        }
      ]
    },
    {
      "cell_type": "code",
      "metadata": {
        "id": "dpacWqxvT-Y1",
        "colab_type": "code",
        "colab": {
          "base_uri": "https://localhost:8080/",
          "height": 34
        },
        "outputId": "5fa230ad-298f-435f-a8e1-3b20b5cf7059"
      },
      "source": [
        "54594+545-515/54+15*325  #BODMAS"
      ],
      "execution_count": null,
      "outputs": [
        {
          "output_type": "execute_result",
          "data": {
            "text/plain": [
              "60004.46296296296"
            ]
          },
          "metadata": {
            "tags": []
          },
          "execution_count": 44
        }
      ]
    },
    {
      "cell_type": "markdown",
      "metadata": {
        "id": "tOUV-dBfWQVj",
        "colab_type": "text"
      },
      "source": [
        "##variables"
      ]
    },
    {
      "cell_type": "markdown",
      "metadata": {
        "id": "2XeoohV4WYHu",
        "colab_type": "text"
      },
      "source": [
        ">variables are used to store values"
      ]
    },
    {
      "cell_type": "code",
      "metadata": {
        "id": "ErgBaRoQWT6C",
        "colab_type": "code",
        "colab": {
          "base_uri": "https://localhost:8080/",
          "height": 34
        },
        "outputId": "55c0a074-7820-4924-80cf-7a503d3f34ef"
      },
      "source": [
        "a = 5954\n",
        "a"
      ],
      "execution_count": null,
      "outputs": [
        {
          "output_type": "execute_result",
          "data": {
            "text/plain": [
              "5954"
            ]
          },
          "metadata": {
            "tags": []
          },
          "execution_count": 45
        }
      ]
    },
    {
      "cell_type": "code",
      "metadata": {
        "id": "M9h2RGN3XBxx",
        "colab_type": "code",
        "colab": {
          "base_uri": "https://localhost:8080/",
          "height": 34
        },
        "outputId": "13ebe06d-3ee8-4d76-900f-3b18eabeb830"
      },
      "source": [
        "a = 52 #assignining new value makes previous value invalid \n",
        "a"
      ],
      "execution_count": null,
      "outputs": [
        {
          "output_type": "execute_result",
          "data": {
            "text/plain": [
              "52"
            ]
          },
          "metadata": {
            "tags": []
          },
          "execution_count": 47
        }
      ]
    },
    {
      "cell_type": "code",
      "metadata": {
        "id": "IM6i70WtbusE",
        "colab_type": "code",
        "colab": {
          "base_uri": "https://localhost:8080/",
          "height": 34
        },
        "outputId": "a5f69313-e17e-4b70-8c39-091b612e382d"
      },
      "source": [
        "x = 45+54-540/54\n",
        "x"
      ],
      "execution_count": null,
      "outputs": [
        {
          "output_type": "execute_result",
          "data": {
            "text/plain": [
              "89.0"
            ]
          },
          "metadata": {
            "tags": []
          },
          "execution_count": 50
        }
      ]
    },
    {
      "cell_type": "code",
      "metadata": {
        "id": "QQbJgae4b46u",
        "colab_type": "code",
        "colab": {
          "base_uri": "https://localhost:8080/",
          "height": 34
        },
        "outputId": "2f6f9591-35b7-42dd-cc73-e6ba8bd56802"
      },
      "source": [
        "type(x)"
      ],
      "execution_count": null,
      "outputs": [
        {
          "output_type": "execute_result",
          "data": {
            "text/plain": [
              "float"
            ]
          },
          "metadata": {
            "tags": []
          },
          "execution_count": 51
        }
      ]
    },
    {
      "cell_type": "code",
      "metadata": {
        "id": "dbCG34brcG9Z",
        "colab_type": "code",
        "colab": {
          "base_uri": "https://localhost:8080/",
          "height": 34
        },
        "outputId": "0dea41c9-1ef6-49b0-bb1f-1e6b988c8d18"
      },
      "source": [
        "y = x/4\n",
        "y"
      ],
      "execution_count": null,
      "outputs": [
        {
          "output_type": "execute_result",
          "data": {
            "text/plain": [
              "22.25"
            ]
          },
          "metadata": {
            "tags": []
          },
          "execution_count": 53
        }
      ]
    },
    {
      "cell_type": "code",
      "metadata": {
        "id": "3yLlwSdkcMhU",
        "colab_type": "code",
        "colab": {
          "base_uri": "https://localhost:8080/",
          "height": 34
        },
        "outputId": "6325ed9c-5bba-4ec3-e6d1-b2f5e54b5c91"
      },
      "source": [
        "x = x/2\n",
        "x              #old value will be obsolete"
      ],
      "execution_count": null,
      "outputs": [
        {
          "output_type": "execute_result",
          "data": {
            "text/plain": [
              "22.25"
            ]
          },
          "metadata": {
            "tags": []
          },
          "execution_count": 56
        }
      ]
    },
    {
      "cell_type": "markdown",
      "metadata": {
        "id": "MLsgnhdivGDU",
        "colab_type": "text"
      },
      "source": [
        ">use appropriate names for variable..for time..totalMinutes or total_minutes"
      ]
    },
    {
      "cell_type": "markdown",
      "metadata": {
        "id": "T2D6gLLcvTdk",
        "colab_type": "text"
      },
      "source": [
        "---\n",
        "---\n",
        "---"
      ]
    },
    {
      "cell_type": "markdown",
      "metadata": {
        "id": "9Befe6C5Nq06",
        "colab_type": "text"
      },
      "source": [
        "#String Operations"
      ]
    },
    {
      "cell_type": "markdown",
      "metadata": {
        "id": "EuIHywjxPs1-",
        "colab_type": "text"
      },
      "source": [
        "## Lab 1.2"
      ]
    },
    {
      "cell_type": "markdown",
      "metadata": {
        "id": "sEqE-bG5QPaT",
        "colab_type": "text"
      },
      "source": [
        "> In Python, a string is a sequence of characters. A string is contained within two quotes. You could also use single quotes. A string can be spaces or digits. A string can also be special characters. We can bind or assign a string to another variable. It is helpful to think of a string as an ordered sequence. Each element in the sequence can be accessed using an index represented by the array of numbers."
      ]
    },
    {
      "cell_type": "markdown",
      "metadata": {
        "id": "xIM-ZXynQ-ES",
        "colab_type": "text"
      },
      "source": [
        ">**Indexing**: \n",
        "\n",
        ">Because indexing starts at 0, it means the first index is on the index 0."
      ]
    },
    {
      "cell_type": "code",
      "metadata": {
        "id": "eXMOVnBE5un3",
        "colab_type": "code",
        "colab": {
          "base_uri": "https://localhost:8080/",
          "height": 34
        },
        "outputId": "7de08e58-ee8b-407c-8331-dee5e65a8222"
      },
      "source": [
        "Name = ('Elon Musk')\n",
        "print(Name[0])"
      ],
      "execution_count": null,
      "outputs": [
        {
          "output_type": "stream",
          "text": [
            "E\n"
          ],
          "name": "stdout"
        }
      ]
    },
    {
      "cell_type": "code",
      "metadata": {
        "id": "bxMm3f42RH7V",
        "colab_type": "code",
        "colab": {
          "base_uri": "https://localhost:8080/",
          "height": 34
        },
        "outputId": "5ea8e1d8-58d9-446c-ec7c-c2619e968ce1"
      },
      "source": [
        "print(Name[6])"
      ],
      "execution_count": null,
      "outputs": [
        {
          "output_type": "stream",
          "text": [
            "u\n"
          ],
          "name": "stdout"
        }
      ]
    },
    {
      "cell_type": "code",
      "metadata": {
        "id": "OsB_Kc2-R9w1",
        "colab_type": "code",
        "colab": {
          "base_uri": "https://localhost:8080/",
          "height": 34
        },
        "outputId": "ff65fa2f-19ea-4568-c3ec-3698c03729c7"
      },
      "source": [
        "print(Name[8])"
      ],
      "execution_count": null,
      "outputs": [
        {
          "output_type": "stream",
          "text": [
            "k\n"
          ],
          "name": "stdout"
        }
      ]
    },
    {
      "cell_type": "code",
      "metadata": {
        "id": "_MSX2X-xR3zm",
        "colab_type": "code",
        "colab": {
          "base_uri": "https://localhost:8080/",
          "height": 162
        },
        "outputId": "6fe22d89-b7d6-40a4-9ea3-9c8ed032a985"
      },
      "source": [
        "print(Name[9])"
      ],
      "execution_count": null,
      "outputs": [
        {
          "output_type": "error",
          "ename": "IndexError",
          "evalue": "ignored",
          "traceback": [
            "\u001b[0;31m---------------------------------------------------------------------------\u001b[0m",
            "\u001b[0;31mIndexError\u001b[0m                                Traceback (most recent call last)",
            "\u001b[0;32m<ipython-input-87-84d266d15ed0>\u001b[0m in \u001b[0;36m<module>\u001b[0;34m()\u001b[0m\n\u001b[0;32m----> 1\u001b[0;31m \u001b[0mprint\u001b[0m\u001b[0;34m(\u001b[0m\u001b[0mName\u001b[0m\u001b[0;34m[\u001b[0m\u001b[0;36m9\u001b[0m\u001b[0;34m]\u001b[0m\u001b[0;34m)\u001b[0m\u001b[0;34m\u001b[0m\u001b[0;34m\u001b[0m\u001b[0m\n\u001b[0m",
            "\u001b[0;31mIndexError\u001b[0m: string index out of range"
          ]
        }
      ]
    },
    {
      "cell_type": "markdown",
      "metadata": {
        "id": "HMtSLsxmRrFp",
        "colab_type": "text"
      },
      "source": [
        ">We can also use negative indexing with strings:"
      ]
    },
    {
      "cell_type": "code",
      "metadata": {
        "id": "DUT1ABLIRPJ7",
        "colab_type": "code",
        "colab": {
          "base_uri": "https://localhost:8080/",
          "height": 34
        },
        "outputId": "d48cf5f9-1ead-41cd-f55b-b9c4fae1302a"
      },
      "source": [
        "print(Name[-1])"
      ],
      "execution_count": null,
      "outputs": [
        {
          "output_type": "stream",
          "text": [
            "k\n"
          ],
          "name": "stdout"
        }
      ]
    },
    {
      "cell_type": "code",
      "metadata": {
        "id": "_mVw8BH0Rv63",
        "colab_type": "code",
        "colab": {
          "base_uri": "https://localhost:8080/",
          "height": 34
        },
        "outputId": "24b3a2a5-24d4-4188-b2ba-5cccbd028608"
      },
      "source": [
        "print(Name[-9])"
      ],
      "execution_count": null,
      "outputs": [
        {
          "output_type": "stream",
          "text": [
            "E\n"
          ],
          "name": "stdout"
        }
      ]
    },
    {
      "cell_type": "markdown",
      "metadata": {
        "id": "8ypd3rmOSNQb",
        "colab_type": "text"
      },
      "source": [
        ">We can find the number of characters in a string by using <code>len</code>, short for length:"
      ]
    },
    {
      "cell_type": "code",
      "metadata": {
        "id": "VMBX1_s_SB_5",
        "colab_type": "code",
        "colab": {
          "base_uri": "https://localhost:8080/",
          "height": 34
        },
        "outputId": "225b3034-da3d-4b3a-900c-8b379744ca8c"
      },
      "source": [
        "len(Name)"
      ],
      "execution_count": null,
      "outputs": [
        {
          "output_type": "execute_result",
          "data": {
            "text/plain": [
              "9"
            ]
          },
          "metadata": {
            "tags": []
          },
          "execution_count": 90
        }
      ]
    },
    {
      "cell_type": "code",
      "metadata": {
        "id": "Q1bSF6WKSH0C",
        "colab_type": "code",
        "colab": {
          "base_uri": "https://localhost:8080/",
          "height": 34
        },
        "outputId": "715e81d1-08cd-4ed5-f8e0-536f96e9be4a"
      },
      "source": [
        "len('ewfhywbehfwbeihbwiuecnweufnwue')"
      ],
      "execution_count": null,
      "outputs": [
        {
          "output_type": "execute_result",
          "data": {
            "text/plain": [
              "30"
            ]
          },
          "metadata": {
            "tags": []
          },
          "execution_count": 91
        }
      ]
    },
    {
      "cell_type": "markdown",
      "metadata": {
        "id": "grAX-n5eShfg",
        "colab_type": "text"
      },
      "source": [
        "> **Slicing**:\n",
        "\n",
        ">We can obtain multiple characters from a string using slicing"
      ]
    },
    {
      "cell_type": "code",
      "metadata": {
        "id": "w6gBjVYZSVzx",
        "colab_type": "code",
        "colab": {
          "base_uri": "https://localhost:8080/",
          "height": 34
        },
        "outputId": "f9496382-7dff-49ca-8a88-189c80bf9ef5"
      },
      "source": [
        "Name[0:4]   #till before index 4..slice on variable Name with only index 0 to index 3"
      ],
      "execution_count": null,
      "outputs": [
        {
          "output_type": "execute_result",
          "data": {
            "text/plain": [
              "'Elon'"
            ]
          },
          "metadata": {
            "tags": []
          },
          "execution_count": 94
        }
      ]
    },
    {
      "cell_type": "code",
      "metadata": {
        "id": "U8Yp96bbS6Zu",
        "colab_type": "code",
        "colab": {
          "base_uri": "https://localhost:8080/",
          "height": 34
        },
        "outputId": "e644153e-ee53-4fd5-c118-c4a88a9b2f3d"
      },
      "source": [
        "  Name[5:9]"
      ],
      "execution_count": null,
      "outputs": [
        {
          "output_type": "execute_result",
          "data": {
            "text/plain": [
              "'Musk'"
            ]
          },
          "metadata": {
            "tags": []
          },
          "execution_count": 97
        }
      ]
    },
    {
      "cell_type": "markdown",
      "metadata": {
        "id": "o0q7_cQiT9es",
        "colab_type": "text"
      },
      "source": [
        ">**Stride**:\n",
        "\n",
        ">We can also input a stride value as follows, with the '2' indicating that we are selecting every second variable:"
      ]
    },
    {
      "cell_type": "code",
      "metadata": {
        "id": "N3NZDkxuTW8p",
        "colab_type": "code",
        "colab": {
          "base_uri": "https://localhost:8080/",
          "height": 34
        },
        "outputId": "2f149b3a-2cd0-4f6e-bb9b-3f25164d28fa"
      },
      "source": [
        "Name[::2] # Get every second element, starting from index 0"
      ],
      "execution_count": null,
      "outputs": [
        {
          "output_type": "execute_result",
          "data": {
            "text/plain": [
              "'Eo uk'"
            ]
          },
          "metadata": {
            "tags": []
          },
          "execution_count": 98
        }
      ]
    },
    {
      "cell_type": "code",
      "metadata": {
        "id": "Ir4U4-aSUGhZ",
        "colab_type": "code",
        "colab": {
          "base_uri": "https://localhost:8080/",
          "height": 34
        },
        "outputId": "c1f06054-a214-465e-82ad-0e64cd54a331"
      },
      "source": [
        "Name[::3]"
      ],
      "execution_count": null,
      "outputs": [
        {
          "output_type": "execute_result",
          "data": {
            "text/plain": [
              "'Enu'"
            ]
          },
          "metadata": {
            "tags": []
          },
          "execution_count": 99
        }
      ]
    },
    {
      "cell_type": "code",
      "metadata": {
        "id": "0ZU7hw34Uc64",
        "colab_type": "code",
        "colab": {
          "base_uri": "https://localhost:8080/",
          "height": 34
        },
        "outputId": "408611e2-e20b-4d51-ba01-78c9b78121be"
      },
      "source": [
        "Name[::1]"
      ],
      "execution_count": null,
      "outputs": [
        {
          "output_type": "execute_result",
          "data": {
            "text/plain": [
              "'Elon Musk'"
            ]
          },
          "metadata": {
            "tags": []
          },
          "execution_count": 100
        }
      ]
    },
    {
      "cell_type": "markdown",
      "metadata": {
        "id": "DsBTjBKFU3Vq",
        "colab_type": "text"
      },
      "source": [
        ">We can also incorporate slicing with the stride. In this case, we select the first five elements and then use the stride:"
      ]
    },
    {
      "cell_type": "code",
      "metadata": {
        "id": "-BU9PLr2Up80",
        "colab_type": "code",
        "colab": {
          "base_uri": "https://localhost:8080/",
          "height": 34
        },
        "outputId": "a5837807-eb8c-480f-e8d5-93ebbcc0a2ab"
      },
      "source": [
        "# Get every second element in the range from index 0 to index 4\n",
        "Name[0:5:2]"
      ],
      "execution_count": null,
      "outputs": [
        {
          "output_type": "execute_result",
          "data": {
            "text/plain": [
              "'Eo '"
            ]
          },
          "metadata": {
            "tags": []
          },
          "execution_count": 101
        }
      ]
    },
    {
      "cell_type": "code",
      "metadata": {
        "id": "oLf4WJKTVGyz",
        "colab_type": "code",
        "colab": {
          "base_uri": "https://localhost:8080/",
          "height": 34
        },
        "outputId": "a30f1c0f-15c3-4330-a87d-13836e589987"
      },
      "source": [
        "Name[0:9:2]"
      ],
      "execution_count": null,
      "outputs": [
        {
          "output_type": "execute_result",
          "data": {
            "text/plain": [
              "'Eo uk'"
            ]
          },
          "metadata": {
            "tags": []
          },
          "execution_count": 102
        }
      ]
    },
    {
      "cell_type": "markdown",
      "metadata": {
        "id": "ylXtDzWLVbOl",
        "colab_type": "text"
      },
      "source": [
        ">**Concatenate Strings**:\n",
        "\n",
        ">We can concatenate or combine strings by using the addition symbols, and the result is a new string that is a combination of both:"
      ]
    },
    {
      "cell_type": "code",
      "metadata": {
        "id": "5l7wlVIPVPFb",
        "colab_type": "code",
        "colab": {
          "base_uri": "https://localhost:8080/",
          "height": 34
        },
        "outputId": "d4fa3510-1ba9-4538-8582-eabce3783563"
      },
      "source": [
        "Statement = Name + ' is the best'\n",
        "Statement"
      ],
      "execution_count": null,
      "outputs": [
        {
          "output_type": "execute_result",
          "data": {
            "text/plain": [
              "'Elon Musk is the best'"
            ]
          },
          "metadata": {
            "tags": []
          },
          "execution_count": 106
        }
      ]
    },
    {
      "cell_type": "markdown",
      "metadata": {
        "id": "0v58jSWTWVuH",
        "colab_type": "text"
      },
      "source": [
        "> Tule: To replicate values of a string"
      ]
    },
    {
      "cell_type": "code",
      "metadata": {
        "id": "8ySv7dWdVtQL",
        "colab_type": "code",
        "colab": {
          "base_uri": "https://localhost:8080/",
          "height": 34
        },
        "outputId": "a134ef69-ea48-4b99-b746-811da1ca40de"
      },
      "source": [
        "z = 3 * Name\n",
        "z"
      ],
      "execution_count": null,
      "outputs": [
        {
          "output_type": "execute_result",
          "data": {
            "text/plain": [
              "'Elon MuskElon MuskElon Musk'"
            ]
          },
          "metadata": {
            "tags": []
          },
          "execution_count": 111
        }
      ]
    },
    {
      "cell_type": "markdown",
      "metadata": {
        "id": "ZolggH29XYyN",
        "colab_type": "text"
      },
      "source": [
        ">**Escape Sequences**:\n",
        "\n",
        ">Back slashes represent the beginning of escape sequences. Escape sequences represent strings that may be difficult to input. For example, back slash \"n\" represents a new line. The output is given by a new line after the back slash \"n\" is encountered:"
      ]
    },
    {
      "cell_type": "code",
      "metadata": {
        "id": "YPBURfJIXRZp",
        "colab_type": "code",
        "colab": {
          "base_uri": "https://localhost:8080/",
          "height": 50
        },
        "outputId": "f4e9de0c-48b4-4587-f5af-2ec80951a302"
      },
      "source": [
        "print('elon musk \\nis the best')"
      ],
      "execution_count": null,
      "outputs": [
        {
          "output_type": "stream",
          "text": [
            "elon musk \n",
            "is the best\n"
          ],
          "name": "stdout"
        }
      ]
    },
    {
      "cell_type": "code",
      "metadata": {
        "id": "_ZsmLw3lYGAk",
        "colab_type": "code",
        "colab": {
          "base_uri": "https://localhost:8080/",
          "height": 34
        },
        "outputId": "52aaef0d-81ef-4d51-9fab-96a9514cf41a"
      },
      "source": [
        "print('elon musk \\tis the best') #back slash \"t\" represents a tab"
      ],
      "execution_count": null,
      "outputs": [
        {
          "output_type": "stream",
          "text": [
            "elon musk \tis the best\n"
          ],
          "name": "stdout"
        }
      ]
    },
    {
      "cell_type": "code",
      "metadata": {
        "id": "EpsFEjR_YRzc",
        "colab_type": "code",
        "colab": {
          "base_uri": "https://localhost:8080/",
          "height": 34
        },
        "outputId": "8cf0a036-e003-40f2-cb1e-4b4b8baf6f7e"
      },
      "source": [
        "#If you want to place a back slash in your string, use a double back slash:\n",
        "print('elon musk \\\\ is the best')"
      ],
      "execution_count": null,
      "outputs": [
        {
          "output_type": "stream",
          "text": [
            "elon musk \\ is the best\n"
          ],
          "name": "stdout"
        }
      ]
    },
    {
      "cell_type": "code",
      "metadata": {
        "id": "PpxBaYo7Ylm_",
        "colab_type": "code",
        "colab": {
          "base_uri": "https://localhost:8080/",
          "height": 34
        },
        "outputId": "5cccf7c8-0bc7-45bc-e5bb-bf90d3799739"
      },
      "source": [
        "print(r'elon musk \\ is the best')"
      ],
      "execution_count": null,
      "outputs": [
        {
          "output_type": "stream",
          "text": [
            "elon musk \\ is the best\n"
          ],
          "name": "stdout"
        }
      ]
    },
    {
      "cell_type": "code",
      "metadata": {
        "id": "vBBQKfioYs2c",
        "colab_type": "code",
        "colab": {
          "base_uri": "https://localhost:8080/",
          "height": 34
        },
        "outputId": "de069e9b-60cd-4f14-c7fe-ffc7530b3df1"
      },
      "source": [
        "print('elon musk \\ is the best')"
      ],
      "execution_count": null,
      "outputs": [
        {
          "output_type": "stream",
          "text": [
            "elon musk \\ is the best\n"
          ],
          "name": "stdout"
        }
      ]
    },
    {
      "cell_type": "markdown",
      "metadata": {
        "id": "_hY8tosSY_uC",
        "colab_type": "text"
      },
      "source": [
        ">**String Operations**: \n",
        "\n",
        ">Let's try with the method <code>upper</code>; this method converts lower case characters to upper case characters:"
      ]
    },
    {
      "cell_type": "code",
      "metadata": {
        "id": "q9G9ZqdBY6NH",
        "colab_type": "code",
        "colab": {
          "base_uri": "https://localhost:8080/",
          "height": 34
        },
        "outputId": "e1f414fb-09b9-478a-eaa0-559e16b3fb49"
      },
      "source": [
        "D = 'dsuweuwehcbwijebwje'\n",
        "E = D.upper()\n",
        "E"
      ],
      "execution_count": null,
      "outputs": [
        {
          "output_type": "execute_result",
          "data": {
            "text/plain": [
              "'DSUWEUWEHCBWIJEBWJE'"
            ]
          },
          "metadata": {
            "tags": []
          },
          "execution_count": 129
        }
      ]
    },
    {
      "cell_type": "code",
      "metadata": {
        "id": "Xr--ChciaJzR",
        "colab_type": "code",
        "colab": {
          "base_uri": "https://localhost:8080/",
          "height": 34
        },
        "outputId": "933a45e4-03ca-4bac-d5e1-012f5d80fb7f"
      },
      "source": [
        "F = E.lower()\n",
        "F"
      ],
      "execution_count": null,
      "outputs": [
        {
          "output_type": "execute_result",
          "data": {
            "text/plain": [
              "'dsuweuwehcbwijebwje'"
            ]
          },
          "metadata": {
            "tags": []
          },
          "execution_count": 131
        }
      ]
    },
    {
      "cell_type": "markdown",
      "metadata": {
        "id": "QlfpNs6Tavzz",
        "colab_type": "text"
      },
      "source": [
        ">The method <code>replace</code> replaces a segment of the string, i.e. a substring  with a new string. We input the part of the string we would like to change. The second argument is what we would like to exchange the segment with, and the result is a new string with the segment changed: \n"
      ]
    },
    {
      "cell_type": "code",
      "metadata": {
        "id": "MVCqka1oaaq2",
        "colab_type": "code",
        "colab": {
          "base_uri": "https://localhost:8080/",
          "height": 34
        },
        "outputId": "0f1910a6-f908-46cf-ff62-f7545440d5c3"
      },
      "source": [
        "G = Statement.replace('Elon', 'Jeff')\n",
        "G\n"
      ],
      "execution_count": null,
      "outputs": [
        {
          "output_type": "execute_result",
          "data": {
            "text/plain": [
              "'Jeff Musk is the best'"
            ]
          },
          "metadata": {
            "tags": []
          },
          "execution_count": 134
        }
      ]
    },
    {
      "cell_type": "markdown",
      "metadata": {
        "id": "KOtrvDYObeFZ",
        "colab_type": "text"
      },
      "source": [
        ">The method <code>find</code> finds a sub-string. The argument is the substring you would like to find, and the output is the first index of the sequence.\n"
      ]
    },
    {
      "cell_type": "code",
      "metadata": {
        "id": "UfA9QKs9a0g1",
        "colab_type": "code",
        "colab": {
          "base_uri": "https://localhost:8080/",
          "height": 34
        },
        "outputId": "1476fb10-014c-444d-8ecb-3b783bf5e2a0"
      },
      "source": [
        "G.find('be')   #gives the index value "
      ],
      "execution_count": null,
      "outputs": [
        {
          "output_type": "execute_result",
          "data": {
            "text/plain": [
              "17"
            ]
          },
          "metadata": {
            "tags": []
          },
          "execution_count": 136
        }
      ]
    },
    {
      "cell_type": "code",
      "metadata": {
        "id": "2IXIQnQtbrQl",
        "colab_type": "code",
        "colab": {
          "base_uri": "https://localhost:8080/",
          "height": 34
        },
        "outputId": "8efd3075-f383-49f7-bf57-12dca93c1221"
      },
      "source": [
        "G[17]"
      ],
      "execution_count": null,
      "outputs": [
        {
          "output_type": "execute_result",
          "data": {
            "text/plain": [
              "'b'"
            ]
          },
          "metadata": {
            "tags": []
          },
          "execution_count": 137
        }
      ]
    },
    {
      "cell_type": "code",
      "metadata": {
        "id": "pBtTWKRdcQvn",
        "colab_type": "code",
        "colab": {
          "base_uri": "https://localhost:8080/",
          "height": 34
        },
        "outputId": "bba61ee0-12f6-4d52-9513-5734254207d1"
      },
      "source": [
        "G.find('sk')"
      ],
      "execution_count": null,
      "outputs": [
        {
          "output_type": "execute_result",
          "data": {
            "text/plain": [
              "7"
            ]
          },
          "metadata": {
            "tags": []
          },
          "execution_count": 138
        }
      ]
    },
    {
      "cell_type": "code",
      "metadata": {
        "id": "HuvWN4cYcgTW",
        "colab_type": "code",
        "colab": {
          "base_uri": "https://localhost:8080/",
          "height": 34
        },
        "outputId": "33aaf69f-cdbe-4135-deda-6c68e86e96c3"
      },
      "source": [
        "G[7]"
      ],
      "execution_count": null,
      "outputs": [
        {
          "output_type": "execute_result",
          "data": {
            "text/plain": [
              "'s'"
            ]
          },
          "metadata": {
            "tags": []
          },
          "execution_count": 139
        }
      ]
    },
    {
      "cell_type": "code",
      "metadata": {
        "id": "xiLO8AHUchl0",
        "colab_type": "code",
        "colab": {
          "base_uri": "https://localhost:8080/",
          "height": 34
        },
        "outputId": "5b07dd65-cbb2-4378-f52a-9e8f66ca0eff"
      },
      "source": [
        "G.find('ewjecnwiejn')  #If the sub-string is not in the string then the output is a negative one"
      ],
      "execution_count": null,
      "outputs": [
        {
          "output_type": "execute_result",
          "data": {
            "text/plain": [
              "-1"
            ]
          },
          "metadata": {
            "tags": []
          },
          "execution_count": 140
        }
      ]
    },
    {
      "cell_type": "code",
      "metadata": {
        "id": "y1A5Sl5rcsmI",
        "colab_type": "code",
        "colab": {}
      },
      "source": [
        ""
      ],
      "execution_count": null,
      "outputs": []
    },
    {
      "cell_type": "markdown",
      "metadata": {
        "id": "-5eVpJmTYlkL",
        "colab_type": "text"
      },
      "source": [
        "#Lists and Tuple"
      ]
    },
    {
      "cell_type": "markdown",
      "metadata": {
        "id": "ZNAj_4vNfIzX",
        "colab_type": "text"
      },
      "source": [
        "##Tuple"
      ]
    },
    {
      "cell_type": "markdown",
      "metadata": {
        "id": "Yq8UfZVwfBvH",
        "colab_type": "text"
      },
      "source": [
        ">We will cover lists and tuples. These are called compound data types and are one of the key types of data structures in Python."
      ]
    },
    {
      "cell_type": "markdown",
      "metadata": {
        "id": "JqgoPBMIfWrR",
        "colab_type": "text"
      },
      "source": [
        ">Data structure: A collection of related values, often organized in lists, dictionaries,\n",
        "tuples, etc.\n"
      ]
    },
    {
      "cell_type": "markdown",
      "metadata": {
        "id": "HA4Y9MsNf99W",
        "colab_type": "text"
      },
      "source": [
        ">A tuple\n",
        "is a sequence of values much like a list. The values stored in a tuple can\n",
        "be any type, and they are indexed by integers. The important diﬀerence is that\n",
        "tuples are ***immutable***. Tuples are also ***comparable and hashable*** so we can sort lists\n",
        "of them and use tuples as key values in Python dictionaries."
      ]
    },
    {
      "cell_type": "code",
      "metadata": {
        "id": "1x3ua9MwYpJo",
        "colab_type": "code",
        "colab": {
          "base_uri": "https://localhost:8080/",
          "height": 34
        },
        "outputId": "d92fd2d5-e33d-49e9-82d7-35b885f0df81"
      },
      "source": [
        "t1 = ('dsfewf', 151, 54.215)\n",
        "type(t1)"
      ],
      "execution_count": null,
      "outputs": [
        {
          "output_type": "execute_result",
          "data": {
            "text/plain": [
              "tuple"
            ]
          },
          "metadata": {
            "tags": []
          },
          "execution_count": 1
        }
      ]
    },
    {
      "cell_type": "code",
      "metadata": {
        "id": "MLl_hrOLgxNF",
        "colab_type": "code",
        "colab": {
          "base_uri": "https://localhost:8080/",
          "height": 67
        },
        "outputId": "74cfbeb5-dbde-4430-b2a8-c580372dae06"
      },
      "source": [
        "# Indexing\n",
        "print(t1[0])\n",
        "print(t1[1])\n",
        "t1[2]"
      ],
      "execution_count": null,
      "outputs": [
        {
          "output_type": "stream",
          "text": [
            "dsfewf\n",
            "151\n"
          ],
          "name": "stdout"
        },
        {
          "output_type": "execute_result",
          "data": {
            "text/plain": [
              "54.215"
            ]
          },
          "metadata": {
            "tags": []
          },
          "execution_count": 5
        }
      ]
    },
    {
      "cell_type": "code",
      "metadata": {
        "id": "ZKnPI3ejhA24",
        "colab_type": "code",
        "colab": {
          "base_uri": "https://localhost:8080/",
          "height": 34
        },
        "outputId": "e86f42f8-b0b2-4aac-bfbd-7393f1f6d32e"
      },
      "source": [
        "#Negative indexing\n",
        "t1[-1]"
      ],
      "execution_count": null,
      "outputs": [
        {
          "output_type": "execute_result",
          "data": {
            "text/plain": [
              "54.215"
            ]
          },
          "metadata": {
            "tags": []
          },
          "execution_count": 6
        }
      ]
    },
    {
      "cell_type": "markdown",
      "metadata": {
        "id": "xjH7YnePhkfN",
        "colab_type": "text"
      },
      "source": [
        ">**Concatenate Tuples**: We can concatenate or combine tuples by using the + sign:"
      ]
    },
    {
      "cell_type": "code",
      "metadata": {
        "id": "GCVqE4NJhDbV",
        "colab_type": "code",
        "colab": {
          "base_uri": "https://localhost:8080/",
          "height": 34
        },
        "outputId": "219fcc69-44de-45bb-e745-8a6b73265c07"
      },
      "source": [
        "t2 = t1 + ('akmak', 21384.21, 47)\n",
        "t2"
      ],
      "execution_count": null,
      "outputs": [
        {
          "output_type": "execute_result",
          "data": {
            "text/plain": [
              "('dsfewf', 151, 54.215, 'akmak', 21384.21, 47)"
            ]
          },
          "metadata": {
            "tags": []
          },
          "execution_count": 7
        }
      ]
    },
    {
      "cell_type": "code",
      "metadata": {
        "id": "_k7Vc3aEh7sk",
        "colab_type": "code",
        "colab": {
          "base_uri": "https://localhost:8080/",
          "height": 34
        },
        "outputId": "5998903e-bf38-4bdb-85a1-58515cde4b37"
      },
      "source": [
        "#Slice\n",
        "t2[:3]"
      ],
      "execution_count": null,
      "outputs": [
        {
          "output_type": "execute_result",
          "data": {
            "text/plain": [
              "('dsfewf', 151, 54.215)"
            ]
          },
          "metadata": {
            "tags": []
          },
          "execution_count": 8
        }
      ]
    },
    {
      "cell_type": "code",
      "metadata": {
        "id": "zE8U6BDZiIFY",
        "colab_type": "code",
        "colab": {
          "base_uri": "https://localhost:8080/",
          "height": 34
        },
        "outputId": "d2ec31ad-6c84-4d7c-d630-e0a0a4633283"
      },
      "source": [
        "t2[3:6]"
      ],
      "execution_count": null,
      "outputs": [
        {
          "output_type": "execute_result",
          "data": {
            "text/plain": [
              "('akmak', 21384.21, 47)"
            ]
          },
          "metadata": {
            "tags": []
          },
          "execution_count": 9
        }
      ]
    },
    {
      "cell_type": "markdown",
      "metadata": {
        "id": "w39PJBU7p2kd",
        "colab_type": "text"
      },
      "source": [
        "> len(), sorted() these are functions. Commands are given by writing the variable within() of a function"
      ]
    },
    {
      "cell_type": "code",
      "metadata": {
        "id": "rz-V0ZN3iRze",
        "colab_type": "code",
        "colab": {
          "base_uri": "https://localhost:8080/",
          "height": 34
        },
        "outputId": "4a2fbe9d-b88a-42a4-8cbe-45301a169f0d"
      },
      "source": [
        "#length              \n",
        "len(t1)"
      ],
      "execution_count": null,
      "outputs": [
        {
          "output_type": "execute_result",
          "data": {
            "text/plain": [
              "3"
            ]
          },
          "metadata": {
            "tags": []
          },
          "execution_count": 10
        }
      ]
    },
    {
      "cell_type": "code",
      "metadata": {
        "id": "Yr3vaqeVik4l",
        "colab_type": "code",
        "colab": {
          "base_uri": "https://localhost:8080/",
          "height": 34
        },
        "outputId": "42e9cc11-8ebb-4e34-b3bd-e6a7051f5277"
      },
      "source": [
        "len(t2)"
      ],
      "execution_count": null,
      "outputs": [
        {
          "output_type": "execute_result",
          "data": {
            "text/plain": [
              "6"
            ]
          },
          "metadata": {
            "tags": []
          },
          "execution_count": 11
        }
      ]
    },
    {
      "cell_type": "code",
      "metadata": {
        "id": "hhPSzkwJinI-",
        "colab_type": "code",
        "colab": {
          "base_uri": "https://localhost:8080/",
          "height": 34
        },
        "outputId": "79d878cc-a09c-40d9-dd83-d163b4c97f6a"
      },
      "source": [
        "#Sorting\n",
        "t3 = (2,5,0,7,5,6,3,4,2,1)\n",
        "sorted_t3 = sorted(t3)\n",
        "sorted_t3"
      ],
      "execution_count": null,
      "outputs": [
        {
          "output_type": "execute_result",
          "data": {
            "text/plain": [
              "[0, 1, 2, 2, 3, 4, 5, 5, 6, 7]"
            ]
          },
          "metadata": {
            "tags": []
          },
          "execution_count": 13
        }
      ]
    },
    {
      "cell_type": "markdown",
      "metadata": {
        "id": "8hbzM_LEjSnZ",
        "colab_type": "text"
      },
      "source": [
        ">**Nested Tuple**: A tuple can contain another tuple as well as other more complex data types. This process is called 'nesting'. Consider the following tuple with several elements: "
      ]
    },
    {
      "cell_type": "code",
      "metadata": {
        "id": "dBC4kSO9jA2b",
        "colab_type": "code",
        "colab": {
          "base_uri": "https://localhost:8080/",
          "height": 101
        },
        "outputId": "b289b49b-2069-4c99-8353-94f02c584b69"
      },
      "source": [
        "nt = (1, 2, (\"pop\", \"rock\") ,(3,4),(\"disco\",(1,2)))\n",
        "#indexing\n",
        "print('element 1 of nt:', nt[0])\n",
        "print('element 2 of nt:', nt[1])\n",
        "print('element 3 of nt:', nt[2])\n",
        "print('element 4 of nt:', nt[3])\n",
        "print('element 5 of nt:', nt[4])\n"
      ],
      "execution_count": null,
      "outputs": [
        {
          "output_type": "stream",
          "text": [
            "element 1 of nt: 1\n",
            "element 2 of nt: 2\n",
            "element 3 of nt: ('pop', 'rock')\n",
            "element 4 of nt: (3, 4)\n",
            "element 5 of nt: ('disco', (1, 2))\n"
          ],
          "name": "stdout"
        }
      ]
    },
    {
      "cell_type": "code",
      "metadata": {
        "id": "P38jyVkSkAAa",
        "colab_type": "code",
        "colab": {
          "base_uri": "https://localhost:8080/",
          "height": 34
        },
        "outputId": "6c5514dd-54fe-4549-d174-fa4039e1e326"
      },
      "source": [
        "#We can use the second index to access other tuples \n",
        "nt[2][0]"
      ],
      "execution_count": null,
      "outputs": [
        {
          "output_type": "execute_result",
          "data": {
            "text/plain": [
              "'pop'"
            ]
          },
          "metadata": {
            "tags": []
          },
          "execution_count": 17
        }
      ]
    },
    {
      "cell_type": "code",
      "metadata": {
        "id": "G2E8CSfjlbUX",
        "colab_type": "code",
        "colab": {
          "base_uri": "https://localhost:8080/",
          "height": 34
        },
        "outputId": "5bf833e2-a995-4cee-af1d-17bd0a55cd92"
      },
      "source": [
        "nt[4][1]"
      ],
      "execution_count": null,
      "outputs": [
        {
          "output_type": "execute_result",
          "data": {
            "text/plain": [
              "(1, 2)"
            ]
          },
          "metadata": {
            "tags": []
          },
          "execution_count": 22
        }
      ]
    },
    {
      "cell_type": "code",
      "metadata": {
        "id": "qql9HBlilc5W",
        "colab_type": "code",
        "colab": {
          "base_uri": "https://localhost:8080/",
          "height": 34
        },
        "outputId": "648505d2-a11f-4123-b8df-26e78accb9db"
      },
      "source": [
        "#We can access strings in the second nested tuples using a third index:\n",
        "nt[4][1][0]"
      ],
      "execution_count": null,
      "outputs": [
        {
          "output_type": "execute_result",
          "data": {
            "text/plain": [
              "1"
            ]
          },
          "metadata": {
            "tags": []
          },
          "execution_count": 25
        }
      ]
    },
    {
      "cell_type": "code",
      "metadata": {
        "id": "BuOC4MYzmTwq",
        "colab_type": "code",
        "colab": {
          "base_uri": "https://localhost:8080/",
          "height": 34
        },
        "outputId": "db10735e-d5a7-42fc-cad7-8278a69fa2d4"
      },
      "source": [
        "nt[4][1][1]"
      ],
      "execution_count": null,
      "outputs": [
        {
          "output_type": "execute_result",
          "data": {
            "text/plain": [
              "2"
            ]
          },
          "metadata": {
            "tags": []
          },
          "execution_count": 26
        }
      ]
    },
    {
      "cell_type": "code",
      "metadata": {
        "id": "WBVam0ugmXC_",
        "colab_type": "code",
        "colab": {
          "base_uri": "https://localhost:8080/",
          "height": 34
        },
        "outputId": "b9a8a7c2-f115-4ddb-8003-ddc8b5a77ab5"
      },
      "source": [
        "#Finding the first index of elements\n",
        "nt.index(2)"
      ],
      "execution_count": null,
      "outputs": [
        {
          "output_type": "execute_result",
          "data": {
            "text/plain": [
              "1"
            ]
          },
          "metadata": {
            "tags": []
          },
          "execution_count": 29
        }
      ]
    },
    {
      "cell_type": "code",
      "metadata": {
        "id": "r8XDetHGnOBv",
        "colab_type": "code",
        "colab": {
          "base_uri": "https://localhost:8080/",
          "height": 34
        },
        "outputId": "866a87e5-1267-46e3-cbb7-e509fc4f2198"
      },
      "source": [
        "nt.index((3,4))"
      ],
      "execution_count": null,
      "outputs": [
        {
          "output_type": "execute_result",
          "data": {
            "text/plain": [
              "3"
            ]
          },
          "metadata": {
            "tags": []
          },
          "execution_count": 30
        }
      ]
    },
    {
      "cell_type": "code",
      "metadata": {
        "id": "1wxil6hjsJst",
        "colab_type": "code",
        "colab": {
          "base_uri": "https://localhost:8080/",
          "height": 34
        },
        "outputId": "c4a54e0e-bd68-48db-c3b1-25da7524f193"
      },
      "source": [
        "#tupples are immutable..cant change the value of an element\n",
        "print(t1)\n"
      ],
      "execution_count": null,
      "outputs": [
        {
          "output_type": "stream",
          "text": [
            "('dsfewf', 151, 54.215)\n"
          ],
          "name": "stdout"
        }
      ]
    },
    {
      "cell_type": "code",
      "metadata": {
        "id": "WHabCBwutIXF",
        "colab_type": "code",
        "colab": {
          "base_uri": "https://localhost:8080/",
          "height": 162
        },
        "outputId": "2328f7e8-30e0-4fa1-a72d-60a765a246a2"
      },
      "source": [
        "t1[1] = (354.2)"
      ],
      "execution_count": null,
      "outputs": [
        {
          "output_type": "error",
          "ename": "TypeError",
          "evalue": "ignored",
          "traceback": [
            "\u001b[0;31m---------------------------------------------------------------------------\u001b[0m",
            "\u001b[0;31mTypeError\u001b[0m                                 Traceback (most recent call last)",
            "\u001b[0;32m<ipython-input-40-4eecd8bcb24f>\u001b[0m in \u001b[0;36m<module>\u001b[0;34m()\u001b[0m\n\u001b[0;32m----> 1\u001b[0;31m \u001b[0mt1\u001b[0m\u001b[0;34m[\u001b[0m\u001b[0;36m1\u001b[0m\u001b[0;34m]\u001b[0m \u001b[0;34m=\u001b[0m \u001b[0;34m(\u001b[0m\u001b[0;36m354.2\u001b[0m\u001b[0;34m)\u001b[0m\u001b[0;34m\u001b[0m\u001b[0;34m\u001b[0m\u001b[0m\n\u001b[0m",
            "\u001b[0;31mTypeError\u001b[0m: 'tuple' object does not support item assignment"
          ]
        }
      ]
    },
    {
      "cell_type": "code",
      "metadata": {
        "id": "MuK6HC78tVZP",
        "colab_type": "code",
        "colab": {
          "base_uri": "https://localhost:8080/",
          "height": 50
        },
        "outputId": "5acdcb46-6db6-42b9-dee9-a96c96087fb0"
      },
      "source": [
        "#but we can assign new tupple to the same variable, and the old tuple will be obsolete\n",
        "t5 = t1  #value of t5 doesnt change even if we assign new tupple to t1..#immutable\n",
        "t1 = ('trwgttt',515.141,'rgwr')\n",
        "print(t1)\n",
        "print(t5)"
      ],
      "execution_count": null,
      "outputs": [
        {
          "output_type": "stream",
          "text": [
            "('trwgttt', 515.141, 'rgwr')\n",
            "('dsfewf', 151, 54.215)\n"
          ],
          "name": "stdout"
        }
      ]
    },
    {
      "cell_type": "markdown",
      "metadata": {
        "id": "O7YHnY-BuvZm",
        "colab_type": "text"
      },
      "source": [
        "##Lists"
      ]
    },
    {
      "cell_type": "markdown",
      "metadata": {
        "id": "LSLhDnSr7s_i",
        "colab_type": "text"
      },
      "source": [
        ">Like a string, a list is a sequence of values. In a string, the values are characters;\n",
        "in a list, they can be any type. The values in list are called elements or sometimes\n",
        "items."
      ]
    },
    {
      "cell_type": "markdown",
      "metadata": {
        "id": "fipLxeF_77vq",
        "colab_type": "text"
      },
      "source": [
        ">There are several ways to create a new list; the simplest is to enclose the elements\n",
        "in square brackets [ ]"
      ]
    },
    {
      "cell_type": "code",
      "metadata": {
        "id": "Srogbz6wuFc-",
        "colab_type": "code",
        "colab": {
          "base_uri": "https://localhost:8080/",
          "height": 34
        },
        "outputId": "de3326a2-0855-4ad1-e3c5-c811db337940"
      },
      "source": [
        "l = ['spam', 2.0, 5, [10, 20], ('efwve', 54)]\n",
        "type(l)"
      ],
      "execution_count": null,
      "outputs": [
        {
          "output_type": "execute_result",
          "data": {
            "text/plain": [
              "list"
            ]
          },
          "metadata": {
            "tags": []
          },
          "execution_count": 49
        }
      ]
    },
    {
      "cell_type": "markdown",
      "metadata": {
        "id": "n1xKxOD88qRU",
        "colab_type": "text"
      },
      "source": [
        ">nesting, index, slice similar to tupple"
      ]
    },
    {
      "cell_type": "code",
      "metadata": {
        "id": "qjbqBhV08WH1",
        "colab_type": "code",
        "colab": {
          "base_uri": "https://localhost:8080/",
          "height": 34
        },
        "outputId": "228bc9fc-7f44-4ec5-f35b-04bf758f1623"
      },
      "source": [
        "# extend() to add new elements to list\n",
        "l.extend(['hegcw', 547, 'e5w5'])\n",
        "l"
      ],
      "execution_count": null,
      "outputs": [
        {
          "output_type": "execute_result",
          "data": {
            "text/plain": [
              "['spam', 2.0, 5, [10, 20], ('efwve', 54), 'hegcw', 547, 'e5w5']"
            ]
          },
          "metadata": {
            "tags": []
          },
          "execution_count": 50
        }
      ]
    },
    {
      "cell_type": "code",
      "metadata": {
        "id": "JSyfkjZ99j1W",
        "colab_type": "code",
        "colab": {
          "base_uri": "https://localhost:8080/",
          "height": 34
        },
        "outputId": "06b61be4-3e1d-4c19-84bb-1457f943e5b1"
      },
      "source": [
        "#Another similar method is append. If we apply append instead of extend, we add one element to the list:\n",
        "l = ['spam', 2.0, 5, [10, 20], ('efwve', 54)]\n",
        "l.append(['popopo', 8491])\n",
        "l"
      ],
      "execution_count": null,
      "outputs": [
        {
          "output_type": "execute_result",
          "data": {
            "text/plain": [
              "['spam', 2.0, 5, [10, 20], ('efwve', 54), ['popopo', 8491]]"
            ]
          },
          "metadata": {
            "tags": []
          },
          "execution_count": 52
        }
      ]
    },
    {
      "cell_type": "code",
      "metadata": {
        "id": "Ez2C8-C3-HvD",
        "colab_type": "code",
        "colab": {
          "base_uri": "https://localhost:8080/",
          "height": 34
        },
        "outputId": "9750429d-7b0a-40e1-8b96-de432bb9792a"
      },
      "source": [
        "#As lists are mutable, we can change them.\n",
        "l[1] = 87\n",
        "l"
      ],
      "execution_count": null,
      "outputs": [
        {
          "output_type": "execute_result",
          "data": {
            "text/plain": [
              "['spam', 87, 5, [10, 20], ('efwve', 54), ['popopo', 8491]]"
            ]
          },
          "metadata": {
            "tags": []
          },
          "execution_count": 54
        }
      ]
    },
    {
      "cell_type": "code",
      "metadata": {
        "id": "dJSsqFIZ_okd",
        "colab_type": "code",
        "colab": {
          "base_uri": "https://localhost:8080/",
          "height": 34
        },
        "outputId": "f40c13d6-39bb-42c7-9fe7-f0709c43068b"
      },
      "source": [
        "#We can also delete an element of a list using the del command:\n",
        "del(l[4])\n",
        "l"
      ],
      "execution_count": null,
      "outputs": [
        {
          "output_type": "execute_result",
          "data": {
            "text/plain": [
              "['spam', 87, 5, [10, 20], ['popopo', 8491]]"
            ]
          },
          "metadata": {
            "tags": []
          },
          "execution_count": 56
        }
      ]
    },
    {
      "cell_type": "markdown",
      "metadata": {
        "id": "IwcThPt6AWkg",
        "colab_type": "text"
      },
      "source": [
        ">We can convert a string to a list using <code>split</code>. For example, the method <code>split</code> translates every group of characters separated by a space into an element in a list:"
      ]
    },
    {
      "cell_type": "code",
      "metadata": {
        "id": "CP8y-QQ8_5oF",
        "colab_type": "code",
        "colab": {
          "base_uri": "https://localhost:8080/",
          "height": 34
        },
        "outputId": "f9b69ded-9a67-4ab9-bf5b-764fd212c979"
      },
      "source": [
        "l1 = 'aefwe ewfqvvre rqbtwdcwrerq 55'.split()\n",
        "l1"
      ],
      "execution_count": null,
      "outputs": [
        {
          "output_type": "execute_result",
          "data": {
            "text/plain": [
              "['aefwe', 'ewfqvvre', 'rqbtwdcwrerq', '55']"
            ]
          },
          "metadata": {
            "tags": []
          },
          "execution_count": 74
        }
      ]
    },
    {
      "cell_type": "code",
      "metadata": {
        "id": "5_6eNKDtAvhw",
        "colab_type": "code",
        "colab": {
          "base_uri": "https://localhost:8080/",
          "height": 34
        },
        "outputId": "049063e6-1d3a-4e39-9d36-cd225ad3c7fc"
      },
      "source": [
        "#We can use the split function to separate strings on a specific character.\n",
        "'aefwe, ewfqvvre, rqbtwdcwrerq, 55'.split(',')"
      ],
      "execution_count": null,
      "outputs": [
        {
          "output_type": "execute_result",
          "data": {
            "text/plain": [
              "['aefwe', ' ewfqvvre', ' rqbtwdcwrerq', ' 55']"
            ]
          },
          "metadata": {
            "tags": []
          },
          "execution_count": 72
        }
      ]
    },
    {
      "cell_type": "markdown",
      "metadata": {
        "id": "GGU4Ed85DNce",
        "colab_type": "text"
      },
      "source": [
        ">**Aliasing**: When we set one variable B equal to A, both A and B are referencing the same list. Multiple names referring to the same object is known as aliasing."
      ]
    },
    {
      "cell_type": "code",
      "metadata": {
        "id": "RjWJwGlMCMdY",
        "colab_type": "code",
        "colab": {
          "base_uri": "https://localhost:8080/",
          "height": 34
        },
        "outputId": "b250fc5e-9c29-4930-d7c5-fb0a23d3cb38"
      },
      "source": [
        "l1"
      ],
      "execution_count": null,
      "outputs": [
        {
          "output_type": "execute_result",
          "data": {
            "text/plain": [
              "['aefwe', 'ewfqvvre', 'rqbtwdcwrerq', '55']"
            ]
          },
          "metadata": {
            "tags": []
          },
          "execution_count": 75
        }
      ]
    },
    {
      "cell_type": "code",
      "metadata": {
        "id": "Ut3WdDq8DdhW",
        "colab_type": "code",
        "colab": {
          "base_uri": "https://localhost:8080/",
          "height": 50
        },
        "outputId": "6c1472ac-f867-42c2-d71e-32230672c6c2"
      },
      "source": [
        "l2 = l1       #unlike tuples,since list is mutable when we change the original value,all other variables also get effected\n",
        "l1[0] = 'rock'\n",
        "print(l1)\n",
        "l2"
      ],
      "execution_count": null,
      "outputs": [
        {
          "output_type": "stream",
          "text": [
            "['rock', 'ewfqvvre', 'rqbtwdcwrerq', '55']\n"
          ],
          "name": "stdout"
        },
        {
          "output_type": "execute_result",
          "data": {
            "text/plain": [
              "['rock', 'ewfqvvre', 'rqbtwdcwrerq', '55']"
            ]
          },
          "metadata": {
            "tags": []
          },
          "execution_count": 77
        }
      ]
    },
    {
      "cell_type": "code",
      "metadata": {
        "id": "P_pv8bJ4Drm0",
        "colab_type": "code",
        "colab": {
          "base_uri": "https://localhost:8080/",
          "height": 34
        },
        "outputId": "020e2de9-99ec-4c24-cb11-8511edeba505"
      },
      "source": [
        "#cloning\n",
        "l3 = l1[:]\n",
        "l3"
      ],
      "execution_count": null,
      "outputs": [
        {
          "output_type": "execute_result",
          "data": {
            "text/plain": [
              "['rock', 'ewfqvvre', 'rqbtwdcwrerq', '55']"
            ]
          },
          "metadata": {
            "tags": []
          },
          "execution_count": 78
        }
      ]
    },
    {
      "cell_type": "code",
      "metadata": {
        "id": "MUyoA4ytEz4o",
        "colab_type": "code",
        "colab": {
          "base_uri": "https://localhost:8080/",
          "height": 50
        },
        "outputId": "74d1f58f-de2c-4217-f39d-6e1af7013b00"
      },
      "source": [
        "l1[0] = 'water' #cloned variables doesnt get effected from changes made to the original list\n",
        "print(l1)\n",
        "l3"
      ],
      "execution_count": null,
      "outputs": [
        {
          "output_type": "stream",
          "text": [
            "['water', 'ewfqvvre', 'rqbtwdcwrerq', '55']\n"
          ],
          "name": "stdout"
        },
        {
          "output_type": "execute_result",
          "data": {
            "text/plain": [
              "['rock', 'ewfqvvre', 'rqbtwdcwrerq', '55']"
            ]
          },
          "metadata": {
            "tags": []
          },
          "execution_count": 81
        }
      ]
    },
    {
      "cell_type": "markdown",
      "metadata": {
        "id": "tsosTgEPT-Yy",
        "colab_type": "text"
      },
      "source": [
        ">We can get more info on list, tuples, and many other objects in Python using the <code>help</code> command. Simply pass in the list, tuple, or any other Python object."
      ]
    },
    {
      "cell_type": "code",
      "metadata": {
        "id": "AK8bB_HNFB8K",
        "colab_type": "code",
        "colab": {}
      },
      "source": [
        "help(tuple)"
      ],
      "execution_count": null,
      "outputs": []
    },
    {
      "cell_type": "code",
      "metadata": {
        "id": "fQUCaAWKUR7W",
        "colab_type": "code",
        "colab": {}
      },
      "source": [
        ""
      ],
      "execution_count": null,
      "outputs": []
    },
    {
      "cell_type": "markdown",
      "metadata": {
        "id": "2OkP2chxMThe",
        "colab_type": "text"
      },
      "source": [
        "#Dictionaries"
      ]
    },
    {
      "cell_type": "markdown",
      "metadata": {
        "id": "yj0s_VD3M350",
        "colab_type": "text"
      },
      "source": [
        ">A dictionary is like a list, but more general. In a list, the index positions have to\n",
        "be integers; in a dictionary, the indices can be (almost) any type.\n",
        "You can think of a dictionary as a mapping between a set of indices (which are\n",
        "called keys) and a set of values. Each key maps to a value. The association of a\n",
        "key and a value is called a key-value pair or sometimes an item."
      ]
    },
    {
      "cell_type": "markdown",
      "metadata": {
        "id": "7LKNEhc6No8k",
        "colab_type": "text"
      },
      "source": [
        ">The key is analogous to the index. They are like addresses, but they don't have to be integers. They are usually characters. The values are similar to the element in a list and contain information. To create a dictionary, we use curly brackets. The keys are the first elements. They must be ***immutable***(strings,numbers and tuples) and unique. Each key is followed by a value separated by a colon. The values can be immutable, mutable, and duplicates. Each key and value pair is separated by a comma.\n",
        "\n",
        ">For every key, there can only be one single value, however, multiple keys can hold the same value. Keys can only be strings, numbers, or tuples, but values can be any data type."
      ]
    },
    {
      "cell_type": "code",
      "metadata": {
        "id": "Bfv0OH3SMZJt",
        "colab_type": "code",
        "colab": {
          "base_uri": "https://localhost:8080/",
          "height": 134
        },
        "outputId": "94a054a3-8180-402e-beb5-31a216b13ac6"
      },
      "source": [
        "dict_1 = {'key1':10,'key2':'qrwvw','key3':544.12,'key4':'wfv8ve','key5':(54,'vqvr'), (0,'qecq'):['rqr',54.158,'qr87qr']}\n",
        "print(type(dict_1))                     #keys can also be tuples since immutable\n",
        "dict_1"
      ],
      "execution_count": null,
      "outputs": [
        {
          "output_type": "stream",
          "text": [
            "<class 'dict'>\n"
          ],
          "name": "stdout"
        },
        {
          "output_type": "execute_result",
          "data": {
            "text/plain": [
              "{(0, 'qecq'): ['rqr', 54.158, 'qr87qr'],\n",
              " 'key1': 10,\n",
              " 'key2': 'qrwvw',\n",
              " 'key3': 544.12,\n",
              " 'key4': 'wfv8ve',\n",
              " 'key5': (54, 'vqvr')}"
            ]
          },
          "metadata": {
            "tags": []
          },
          "execution_count": 8
        }
      ]
    },
    {
      "cell_type": "code",
      "metadata": {
        "id": "_SUbxgI3PMCb",
        "colab_type": "code",
        "colab": {
          "base_uri": "https://localhost:8080/",
          "height": 34
        },
        "outputId": "7b0cb9bf-f144-4d3b-8234-4247e2c4afbd"
      },
      "source": [
        "#indexing similar to list and tuple, but instead of integers we use address to retrive the value\n",
        "dict_1['key5']"
      ],
      "execution_count": null,
      "outputs": [
        {
          "output_type": "execute_result",
          "data": {
            "text/plain": [
              "(54, 'vqvr')"
            ]
          },
          "metadata": {
            "tags": []
          },
          "execution_count": 9
        }
      ]
    },
    {
      "cell_type": "code",
      "metadata": {
        "id": "_9VWnbMFPyd2",
        "colab_type": "code",
        "colab": {
          "base_uri": "https://localhost:8080/",
          "height": 151
        },
        "outputId": "8003dead-c0eb-4124-f58e-82451ddc2347"
      },
      "source": [
        "release_year_dict = {\"Thriller\": \"1982\", \"Back in Black\": \"1980\", \\\n",
        "                    \"The Dark Side of the Moon\": \"1973\", \"The Bodyguard\": \"1992\", \\\n",
        "                    \"Bat Out of Hell\": \"1977\", \"Their Greatest Hits (1971-1975)\": \"1976\", \\\n",
        "                    \"Saturday Night Fever\": \"1977\", \"Rumours\": \"1977\"}\n",
        "release_year_dict\n"
      ],
      "execution_count": null,
      "outputs": [
        {
          "output_type": "execute_result",
          "data": {
            "text/plain": [
              "{'Back in Black': '1980',\n",
              " 'Bat Out of Hell': '1977',\n",
              " 'Rumours': '1977',\n",
              " 'Saturday Night Fever': '1977',\n",
              " 'The Bodyguard': '1992',\n",
              " 'The Dark Side of the Moon': '1973',\n",
              " 'Their Greatest Hits (1971-1975)': '1976',\n",
              " 'Thriller': '1982'}"
            ]
          },
          "metadata": {
            "tags": []
          },
          "execution_count": 20
        }
      ]
    },
    {
      "cell_type": "code",
      "metadata": {
        "id": "NuXH-uvuR3Fd",
        "colab_type": "code",
        "colab": {
          "base_uri": "https://localhost:8080/",
          "height": 34
        },
        "outputId": "c82ee5de-3cf7-455f-dbb9-b645ce7ffed9"
      },
      "source": [
        "release_year_dict['The Dark Side of the Moon']"
      ],
      "execution_count": null,
      "outputs": [
        {
          "output_type": "execute_result",
          "data": {
            "text/plain": [
              "'1973'"
            ]
          },
          "metadata": {
            "tags": []
          },
          "execution_count": 11
        }
      ]
    },
    {
      "cell_type": "code",
      "metadata": {
        "id": "o5-LrWcJSpgk",
        "colab_type": "code",
        "colab": {
          "base_uri": "https://localhost:8080/",
          "height": 54
        },
        "outputId": "8c30d4a4-edd7-4438-b6c3-fcb1b3f470e1"
      },
      "source": [
        "#retrieve all the keys of the dictionary using keys()\n",
        "release_year_dict.keys()"
      ],
      "execution_count": null,
      "outputs": [
        {
          "output_type": "execute_result",
          "data": {
            "text/plain": [
              "dict_keys(['Thriller', 'Back in Black', 'The Dark Side of the Moon', 'The Bodyguard', 'Bat Out of Hell', 'Their Greatest Hits (1971-1975)', 'Saturday Night Fever', 'Rumours'])"
            ]
          },
          "metadata": {
            "tags": []
          },
          "execution_count": 12
        }
      ]
    },
    {
      "cell_type": "code",
      "metadata": {
        "id": "aVlctB7eTGqP",
        "colab_type": "code",
        "colab": {
          "base_uri": "https://localhost:8080/",
          "height": 34
        },
        "outputId": "4ee664e2-d7c9-4407-db1d-4c7de192b6c3"
      },
      "source": [
        "#retrieve the values using the method values()\n",
        "release_year_dict.values()"
      ],
      "execution_count": null,
      "outputs": [
        {
          "output_type": "execute_result",
          "data": {
            "text/plain": [
              "dict_values(['1982', '1980', '1973', '1992', '1977', '1976', '1977', '1977'])"
            ]
          },
          "metadata": {
            "tags": []
          },
          "execution_count": 13
        }
      ]
    },
    {
      "cell_type": "code",
      "metadata": {
        "id": "cCL9s2lzTRKX",
        "colab_type": "code",
        "colab": {
          "base_uri": "https://localhost:8080/",
          "height": 34
        },
        "outputId": "37106352-3453-40b5-b043-684e17771ff8"
      },
      "source": [
        "sorted(release_year_dict.values())"
      ],
      "execution_count": null,
      "outputs": [
        {
          "output_type": "execute_result",
          "data": {
            "text/plain": [
              "['1973', '1976', '1977', '1977', '1977', '1980', '1982', '1992']"
            ]
          },
          "metadata": {
            "tags": []
          },
          "execution_count": 16
        }
      ]
    },
    {
      "cell_type": "code",
      "metadata": {
        "id": "MkqfpuxeTckr",
        "colab_type": "code",
        "colab": {
          "base_uri": "https://localhost:8080/",
          "height": 151
        },
        "outputId": "3390994b-ba8d-4fb9-eaee-973b161c6999"
      },
      "source": [
        "sorted(release_year_dict)  #sorts alpahbetical wise"
      ],
      "execution_count": null,
      "outputs": [
        {
          "output_type": "execute_result",
          "data": {
            "text/plain": [
              "['Back in Black',\n",
              " 'Bat Out of Hell',\n",
              " 'Rumours',\n",
              " 'Saturday Night Fever',\n",
              " 'The Bodyguard',\n",
              " 'The Dark Side of the Moon',\n",
              " 'Their Greatest Hits (1971-1975)',\n",
              " 'Thriller']"
            ]
          },
          "metadata": {
            "tags": []
          },
          "execution_count": 17
        }
      ]
    },
    {
      "cell_type": "code",
      "metadata": {
        "id": "841RFeK_TvOg",
        "colab_type": "code",
        "colab": {
          "base_uri": "https://localhost:8080/",
          "height": 168
        },
        "outputId": "eeedc518-ecdb-40f7-fb89-ddb42181f7ce"
      },
      "source": [
        "#append\n",
        "release_year_dict['new key'] = 4745.2144\n",
        "release_year_dict"
      ],
      "execution_count": null,
      "outputs": [
        {
          "output_type": "execute_result",
          "data": {
            "text/plain": [
              "{'Back in Black': '1980',\n",
              " 'Bat Out of Hell': '1977',\n",
              " 'Rumours': '1977',\n",
              " 'Saturday Night Fever': '1977',\n",
              " 'The Bodyguard': '1992',\n",
              " 'The Dark Side of the Moon': '1973',\n",
              " 'Their Greatest Hits (1971-1975)': '1976',\n",
              " 'Thriller': '1982',\n",
              " 'new key': 4745.2144}"
            ]
          },
          "metadata": {
            "tags": []
          },
          "execution_count": 21
        }
      ]
    },
    {
      "cell_type": "code",
      "metadata": {
        "id": "uPOdKbTZUGpH",
        "colab_type": "code",
        "colab": {
          "base_uri": "https://localhost:8080/",
          "height": 151
        },
        "outputId": "dc05ffb8-df69-4874-f2ac-f23e17256463"
      },
      "source": [
        "#delete using del()\n",
        "del(release_year_dict['new key'])\n",
        "release_year_dict"
      ],
      "execution_count": null,
      "outputs": [
        {
          "output_type": "execute_result",
          "data": {
            "text/plain": [
              "{'Back in Black': '1980',\n",
              " 'Bat Out of Hell': '1977',\n",
              " 'Rumours': '1977',\n",
              " 'Saturday Night Fever': '1977',\n",
              " 'The Bodyguard': '1992',\n",
              " 'The Dark Side of the Moon': '1973',\n",
              " 'Their Greatest Hits (1971-1975)': '1976',\n",
              " 'Thriller': '1982'}"
            ]
          },
          "metadata": {
            "tags": []
          },
          "execution_count": 23
        }
      ]
    },
    {
      "cell_type": "code",
      "metadata": {
        "id": "EKbN-oC5Ue7W",
        "colab_type": "code",
        "colab": {
          "base_uri": "https://localhost:8080/",
          "height": 34
        },
        "outputId": "60190117-908b-4084-b8f5-13c31288bff6"
      },
      "source": [
        "#We can verify if an element is in the dictionary using in\n",
        "'Rumours' in release_year_dict"
      ],
      "execution_count": null,
      "outputs": [
        {
          "output_type": "execute_result",
          "data": {
            "text/plain": [
              "True"
            ]
          },
          "metadata": {
            "tags": []
          },
          "execution_count": 25
        }
      ]
    },
    {
      "cell_type": "code",
      "metadata": {
        "id": "lh7AztPQUzZA",
        "colab_type": "code",
        "colab": {
          "base_uri": "https://localhost:8080/",
          "height": 34
        },
        "outputId": "7b6fcc43-7d00-401f-80d5-11b5b69e230e"
      },
      "source": [
        "'Starboy' in release_year_dict"
      ],
      "execution_count": null,
      "outputs": [
        {
          "output_type": "execute_result",
          "data": {
            "text/plain": [
              "False"
            ]
          },
          "metadata": {
            "tags": []
          },
          "execution_count": 26
        }
      ]
    },
    {
      "cell_type": "code",
      "metadata": {
        "id": "hJVP0ZSxU8mz",
        "colab_type": "code",
        "colab": {}
      },
      "source": [
        ""
      ],
      "execution_count": null,
      "outputs": []
    },
    {
      "cell_type": "markdown",
      "metadata": {
        "id": "y2y9MMw2ZHij",
        "colab_type": "text"
      },
      "source": [
        "#Sets"
      ]
    },
    {
      "cell_type": "markdown",
      "metadata": {
        "id": "0x1clLsdZioo",
        "colab_type": "text"
      },
      "source": [
        ">Sets are a type of collection. This means that like lists and tuples, you can input different Python types. Unlike lists and tuples, they are unordered. This means sets do not record element position. Sets only have unique elements. This means there is only one of a particular element in a set."
      ]
    },
    {
      "cell_type": "markdown",
      "metadata": {
        "id": "hmr28ocDZviC",
        "colab_type": "text"
      },
      "source": [
        ">To define a set, you use curly brackets. You place the elements of a set within the curly brackets. You notice there are duplicate items. When the actual set is created, duplicate items will not be present. "
      ]
    },
    {
      "cell_type": "code",
      "metadata": {
        "id": "Bdc7OXd5ZKC8",
        "colab_type": "code",
        "colab": {
          "base_uri": "https://localhost:8080/",
          "height": 34
        },
        "outputId": "0834d196-4c7c-4fd8-822d-a074dfdddb6b"
      },
      "source": [
        "set1 = {\"pop\", \"rock\", \"soul\", \"hard rock\", \"rock\", \"R&B\", \"rock\", \"disco\"}\n",
        "set1"
      ],
      "execution_count": null,
      "outputs": [
        {
          "output_type": "execute_result",
          "data": {
            "text/plain": [
              "{'R&B', 'disco', 'hard rock', 'pop', 'rock', 'soul'}"
            ]
          },
          "metadata": {
            "tags": []
          },
          "execution_count": 2
        }
      ]
    },
    {
      "cell_type": "code",
      "metadata": {
        "id": "EMNl-lFOZuHO",
        "colab_type": "code",
        "colab": {
          "base_uri": "https://localhost:8080/",
          "height": 168
        },
        "outputId": "f2fb8aa5-0ae4-410c-b2fe-c5f95d0b20f1"
      },
      "source": [
        "#coverting list into a set by typecasting using set()\n",
        "music_genres = set([\"pop\", \"pop\", \"rock\", \"folk rock\", \"hard rock\", \"soul\", \\\n",
        "                    \"progressive rock\", \"soft rock\", \"R&B\", \"disco\"])\n",
        "music_genres"
      ],
      "execution_count": null,
      "outputs": [
        {
          "output_type": "execute_result",
          "data": {
            "text/plain": [
              "{'R&B',\n",
              " 'disco',\n",
              " 'folk rock',\n",
              " 'hard rock',\n",
              " 'pop',\n",
              " 'progressive rock',\n",
              " 'rock',\n",
              " 'soft rock',\n",
              " 'soul'}"
            ]
          },
          "metadata": {
            "tags": []
          },
          "execution_count": 3
        }
      ]
    },
    {
      "cell_type": "code",
      "metadata": {
        "id": "T15AqjRCbFXT",
        "colab_type": "code",
        "colab": {
          "base_uri": "https://localhost:8080/",
          "height": 34
        },
        "outputId": "43e8e881-0502-4138-85ab-6835c0d18580"
      },
      "source": [
        "type(music_genres)"
      ],
      "execution_count": null,
      "outputs": [
        {
          "output_type": "execute_result",
          "data": {
            "text/plain": [
              "set"
            ]
          },
          "metadata": {
            "tags": []
          },
          "execution_count": 4
        }
      ]
    },
    {
      "cell_type": "markdown",
      "metadata": {
        "id": "f57M7maUbQuJ",
        "colab_type": "text"
      },
      "source": [
        ">Set Operations"
      ]
    },
    {
      "cell_type": "markdown",
      "metadata": {
        "id": "rsrYYJR7dn_w",
        "colab_type": "text"
      },
      "source": [
        "> Let's go over set operations. These could be used to change the set. Consider the set2. Let's represent this set with a circle. If you are familiar with sets, this could be part of a venn diagram."
      ]
    },
    {
      "cell_type": "code",
      "metadata": {
        "id": "y9zJFTEBbIKd",
        "colab_type": "code",
        "colab": {
          "base_uri": "https://localhost:8080/",
          "height": 34
        },
        "outputId": "ea0dccfb-2425-473f-86e2-f2ae819325c9"
      },
      "source": [
        "#Adding element using add()\n",
        "set2 = {\"Thriller\", \"Back in Black\", \"AC/DC\"}\n",
        "set2"
      ],
      "execution_count": null,
      "outputs": [
        {
          "output_type": "execute_result",
          "data": {
            "text/plain": [
              "{'AC/DC', 'Back in Black', 'Thriller'}"
            ]
          },
          "metadata": {
            "tags": []
          },
          "execution_count": 7
        }
      ]
    },
    {
      "cell_type": "code",
      "metadata": {
        "id": "TNMpT_HSbh7z",
        "colab_type": "code",
        "colab": {
          "base_uri": "https://localhost:8080/",
          "height": 34
        },
        "outputId": "a96c2f48-ab0d-4a7b-b113-82b098d05456"
      },
      "source": [
        "set2.add('NSYNC')\n",
        "set2"
      ],
      "execution_count": null,
      "outputs": [
        {
          "output_type": "execute_result",
          "data": {
            "text/plain": [
              "{'AC/DC', 'Back in Black', 'NSYNC', 'Thriller'}"
            ]
          },
          "metadata": {
            "tags": []
          },
          "execution_count": 8
        }
      ]
    },
    {
      "cell_type": "code",
      "metadata": {
        "id": "X_TzTRTLb6eN",
        "colab_type": "code",
        "colab": {
          "base_uri": "https://localhost:8080/",
          "height": 34
        },
        "outputId": "671f3f7c-ceae-4e33-e829-7e5456899437"
      },
      "source": [
        "#If we add the same element twice, nothing will happen as there can be no duplicates in a set:\n",
        "set2.add('NSYNC')\n",
        "set2"
      ],
      "execution_count": null,
      "outputs": [
        {
          "output_type": "execute_result",
          "data": {
            "text/plain": [
              "{'AC/DC', 'Back in Black', 'NSYNC', 'Thriller'}"
            ]
          },
          "metadata": {
            "tags": []
          },
          "execution_count": 15
        }
      ]
    },
    {
      "cell_type": "code",
      "metadata": {
        "id": "wn1hypFVcCCL",
        "colab_type": "code",
        "colab": {
          "base_uri": "https://localhost:8080/",
          "height": 34
        },
        "outputId": "18291907-a249-48a9-c03d-8401c5b0851e"
      },
      "source": [
        "#removing element using remove()\n",
        "set2.remove(\"NSYNC\")\n",
        "set2"
      ],
      "execution_count": null,
      "outputs": [
        {
          "output_type": "execute_result",
          "data": {
            "text/plain": [
              "{'AC/DC', 'Back in Black', 'Thriller'}"
            ]
          },
          "metadata": {
            "tags": []
          },
          "execution_count": 16
        }
      ]
    },
    {
      "cell_type": "code",
      "metadata": {
        "id": "PFO-SBRJcNks",
        "colab_type": "code",
        "colab": {
          "base_uri": "https://localhost:8080/",
          "height": 34
        },
        "outputId": "f065fd66-5979-431a-9cd4-3074a4fccb51"
      },
      "source": [
        "#We can verify if an element is in the set using in\n",
        "'Thriller' in set2 "
      ],
      "execution_count": null,
      "outputs": [
        {
          "output_type": "execute_result",
          "data": {
            "text/plain": [
              "True"
            ]
          },
          "metadata": {
            "tags": []
          },
          "execution_count": 17
        }
      ]
    },
    {
      "cell_type": "code",
      "metadata": {
        "id": "Xex12886c9nS",
        "colab_type": "code",
        "colab": {
          "base_uri": "https://localhost:8080/",
          "height": 34
        },
        "outputId": "0f0e0b99-7866-42a3-a4d0-1491b0d1a04e"
      },
      "source": [
        "'starboy' in set2"
      ],
      "execution_count": null,
      "outputs": [
        {
          "output_type": "execute_result",
          "data": {
            "text/plain": [
              "False"
            ]
          },
          "metadata": {
            "tags": []
          },
          "execution_count": 18
        }
      ]
    },
    {
      "cell_type": "markdown",
      "metadata": {
        "id": "PPXiZvLqdNRp",
        "colab_type": "text"
      },
      "source": [
        ">Sets Logic Operations"
      ]
    },
    {
      "cell_type": "markdown",
      "metadata": {
        "id": "PXUej8oHeExL",
        "colab_type": "text"
      },
      "source": [
        ">Remember that with sets you can check the difference between sets, as well as the symmetric difference, intersection, and union:\n",
        "\n"
      ]
    },
    {
      "cell_type": "code",
      "metadata": {
        "id": "o62a3BwsdBd-",
        "colab_type": "code",
        "colab": {
          "base_uri": "https://localhost:8080/",
          "height": 50
        },
        "outputId": "e32b4df4-be72-4ef7-b2e9-245883073e6b"
      },
      "source": [
        "album_set1 = set([\"Thriller\", 'AC/DC', 'Back in Black'])\n",
        "album_set2 = set([ \"AC/DC\", \"Back in Black\", \"The Dark Side of the Moon\"])\n",
        "album_set1, album_set2"
      ],
      "execution_count": null,
      "outputs": [
        {
          "output_type": "execute_result",
          "data": {
            "text/plain": [
              "({'AC/DC', 'Back in Black', 'Thriller'},\n",
              " {'AC/DC', 'Back in Black', 'The Dark Side of the Moon'})"
            ]
          },
          "metadata": {
            "tags": []
          },
          "execution_count": 19
        }
      ]
    },
    {
      "cell_type": "markdown",
      "metadata": {
        "id": "HN7wNYsDelTO",
        "colab_type": "text"
      },
      "source": [
        ">As both sets contain AC/DC and Back in Black we represent these common elements with the intersection of two circles."
      ]
    },
    {
      "cell_type": "code",
      "metadata": {
        "id": "Fes3yLCfeXde",
        "colab_type": "code",
        "colab": {
          "base_uri": "https://localhost:8080/",
          "height": 34
        },
        "outputId": "9b241e81-b7cd-4284-a96c-3e8ec079da68"
      },
      "source": [
        "#You can find the intersect of two sets as follow using &\n",
        "intersection = album_set1 & album_set2\n",
        "intersection"
      ],
      "execution_count": null,
      "outputs": [
        {
          "output_type": "execute_result",
          "data": {
            "text/plain": [
              "{'AC/DC', 'Back in Black'}"
            ]
          },
          "metadata": {
            "tags": []
          },
          "execution_count": 21
        }
      ]
    },
    {
      "cell_type": "code",
      "metadata": {
        "id": "2487W0t6ff8-",
        "colab_type": "code",
        "colab": {
          "base_uri": "https://localhost:8080/",
          "height": 34
        },
        "outputId": "14a4759b-bbcc-44bd-9164-d450dd21f25e"
      },
      "source": [
        "#You can also find the intersection of album_list1 and album_list2, using the intersection()\n",
        "album_set1.intersection(album_set2)"
      ],
      "execution_count": null,
      "outputs": [
        {
          "output_type": "execute_result",
          "data": {
            "text/plain": [
              "{'AC/DC', 'Back in Black'}"
            ]
          },
          "metadata": {
            "tags": []
          },
          "execution_count": 24
        }
      ]
    },
    {
      "cell_type": "code",
      "metadata": {
        "id": "D_WJrotaex_A",
        "colab_type": "code",
        "colab": {
          "base_uri": "https://localhost:8080/",
          "height": 34
        },
        "outputId": "3d9dd03c-a752-453f-a33b-73ad4c1edf7e"
      },
      "source": [
        "#You can find all the elements that are only contained in album_set1 using difference()\n",
        "album_set1.difference(album_set2)"
      ],
      "execution_count": null,
      "outputs": [
        {
          "output_type": "execute_result",
          "data": {
            "text/plain": [
              "{'Thriller'}"
            ]
          },
          "metadata": {
            "tags": []
          },
          "execution_count": 22
        }
      ]
    },
    {
      "cell_type": "code",
      "metadata": {
        "id": "ZQUnDGMKfKtR",
        "colab_type": "code",
        "colab": {
          "base_uri": "https://localhost:8080/",
          "height": 34
        },
        "outputId": "e0c402fe-5954-417f-8b19-000f56fbaf58"
      },
      "source": [
        "album_set2.difference(album_set1)"
      ],
      "execution_count": null,
      "outputs": [
        {
          "output_type": "execute_result",
          "data": {
            "text/plain": [
              "{'The Dark Side of the Moon'}"
            ]
          },
          "metadata": {
            "tags": []
          },
          "execution_count": 23
        }
      ]
    },
    {
      "cell_type": "markdown",
      "metadata": {
        "id": "hrkTTaM8gCxB",
        "colab_type": "text"
      },
      "source": [
        ">The union corresponds to all the elements in both sets\n"
      ]
    },
    {
      "cell_type": "code",
      "metadata": {
        "id": "5Ndl5mMwfQ2g",
        "colab_type": "code",
        "colab": {
          "base_uri": "https://localhost:8080/",
          "height": 34
        },
        "outputId": "d65f7555-e328-4d18-b9b0-5ab51d2610a7"
      },
      "source": [
        "#The union is given by union()\n",
        "album_set1.union(album_set2)"
      ],
      "execution_count": null,
      "outputs": [
        {
          "output_type": "execute_result",
          "data": {
            "text/plain": [
              "{'AC/DC', 'Back in Black', 'The Dark Side of the Moon', 'Thriller'}"
            ]
          },
          "metadata": {
            "tags": []
          },
          "execution_count": 25
        }
      ]
    },
    {
      "cell_type": "code",
      "metadata": {
        "id": "G-pxkPa0gnOQ",
        "colab_type": "code",
        "colab": {
          "base_uri": "https://localhost:8080/",
          "height": 34
        },
        "outputId": "1084289b-ba83-4f2e-e34e-d1a7ce5de1bc"
      },
      "source": [
        "#And you can check if a set is a superset or subset of another set, respectively using issuperset(), issubset()\n",
        "album_set1.issuperset(album_set2)"
      ],
      "execution_count": null,
      "outputs": [
        {
          "output_type": "execute_result",
          "data": {
            "text/plain": [
              "False"
            ]
          },
          "metadata": {
            "tags": []
          },
          "execution_count": 31
        }
      ]
    },
    {
      "cell_type": "code",
      "metadata": {
        "id": "DYc_CJWJg9EH",
        "colab_type": "code",
        "colab": {
          "base_uri": "https://localhost:8080/",
          "height": 34
        },
        "outputId": "bd20af0e-f567-4e4c-beb6-31efff4ecda7"
      },
      "source": [
        "album_set2.issubset(album_set1)    "
      ],
      "execution_count": null,
      "outputs": [
        {
          "output_type": "execute_result",
          "data": {
            "text/plain": [
              "False"
            ]
          },
          "metadata": {
            "tags": []
          },
          "execution_count": 28
        }
      ]
    },
    {
      "cell_type": "code",
      "metadata": {
        "id": "xMhmAiIrhBin",
        "colab_type": "code",
        "colab": {
          "base_uri": "https://localhost:8080/",
          "height": 50
        },
        "outputId": "8226bf9b-cbff-4eae-dfbb-bd781cf9d076"
      },
      "source": [
        "#Consider the list A = [1, 2, 2, 1] and set B = set([1, 2, 2, 1]), does sum(A) = sum(B)\n",
        "A = [1, 2, 2, 1]  \n",
        "B = set([1, 2, 2, 1])\n",
        "print(\"the sum of A is:\", sum(A))\n",
        "print(\"the sum of B is:\", sum(B))"
      ],
      "execution_count": null,
      "outputs": [
        {
          "output_type": "stream",
          "text": [
            "the sum of A is: 6\n",
            "the sum of B is: 3\n"
          ],
          "name": "stdout"
        }
      ]
    },
    {
      "cell_type": "code",
      "metadata": {
        "id": "NQtlKvy4hs-x",
        "colab_type": "code",
        "colab": {
          "base_uri": "https://localhost:8080/",
          "height": 34
        },
        "outputId": "696b5bad-2d80-462e-d2fc-e6c6f4a0db33"
      },
      "source": [
        "A==B"
      ],
      "execution_count": null,
      "outputs": [
        {
          "output_type": "execute_result",
          "data": {
            "text/plain": [
              "False"
            ]
          },
          "metadata": {
            "tags": []
          },
          "execution_count": 30
        }
      ]
    },
    {
      "cell_type": "code",
      "metadata": {
        "id": "Lp15L_XThxRD",
        "colab_type": "code",
        "colab": {}
      },
      "source": [
        ""
      ],
      "execution_count": null,
      "outputs": []
    },
    {
      "cell_type": "markdown",
      "metadata": {
        "id": "GrdkTCpO2mSD",
        "colab_type": "text"
      },
      "source": [
        "#Condition statements  and Branching"
      ]
    },
    {
      "cell_type": "markdown",
      "metadata": {
        "id": "cuNdhEuz3Zu2",
        "colab_type": "text"
      },
      "source": [
        "##Comparison Operators"
      ]
    },
    {
      "cell_type": "markdown",
      "metadata": {
        "id": "Kjy3IjNO3nnZ",
        "colab_type": "text"
      },
      "source": [
        ">Comparison operations compare some value or operand and, based on a condition, they produce a Boolean. When comparing two values you can use these operators:\n",
        "\n",
        "- equal: ==\n",
        "- not equal: !=\n",
        "- greater than: >\n",
        "- less than: <\n",
        "- greater than or equal to: >=\n",
        "- less than or equal to: <="
      ]
    },
    {
      "cell_type": "code",
      "metadata": {
        "id": "k60K1Jx92yhh",
        "colab_type": "code",
        "colab": {
          "base_uri": "https://localhost:8080/",
          "height": 34
        },
        "outputId": "c82985b7-b6bb-492b-ba82-a7e4c7f2225e"
      },
      "source": [
        "a = 5\n",
        "a == 6"
      ],
      "execution_count": null,
      "outputs": [
        {
          "output_type": "execute_result",
          "data": {
            "text/plain": [
              "False"
            ]
          },
          "metadata": {
            "tags": []
          },
          "execution_count": 2
        }
      ]
    },
    {
      "cell_type": "code",
      "metadata": {
        "id": "pEjV9O4v35Z4",
        "colab_type": "code",
        "colab": {
          "base_uri": "https://localhost:8080/",
          "height": 34
        },
        "outputId": "c9815a79-cf95-4b99-d3f0-392a2ece3d71"
      },
      "source": [
        "b = 6\n",
        "b > 7"
      ],
      "execution_count": null,
      "outputs": [
        {
          "output_type": "execute_result",
          "data": {
            "text/plain": [
              "False"
            ]
          },
          "metadata": {
            "tags": []
          },
          "execution_count": 5
        }
      ]
    },
    {
      "cell_type": "code",
      "metadata": {
        "id": "GMPJ29BD4Jyq",
        "colab_type": "code",
        "colab": {
          "base_uri": "https://localhost:8080/",
          "height": 34
        },
        "outputId": "4c1eb5ce-0dfc-412c-e11f-cb3e410b2883"
      },
      "source": [
        "b > 5"
      ],
      "execution_count": null,
      "outputs": [
        {
          "output_type": "execute_result",
          "data": {
            "text/plain": [
              "True"
            ]
          },
          "metadata": {
            "tags": []
          },
          "execution_count": 6
        }
      ]
    },
    {
      "cell_type": "code",
      "metadata": {
        "id": "GE16N--_4f0s",
        "colab_type": "code",
        "colab": {
          "base_uri": "https://localhost:8080/",
          "height": 34
        },
        "outputId": "43c79545-9a07-4de5-eda3-cf5b67f6d95c"
      },
      "source": [
        "c = 6\n",
        "c != 5\n"
      ],
      "execution_count": null,
      "outputs": [
        {
          "output_type": "execute_result",
          "data": {
            "text/plain": [
              "True"
            ]
          },
          "metadata": {
            "tags": []
          },
          "execution_count": 10
        }
      ]
    },
    {
      "cell_type": "code",
      "metadata": {
        "id": "7zF1JGOU5Qzw",
        "colab_type": "code",
        "colab": {
          "base_uri": "https://localhost:8080/",
          "height": 34
        },
        "outputId": "8d84ddfa-536c-4797-8b8e-47bd761b24bc"
      },
      "source": [
        "c != 6"
      ],
      "execution_count": null,
      "outputs": [
        {
          "output_type": "execute_result",
          "data": {
            "text/plain": [
              "False"
            ]
          },
          "metadata": {
            "tags": []
          },
          "execution_count": 12
        }
      ]
    },
    {
      "cell_type": "code",
      "metadata": {
        "id": "0uxNGqOR42yj",
        "colab_type": "code",
        "colab": {
          "base_uri": "https://localhost:8080/",
          "height": 34
        },
        "outputId": "12e5153d-db65-45e9-a4f2-b9a7143c397e"
      },
      "source": [
        "c == 5"
      ],
      "execution_count": null,
      "outputs": [
        {
          "output_type": "execute_result",
          "data": {
            "text/plain": [
              "False"
            ]
          },
          "metadata": {
            "tags": []
          },
          "execution_count": 11
        }
      ]
    },
    {
      "cell_type": "code",
      "metadata": {
        "id": "Pjc8X8yC5GYo",
        "colab_type": "code",
        "colab": {
          "base_uri": "https://localhost:8080/",
          "height": 34
        },
        "outputId": "bbd15c7e-0f46-4be0-e9cb-1bf73e712a71"
      },
      "source": [
        "'rwwrbwbvs' == 'nbwrve'"
      ],
      "execution_count": null,
      "outputs": [
        {
          "output_type": "execute_result",
          "data": {
            "text/plain": [
              "False"
            ]
          },
          "metadata": {
            "tags": []
          },
          "execution_count": 15
        }
      ]
    },
    {
      "cell_type": "code",
      "metadata": {
        "id": "RQ9dFJ_v5gDS",
        "colab_type": "code",
        "colab": {
          "base_uri": "https://localhost:8080/",
          "height": 34
        },
        "outputId": "ba9e3087-bb09-42c4-cc36-5a8edadb3204"
      },
      "source": [
        "'asdfgh' == 'asdfgh'"
      ],
      "execution_count": null,
      "outputs": [
        {
          "output_type": "execute_result",
          "data": {
            "text/plain": [
              "True"
            ]
          },
          "metadata": {
            "tags": []
          },
          "execution_count": 14
        }
      ]
    },
    {
      "cell_type": "markdown",
      "metadata": {
        "id": "Vvshpjr754r2",
        "colab_type": "text"
      },
      "source": [
        ">Inequality operation is also used to compare the letters/words/symbols according to the ASCII value of letters. The decimal value shown in the following table represents the order of the character:\n",
        "\n",
        ">For example, the ASCII code for ! is 21, while the ASCII code for + is 43. Therefore + is larger than ! as 43 is greater than 21.\n",
        "\n",
        ">Similarly, the value for A is 101, and the value for B is 102 therefore:"
      ]
    },
    {
      "cell_type": "code",
      "metadata": {
        "id": "W_fH4ZoS5l7h",
        "colab_type": "code",
        "colab": {
          "base_uri": "https://localhost:8080/",
          "height": 34
        },
        "outputId": "6ae57253-09b4-4994-8472-2e66be81285b"
      },
      "source": [
        "'+' > '!'"
      ],
      "execution_count": null,
      "outputs": [
        {
          "output_type": "execute_result",
          "data": {
            "text/plain": [
              "True"
            ]
          },
          "metadata": {
            "tags": []
          },
          "execution_count": 19
        }
      ]
    },
    {
      "cell_type": "code",
      "metadata": {
        "id": "Q78SSXX_6ppk",
        "colab_type": "code",
        "colab": {
          "base_uri": "https://localhost:8080/",
          "height": 34
        },
        "outputId": "d514a8ef-c399-492f-c005-0245645b312b"
      },
      "source": [
        "'z' > 'y'"
      ],
      "execution_count": null,
      "outputs": [
        {
          "output_type": "execute_result",
          "data": {
            "text/plain": [
              "True"
            ]
          },
          "metadata": {
            "tags": []
          },
          "execution_count": 20
        }
      ]
    },
    {
      "cell_type": "code",
      "metadata": {
        "id": "CotD8xrY7TEn",
        "colab_type": "code",
        "colab": {
          "base_uri": "https://localhost:8080/",
          "height": 34
        },
        "outputId": "c1b9008d-ba45-41ea-ba66-df2c5b76384b"
      },
      "source": [
        "#When there are multiple letters, the first letter takes precedence in ordering:'\n",
        "'ZY' > 'YZ'"
      ],
      "execution_count": null,
      "outputs": [
        {
          "output_type": "execute_result",
          "data": {
            "text/plain": [
              "True"
            ]
          },
          "metadata": {
            "tags": []
          },
          "execution_count": 25
        }
      ]
    },
    {
      "cell_type": "markdown",
      "metadata": {
        "id": "tat5dNsm8KDM",
        "colab_type": "text"
      },
      "source": [
        ">Note: Upper Case Letters have different ASCII code than Lower Case Letters, which means the comparison between the letters in python is case-sensitive."
      ]
    },
    {
      "cell_type": "markdown",
      "metadata": {
        "id": "XfahzoOJ8a6Q",
        "colab_type": "text"
      },
      "source": [
        "##Branching\n"
      ]
    },
    {
      "cell_type": "markdown",
      "metadata": {
        "id": "cMVCOA8Y8fP0",
        "colab_type": "text"
      },
      "source": [
        ">Branching allows us to run different statements for different inputs. \n",
        "\n",
        ">It is helpful to think of an <code>if </code>statement as a locked room, if the statement is True we can enter the room and your program will run some predefined tasks, but if the statement is False the program will ignore the task."
      ]
    },
    {
      "cell_type": "code",
      "metadata": {
        "id": "zIVT0iSx7ePJ",
        "colab_type": "code",
        "colab": {
          "base_uri": "https://localhost:8080/",
          "height": 50
        },
        "outputId": "13868ee0-6a9d-4fef-efc6-dc878a870cf2"
      },
      "source": [
        "# If statement example\n",
        "age = 19\n",
        "if age > 18:\n",
        "  print('you can enter the room')\n",
        "print('move on')                    ##The statements after the if statement will run regardless if the condition is true or false "
      ],
      "execution_count": null,
      "outputs": [
        {
          "output_type": "stream",
          "text": [
            "you can enter the room\n",
            "move on\n"
          ],
          "name": "stdout"
        }
      ]
    },
    {
      "cell_type": "code",
      "metadata": {
        "id": "Srb81Eq19Y9o",
        "colab_type": "code",
        "colab": {
          "base_uri": "https://localhost:8080/",
          "height": 34
        },
        "outputId": "1540082f-c24a-4044-daaf-c9cdb532321d"
      },
      "source": [
        "age = 17\n",
        "if age > 18:\n",
        "  print('you can enter the room')\n",
        "print('move on')  "
      ],
      "execution_count": null,
      "outputs": [
        {
          "output_type": "stream",
          "text": [
            "move on\n"
          ],
          "name": "stdout"
        }
      ]
    },
    {
      "cell_type": "markdown",
      "metadata": {
        "id": "TZBkVkZI9sIU",
        "colab_type": "text"
      },
      "source": [
        "> The <code>else</code> statement runs a block of code if none of the conditions are **True** before this <code>else</code> statement. "
      ]
    },
    {
      "cell_type": "code",
      "metadata": {
        "id": "nkPPH7aK9hKB",
        "colab_type": "code",
        "colab": {
          "base_uri": "https://localhost:8080/",
          "height": 50
        },
        "outputId": "f1b938f7-24a8-4981-fc9a-7f18b85d2bc7"
      },
      "source": [
        "# Else statement example\n",
        "\n",
        "age = 18\n",
        "if age > 18:\n",
        "    print(\"you can enter club 1\" )\n",
        "else:\n",
        "  print('you can enter club 2')\n",
        "print('move on')"
      ],
      "execution_count": null,
      "outputs": [
        {
          "output_type": "stream",
          "text": [
            "you can enter club 2\n",
            "move on\n"
          ],
          "name": "stdout"
        }
      ]
    },
    {
      "cell_type": "markdown",
      "metadata": {
        "id": "HRC1Lijh-vVL",
        "colab_type": "text"
      },
      "source": [
        ">The <code>elif</code> statement, short for else if, allows us to check additional conditions if the condition statements before it are <b>False</b>. If the condition for the <code>elif</code> statement is <b>True</b>, the alternate expressions will be run."
      ]
    },
    {
      "cell_type": "code",
      "metadata": {
        "id": "kSULTdqS-ceE",
        "colab_type": "code",
        "colab": {
          "base_uri": "https://localhost:8080/",
          "height": 50
        },
        "outputId": "9afc2d52-4531-441c-da18-110570f7543e"
      },
      "source": [
        "# Elif statment example\n",
        "age = 18\n",
        "if age > 18:\n",
        "    print(\"you can enter club1\" )\n",
        "elif age == 18:\n",
        "  print('you can enter club 2')\n",
        "else:\n",
        "  print('you can enter club 3')\n",
        "print('move on')"
      ],
      "execution_count": null,
      "outputs": [
        {
          "output_type": "stream",
          "text": [
            "you can enter club 2\n",
            "move on\n"
          ],
          "name": "stdout"
        }
      ]
    },
    {
      "cell_type": "code",
      "metadata": {
        "id": "RMBmyAcH_PWi",
        "colab_type": "code",
        "colab": {
          "base_uri": "https://localhost:8080/",
          "height": 34
        },
        "outputId": "7549478d-b50c-47b7-9e0e-f54836241954"
      },
      "source": [
        "# Condition statement example\n",
        "album_year = 1970\n",
        "if album_year > 1980:\n",
        "  print('this is 80s')\n",
        "print('not 80s')"
      ],
      "execution_count": null,
      "outputs": [
        {
          "output_type": "stream",
          "text": [
            "not 80s\n"
          ],
          "name": "stdout"
        }
      ]
    },
    {
      "cell_type": "markdown",
      "metadata": {
        "id": "swgX8tSWA457",
        "colab_type": "text"
      },
      "source": [
        "## Logical operators"
      ]
    },
    {
      "cell_type": "markdown",
      "metadata": {
        "id": "lTNu1uhZBglK",
        "colab_type": "text"
      },
      "source": [
        ">Logical operators allow you to check more than one condition at once. For example, you might want to check if one condition and another condition is True. Logical operators allow you to combine or modify conditions.Logic operations take Boolean values and produce different Boolean values. \n",
        "\n",
        ">Different logocal operators:\n",
        "\n",
        "- and\n",
        "- or\n",
        "- not"
      ]
    },
    {
      "cell_type": "markdown",
      "metadata": {
        "id": "NzZYuO6LB5Op",
        "colab_type": "text"
      },
      "source": [
        ">These operators are summarized for two variables using the following truth tables:\n",
        "\n",
        "![Truth table](https://github.com/harsha8745/IBM-WATSON/blob/Images/Logical%20operators%20truth%20table.png?raw=true)\n",
        "\n"
      ]
    },
    {
      "cell_type": "code",
      "metadata": {
        "id": "uiJMDBePAW-q",
        "colab_type": "code",
        "colab": {
          "base_uri": "https://localhost:8080/",
          "height": 50
        },
        "outputId": "07878144-85d3-41e9-f7bc-fef1de8b1629"
      },
      "source": [
        "# and operator example\n",
        "q = 1980\n",
        "if q > 1979 and q < 1990:\n",
        "  print('q is from 80s')\n",
        "else:\n",
        "  print('q not from 80s')\n",
        "print('the end')"
      ],
      "execution_count": null,
      "outputs": [
        {
          "output_type": "stream",
          "text": [
            "q is from 80s\n",
            "the end\n"
          ],
          "name": "stdout"
        }
      ]
    },
    {
      "cell_type": "code",
      "metadata": {
        "id": "jIv33tZSJTT3",
        "colab_type": "code",
        "colab": {
          "base_uri": "https://localhost:8080/",
          "height": 50
        },
        "outputId": "c3523716-897d-4383-816b-d7f92fd9f16d"
      },
      "source": [
        "#  or operator example\n",
        "w = 1990\n",
        "if w < 1984 or w > 1989:\n",
        "  print('w is good')\n",
        "else:\n",
        "  print('w is bad')\n",
        "print('bye')"
      ],
      "execution_count": null,
      "outputs": [
        {
          "output_type": "stream",
          "text": [
            "w is good\n",
            "bye\n"
          ],
          "name": "stdout"
        }
      ]
    },
    {
      "cell_type": "markdown",
      "metadata": {
        "id": "qP734tygKrmT",
        "colab_type": "text"
      },
      "source": [
        "> The not statement checks if the statement is false:"
      ]
    },
    {
      "cell_type": "code",
      "metadata": {
        "id": "O0uctxeVKKXe",
        "colab_type": "code",
        "colab": {
          "base_uri": "https://localhost:8080/",
          "height": 34
        },
        "outputId": "fc2acca9-1dc4-40a2-9785-41b7157f802e"
      },
      "source": [
        "#not operator\n",
        "year = 1983\n",
        "if not year == 1984:\n",
        "  print('year is not 1984')\n"
      ],
      "execution_count": null,
      "outputs": [
        {
          "output_type": "stream",
          "text": [
            "year is not 1984\n"
          ],
          "name": "stdout"
        }
      ]
    },
    {
      "cell_type": "code",
      "metadata": {
        "id": "nfQznEusLJXx",
        "colab_type": "code",
        "colab": {}
      },
      "source": [
        ""
      ],
      "execution_count": null,
      "outputs": []
    },
    {
      "cell_type": "markdown",
      "metadata": {
        "id": "3CgaQiKBhD0p",
        "colab_type": "text"
      },
      "source": [
        "#Loops"
      ]
    },
    {
      "cell_type": "markdown",
      "metadata": {
        "id": "du2dmxAnhcJ5",
        "colab_type": "text"
      },
      "source": [
        "##Range"
      ]
    },
    {
      "cell_type": "markdown",
      "metadata": {
        "id": "vTZI0tDvhrO3",
        "colab_type": "text"
      },
      "source": [
        ">Before we discuss loops lets discuss the range object. It is helpful to think of the range object as an ordered list. For now, let's look at the simplest case. If we would like to generate a sequence that contains three elements ordered from 0 to 2 we simply use the following command:"
      ]
    },
    {
      "cell_type": "code",
      "metadata": {
        "id": "bruYo9nqhFr3",
        "colab_type": "code",
        "colab": {
          "base_uri": "https://localhost:8080/",
          "height": 67
        },
        "outputId": "ab2dc222-ace5-49c9-872b-8efe677dbb32"
      },
      "source": [
        "for i in range(3):\n",
        "  print(i)"
      ],
      "execution_count": null,
      "outputs": [
        {
          "output_type": "stream",
          "text": [
            "0\n",
            "1\n",
            "2\n"
          ],
          "name": "stdout"
        }
      ]
    },
    {
      "cell_type": "code",
      "metadata": {
        "id": "8QCrMNWhvqtn",
        "colab_type": "code",
        "colab": {
          "base_uri": "https://localhost:8080/",
          "height": 202
        },
        "outputId": "baeb7746-5515-4811-eeed-0e93e43e954f"
      },
      "source": [
        "#Write a for loop the prints out all the element between -5 and 5 using the range function.\n",
        "for i in range (-5,6):\n",
        "  print(i)"
      ],
      "execution_count": null,
      "outputs": [
        {
          "output_type": "stream",
          "text": [
            "-5\n",
            "-4\n",
            "-3\n",
            "-2\n",
            "-1\n",
            "0\n",
            "1\n",
            "2\n",
            "3\n",
            "4\n",
            "5\n"
          ],
          "name": "stdout"
        }
      ]
    },
    {
      "cell_type": "markdown",
      "metadata": {
        "id": "iQTsG7sZjgeZ",
        "colab_type": "text"
      },
      "source": [
        "##For loop\n"
      ]
    },
    {
      "cell_type": "markdown",
      "metadata": {
        "id": "QIi9E91WjrxU",
        "colab_type": "text"
      },
      "source": [
        ">Sometimes, you might want to repeat a given operation many times. Repeated executions like this are performed by loops. We will look at two types of loops, for loops and while loops."
      ]
    },
    {
      "cell_type": "markdown",
      "metadata": {
        "id": "nhuXu3hkkOaY",
        "colab_type": "text"
      },
      "source": [
        ">The for loop enables you to execute a code block multiple times. For example, you would use this if you would like to print out every element in a list."
      ]
    },
    {
      "cell_type": "code",
      "metadata": {
        "id": "loLi7CpBjRuc",
        "colab_type": "code",
        "colab": {
          "base_uri": "https://localhost:8080/",
          "height": 84
        },
        "outputId": "e0ecb9a4-829d-4376-b1da-76d02a98257a"
      },
      "source": [
        "dates = [151,54515,541598423,4154]\n",
        "l = len(dates)\n",
        "for i in range(l):\n",
        "  print(dates[i])"
      ],
      "execution_count": null,
      "outputs": [
        {
          "output_type": "stream",
          "text": [
            "151\n",
            "54515\n",
            "541598423\n",
            "4154\n"
          ],
          "name": "stdout"
        }
      ]
    },
    {
      "cell_type": "markdown",
      "metadata": {
        "id": "8Tr_NnfilWW7",
        "colab_type": "text"
      },
      "source": [
        ">The code in the indent is executed  l times, each time the value of i is increased by 1 for every execution. The statement executed is to print out the value in the list at index i as shown here:"
      ]
    },
    {
      "cell_type": "code",
      "metadata": {
        "id": "ZdoHXCPHkr5d",
        "colab_type": "code",
        "colab": {
          "base_uri": "https://localhost:8080/",
          "height": 84
        },
        "outputId": "cd2203f4-855d-4b47-c8ab-b372648d11ae"
      },
      "source": [
        "#alternate way of doing this\n",
        "for date in dates:\n",
        "  print(date)"
      ],
      "execution_count": null,
      "outputs": [
        {
          "output_type": "stream",
          "text": [
            "151\n",
            "54515\n",
            "541598423\n",
            "4154\n"
          ],
          "name": "stdout"
        }
      ]
    },
    {
      "cell_type": "code",
      "metadata": {
        "id": "tnpABjR3mL55",
        "colab_type": "code",
        "colab": {
          "base_uri": "https://localhost:8080/",
          "height": 151
        },
        "outputId": "d0705739-5824-419c-b6e7-7e6fd2a43e58"
      },
      "source": [
        "#In this example we can print out a sequence of numbers from 0 to 7:\n",
        "for j in range(8):\n",
        "  print(j)"
      ],
      "execution_count": null,
      "outputs": [
        {
          "output_type": "stream",
          "text": [
            "0\n",
            "1\n",
            "2\n",
            "3\n",
            "4\n",
            "5\n",
            "6\n",
            "7\n"
          ],
          "name": "stdout"
        }
      ]
    },
    {
      "cell_type": "code",
      "metadata": {
        "id": "3qUt91uCmdaq",
        "colab_type": "code",
        "colab": {
          "base_uri": "https://localhost:8080/",
          "height": 101
        },
        "outputId": "df454e85-02bf-44a8-8994-59f4b83a2b11"
      },
      "source": [
        "#We can change the elements in a list:\n",
        "squares = ['red', 'yellow', 'green', 'purple', 'blue']\n",
        "for k in range(0,5):\n",
        "  squares[k] = 'weight'\n",
        "  print(k, squares[k])"
      ],
      "execution_count": null,
      "outputs": [
        {
          "output_type": "stream",
          "text": [
            "0 weight\n",
            "1 weight\n",
            "2 weight\n",
            "3 weight\n",
            "4 weight\n"
          ],
          "name": "stdout"
        }
      ]
    },
    {
      "cell_type": "code",
      "metadata": {
        "id": "dl0NmVoHnX49",
        "colab_type": "code",
        "colab": {
          "base_uri": "https://localhost:8080/",
          "height": 101
        },
        "outputId": "c5fcb971-37ba-4928-b721-859850a736c5"
      },
      "source": [
        "# Loop through the list and iterate on both index and element value\n",
        "\n",
        "squares=['red', 'yellow', 'green', 'purple', 'blue']\n",
        "\n",
        "for i,j in enumerate(squares):\n",
        "    print(i,j)"
      ],
      "execution_count": null,
      "outputs": [
        {
          "output_type": "stream",
          "text": [
            "0 red\n",
            "1 yellow\n",
            "2 green\n",
            "3 purple\n",
            "4 blue\n"
          ],
          "name": "stdout"
        }
      ]
    },
    {
      "cell_type": "markdown",
      "metadata": {
        "id": "ZNIHS884qhoO",
        "colab_type": "text"
      },
      "source": [
        "##While loop"
      ]
    },
    {
      "cell_type": "markdown",
      "metadata": {
        "id": "vUInACHNqmKo",
        "colab_type": "text"
      },
      "source": [
        ">As you can see, the for loop is used for a controlled flow of repetition. However, what if we don't know when we want to stop the loop? What if we want to keep executing a code block until a certain condition is met? The while loop exists as a tool for repeated execution based on a condition. The code block will keep being executed until the given logical condition returns a False boolean value."
      ]
    },
    {
      "cell_type": "markdown",
      "metadata": {
        "id": "25TvBTAaq91i",
        "colab_type": "text"
      },
      "source": [
        ">Let’s say we would like to iterate through list dates and stop at the year 1973, then print out the number of iterations. This can be done with the following block of code:"
      ]
    },
    {
      "cell_type": "code",
      "metadata": {
        "id": "YjX8RykSqcY8",
        "colab_type": "code",
        "colab": {
          "base_uri": "https://localhost:8080/",
          "height": 84
        },
        "outputId": "5ca7838a-1019-449f-a775-3912d5a16894"
      },
      "source": [
        "dates = [1982, 1980, 1973, 2000]\n",
        "i = 0\n",
        "while dates[i] != 1973:\n",
        "  print(dates[i])\n",
        "  i = i+1\n",
        "print(dates[i])\n",
        "print('it took', i ,'iterations')\n",
        "\n"
      ],
      "execution_count": null,
      "outputs": [
        {
          "output_type": "stream",
          "text": [
            "1982\n",
            "1980\n",
            "1973\n",
            "it took 2 iterations\n"
          ],
          "name": "stdout"
        }
      ]
    },
    {
      "cell_type": "code",
      "metadata": {
        "id": "_-Fyn7l6r1FM",
        "colab_type": "code",
        "colab": {
          "base_uri": "https://localhost:8080/",
          "height": 84
        },
        "outputId": "e7550b0f-ad7c-4bf3-fbe0-8429e1d0f35d"
      },
      "source": [
        "dates = [1982, 1980, 1973, 2000]\n",
        "i = 0\n",
        "year = 0\n",
        "while(year != 1973):\n",
        "  year = dates[i]\n",
        "  i = i+1\n",
        "  print(year)\n",
        "print(\"It took \", i ,\"repetitions to get out of loop.\")"
      ],
      "execution_count": null,
      "outputs": [
        {
          "output_type": "stream",
          "text": [
            "1982\n",
            "1980\n",
            "1973\n",
            "It took  3 repetitions to get out of loop.\n"
          ],
          "name": "stdout"
        }
      ]
    },
    {
      "cell_type": "code",
      "metadata": {
        "id": "Tn4LZDdLuK3V",
        "colab_type": "code",
        "colab": {
          "base_uri": "https://localhost:8080/",
          "height": 101
        },
        "outputId": "0ca8151c-d030-49bb-b356-395c5be64dd7"
      },
      "source": [
        "#If the score is less than 6, exit the loop\n",
        "x = [10, 9.5, 10, 8, 7.5, 5, 10, 10]\n",
        "i = 0\n",
        "while(x[i] > 6):\n",
        "    print(x[i])\n",
        "    i = i+1"
      ],
      "execution_count": null,
      "outputs": [
        {
          "output_type": "stream",
          "text": [
            "10\n",
            "9.5\n",
            "10\n",
            "8\n",
            "7.5\n"
          ],
          "name": "stdout"
        }
      ]
    },
    {
      "cell_type": "code",
      "metadata": {
        "id": "0HNQT8YQ1DO9",
        "colab_type": "code",
        "colab": {
          "base_uri": "https://localhost:8080/",
          "height": 34
        },
        "outputId": "b2736a91-e097-4b93-fdb7-36b93600129b"
      },
      "source": [
        "#Stop and exit the loop if the value on the list is not 'orange':\n",
        "squares = ['orange', 'orange', 'purple', 'blue ', 'orange']\n",
        "new_squares = []\n",
        "i = 0\n",
        "while squares[i] == 'orange':\n",
        "    new_squares.append(squares[i])\n",
        "    i = i+1\n",
        "print(new_squares)"
      ],
      "execution_count": null,
      "outputs": [
        {
          "output_type": "stream",
          "text": [
            "['orange', 'orange']\n"
          ],
          "name": "stdout"
        }
      ]
    },
    {
      "cell_type": "markdown",
      "metadata": {
        "id": "lfUuS9xvr1Pt",
        "colab_type": "text"
      },
      "source": [
        "#Functions"
      ]
    },
    {
      "cell_type": "markdown",
      "metadata": {
        "id": "M72flJWzgCuu",
        "colab_type": "text"
      },
      "source": [
        ">Functions:\n",
        "A function is a reusable block of code which performs operations specified in the function. They let you break down tasks and allow you to reuse your code in different programs.\n",
        "\n",
        ">There are two types of functions :\n",
        "\n",
        "- Pre-defined functions\n",
        "- User defined functions"
      ]
    },
    {
      "cell_type": "markdown",
      "metadata": {
        "id": "wVio2y2IgJE8",
        "colab_type": "text"
      },
      "source": [
        ">What is a Function?\n",
        ">You can define functions to provide the required functionality. Here are simple rules to define a function in Python:\n",
        "-  Functions blocks begin <code>def</code> followed by the function <code>name</code> and parentheses <code>()</code>.\n",
        "-  There are input parameters or arguments(parameters) that should be placed within these parentheses. \n",
        "-  You can also define parameters inside these parentheses.\n",
        "-  There is a body within every function that starts with a colon (<code>:</code>) and is indented.\n",
        "-  You can also place documentation before the body \n",
        "-  The statement <code>return</code> exits a function, optionally passing back a value \n",
        "\n"
      ]
    },
    {
      "cell_type": "code",
      "metadata": {
        "id": "gH2Ul79J1bHT",
        "colab_type": "code",
        "colab": {}
      },
      "source": [
        "#An example of a function that adds 1 to the parameter \n",
        "def add1(a):\n",
        "  b = a + 1\n",
        "  print('adding 1 to', a, 'gives', b)\n",
        "  return(b)"
      ],
      "execution_count": null,
      "outputs": []
    },
    {
      "cell_type": "code",
      "metadata": {
        "id": "W5PG2IDfhOIh",
        "colab_type": "code",
        "colab": {
          "base_uri": "https://localhost:8080/",
          "height": 50
        },
        "outputId": "00cac697-1491-42db-9fb5-eadfb1830bf8"
      },
      "source": [
        "add1(5)"
      ],
      "execution_count": null,
      "outputs": [
        {
          "output_type": "stream",
          "text": [
            "adding 1 to 5 gives 6\n"
          ],
          "name": "stdout"
        },
        {
          "output_type": "execute_result",
          "data": {
            "text/plain": [
              "6"
            ]
          },
          "metadata": {
            "tags": []
          },
          "execution_count": 3
        }
      ]
    },
    {
      "cell_type": "code",
      "metadata": {
        "id": "z65mClPXhXnR",
        "colab_type": "code",
        "colab": {
          "base_uri": "https://localhost:8080/",
          "height": 50
        },
        "outputId": "105b3fa2-1b4c-4448-fee2-761487669832"
      },
      "source": [
        "add1(99)"
      ],
      "execution_count": null,
      "outputs": [
        {
          "output_type": "stream",
          "text": [
            "adding 1 to 99 gives 100\n"
          ],
          "name": "stdout"
        },
        {
          "output_type": "execute_result",
          "data": {
            "text/plain": [
              "100"
            ]
          },
          "metadata": {
            "tags": []
          },
          "execution_count": 4
        }
      ]
    },
    {
      "cell_type": "code",
      "metadata": {
        "id": "gG-DkaG4ha5m",
        "colab_type": "code",
        "colab": {
          "base_uri": "https://localhost:8080/",
          "height": 101
        },
        "outputId": "79c9c74d-c15e-42d9-9cbe-8ca1896ef2a8"
      },
      "source": [
        "#help about function\n",
        "help(add1)"
      ],
      "execution_count": null,
      "outputs": [
        {
          "output_type": "stream",
          "text": [
            "Help on function add1 in module __main__:\n",
            "\n",
            "add1(a)\n",
            "    #An example of a function that adds 1 to the parameter\n",
            "\n"
          ],
          "name": "stdout"
        }
      ]
    },
    {
      "cell_type": "code",
      "metadata": {
        "id": "qlB_lqXDhh3q",
        "colab_type": "code",
        "colab": {}
      },
      "source": [
        "#function with multiple parameters\n",
        "def mult(a,b):\n",
        "  c = a*b\n",
        "  return(c)"
      ],
      "execution_count": null,
      "outputs": []
    },
    {
      "cell_type": "code",
      "metadata": {
        "id": "fRgAQOnLisuB",
        "colab_type": "code",
        "colab": {
          "base_uri": "https://localhost:8080/",
          "height": 34
        },
        "outputId": "262fa35e-8e81-4c73-9071-106281abfa55"
      },
      "source": [
        "mult(3,5)"
      ],
      "execution_count": null,
      "outputs": [
        {
          "output_type": "execute_result",
          "data": {
            "text/plain": [
              "15"
            ]
          },
          "metadata": {
            "tags": []
          },
          "execution_count": 7
        }
      ]
    },
    {
      "cell_type": "code",
      "metadata": {
        "id": "IAfczapfive7",
        "colab_type": "code",
        "colab": {
          "base_uri": "https://localhost:8080/",
          "height": 34
        },
        "outputId": "b9841665-d195-45d2-c940-5327f2767c26"
      },
      "source": [
        "mult(14,8.15)"
      ],
      "execution_count": null,
      "outputs": [
        {
          "output_type": "execute_result",
          "data": {
            "text/plain": [
              "114.10000000000001"
            ]
          },
          "metadata": {
            "tags": []
          },
          "execution_count": 9
        }
      ]
    },
    {
      "cell_type": "code",
      "metadata": {
        "id": "QBzlrvpwixZt",
        "colab_type": "code",
        "colab": {
          "base_uri": "https://localhost:8080/",
          "height": 34
        },
        "outputId": "6c09468e-bd99-420a-d690-6e35ead06f12"
      },
      "source": [
        "mult(3,'musk')"
      ],
      "execution_count": null,
      "outputs": [
        {
          "output_type": "execute_result",
          "data": {
            "text/plain": [
              "'muskmuskmusk'"
            ]
          },
          "metadata": {
            "tags": []
          },
          "execution_count": 11
        }
      ]
    },
    {
      "cell_type": "markdown",
      "metadata": {
        "id": "pycDlFvyjfuw",
        "colab_type": "text"
      },
      "source": [
        ">Variables:\n",
        ">The input to a function is called a formal parameter.\n",
        "\n",
        ">A variable that is declared inside a function is called a local variable. The parameter only exists within the function (i.e. the point where the function starts and stops).\n",
        "\n",
        ">A variable that is declared outside a function definition is a global variable, and its value is accessible and modifiable throughout the program. We will discuss more about global variables at the end of the lab."
      ]
    },
    {
      "cell_type": "code",
      "metadata": {
        "id": "lshAVoqbi-2x",
        "colab_type": "code",
        "colab": {}
      },
      "source": [
        "#local varibles\n",
        "def sqr1(a):\n",
        "  b = 1  #here b is a local variable, not global, so cant be accessed outside the function\n",
        "  c = a*a+b\n",
        "  print('squaring', a, 'and adding 1 gives', c)\n",
        "  return(c)"
      ],
      "execution_count": null,
      "outputs": []
    },
    {
      "cell_type": "code",
      "metadata": {
        "id": "hTd-0oohkP5S",
        "colab_type": "code",
        "colab": {
          "base_uri": "https://localhost:8080/",
          "height": 50
        },
        "outputId": "ed428e7f-0ba3-4cd0-b5bd-97c6efc9a390"
      },
      "source": [
        "sqr1(3)"
      ],
      "execution_count": null,
      "outputs": [
        {
          "output_type": "stream",
          "text": [
            "squaring 3 and adding 1 gives 10\n"
          ],
          "name": "stdout"
        },
        {
          "output_type": "execute_result",
          "data": {
            "text/plain": [
              "10"
            ]
          },
          "metadata": {
            "tags": []
          },
          "execution_count": 17
        }
      ]
    },
    {
      "cell_type": "code",
      "metadata": {
        "id": "k74n6t4DktoG",
        "colab_type": "code",
        "colab": {
          "base_uri": "https://localhost:8080/",
          "height": 162
        },
        "outputId": "815d27e8-a8ce-49f6-e44b-4df5d290b222"
      },
      "source": [
        "print(b) #since b is not a global variable, hence undefined"
      ],
      "execution_count": null,
      "outputs": [
        {
          "output_type": "error",
          "ename": "NameError",
          "evalue": "ignored",
          "traceback": [
            "\u001b[0;31m---------------------------------------------------------------------------\u001b[0m",
            "\u001b[0;31mNameError\u001b[0m                                 Traceback (most recent call last)",
            "\u001b[0;32m<ipython-input-19-36db4a9cfe93>\u001b[0m in \u001b[0;36m<module>\u001b[0;34m()\u001b[0m\n\u001b[0;32m----> 1\u001b[0;31m \u001b[0mprint\u001b[0m\u001b[0;34m(\u001b[0m\u001b[0mb\u001b[0m\u001b[0;34m)\u001b[0m \u001b[0;31m#since b is not a global variable, hence undefined\u001b[0m\u001b[0;34m\u001b[0m\u001b[0;34m\u001b[0m\u001b[0m\n\u001b[0m",
            "\u001b[0;31mNameError\u001b[0m: name 'b' is not defined"
          ]
        }
      ]
    },
    {
      "cell_type": "code",
      "metadata": {
        "id": "H5wxdGG_lPVS",
        "colab_type": "code",
        "colab": {}
      },
      "source": [
        "#If there is no return statement, the function returns None. The following two functions are equivalent:\n",
        "def em():\n",
        "  print('elon musk')"
      ],
      "execution_count": null,
      "outputs": []
    },
    {
      "cell_type": "code",
      "metadata": {
        "id": "D6_PXRkulw5x",
        "colab_type": "code",
        "colab": {
          "base_uri": "https://localhost:8080/",
          "height": 34
        },
        "outputId": "dbfc54f8-579b-4cfd-b599-2a61fe7c6d93"
      },
      "source": [
        "em()"
      ],
      "execution_count": null,
      "outputs": [
        {
          "output_type": "stream",
          "text": [
            "elon musk\n"
          ],
          "name": "stdout"
        }
      ]
    },
    {
      "cell_type": "code",
      "metadata": {
        "id": "CrTeJw5tl2OH",
        "colab_type": "code",
        "colab": {}
      },
      "source": [
        "def MJ1():\n",
        "    print('Michael Jackson')\n",
        "    return(None)"
      ],
      "execution_count": null,
      "outputs": []
    },
    {
      "cell_type": "code",
      "metadata": {
        "id": "2TC6rpeDmD_5",
        "colab_type": "code",
        "colab": {
          "base_uri": "https://localhost:8080/",
          "height": 34
        },
        "outputId": "d1b834ee-7a6f-4505-816b-789cbbdc9036"
      },
      "source": [
        "MJ1()"
      ],
      "execution_count": null,
      "outputs": [
        {
          "output_type": "stream",
          "text": [
            "Michael Jackson\n"
          ],
          "name": "stdout"
        }
      ]
    },
    {
      "cell_type": "code",
      "metadata": {
        "id": "hRpzbYfKmFhO",
        "colab_type": "code",
        "colab": {
          "base_uri": "https://localhost:8080/",
          "height": 84
        },
        "outputId": "14f0ff9c-4287-4c95-ae67-129ab663aeb9"
      },
      "source": [
        "#Printing the function after a call reveals a None is the default return statement:\n",
        "print(em())\n",
        "print(MJ1())"
      ],
      "execution_count": null,
      "outputs": [
        {
          "output_type": "stream",
          "text": [
            "elon musk\n",
            "None\n",
            "Michael Jackson\n",
            "None\n"
          ],
          "name": "stdout"
        }
      ]
    },
    {
      "cell_type": "code",
      "metadata": {
        "id": "LbcEfNMHmhvc",
        "colab_type": "code",
        "colab": {}
      },
      "source": [
        "#Create a function con that concatenates two strings using the addition operation:\n",
        "def con(a,b):\n",
        "  c = a+b\n",
        "  return(c)\n",
        "  return(a+b)  #alternate way"
      ],
      "execution_count": null,
      "outputs": []
    },
    {
      "cell_type": "code",
      "metadata": {
        "id": "FTqtTaShm1it",
        "colab_type": "code",
        "colab": {
          "base_uri": "https://localhost:8080/",
          "height": 34
        },
        "outputId": "4f54c1c3-cc08-4e2f-d3e1-bbb7d3d7a395"
      },
      "source": [
        "con('elon','musk')"
      ],
      "execution_count": null,
      "outputs": [
        {
          "output_type": "execute_result",
          "data": {
            "text/plain": [
              "'elonmusk'"
            ]
          },
          "metadata": {
            "tags": []
          },
          "execution_count": 33
        }
      ]
    },
    {
      "cell_type": "markdown",
      "metadata": {
        "id": "yyk78GcLqee1",
        "colab_type": "text"
      },
      "source": [
        ">Pre-defined functions\n",
        "\n",
        ">There are many pre-defined functions in Python, so let's start with the simple ones."
      ]
    },
    {
      "cell_type": "code",
      "metadata": {
        "id": "W98aRU6_m5vZ",
        "colab_type": "code",
        "colab": {
          "base_uri": "https://localhost:8080/",
          "height": 34
        },
        "outputId": "2d4b7bd3-8fd7-4386-c0dc-54136eb08c7c"
      },
      "source": [
        "#The print() function:\n",
        "album_ratings = [10.0, 8.5, 9.5, 7.0, 7.0, 9.5, 9.0, 9.5] \n",
        "print(album_ratings)"
      ],
      "execution_count": null,
      "outputs": [
        {
          "output_type": "stream",
          "text": [
            "[10.0, 8.5, 9.5, 7.0, 7.0, 9.5, 9.0, 9.5]\n"
          ],
          "name": "stdout"
        }
      ]
    },
    {
      "cell_type": "code",
      "metadata": {
        "id": "hJMKD8Naqu-H",
        "colab_type": "code",
        "colab": {
          "base_uri": "https://localhost:8080/",
          "height": 34
        },
        "outputId": "163a49b0-890f-4e8f-d7b0-71df6cf4c3f8"
      },
      "source": [
        "#The sum() function adds all the elements in a list or tuple:\n",
        "sum(album_ratings)"
      ],
      "execution_count": null,
      "outputs": [
        {
          "output_type": "execute_result",
          "data": {
            "text/plain": [
              "70.0"
            ]
          },
          "metadata": {
            "tags": []
          },
          "execution_count": 35
        }
      ]
    },
    {
      "cell_type": "code",
      "metadata": {
        "id": "SQ8zqwTGq4BK",
        "colab_type": "code",
        "colab": {
          "base_uri": "https://localhost:8080/",
          "height": 34
        },
        "outputId": "bf515cdf-53fc-4b45-9f61-026d3d5ff00a"
      },
      "source": [
        "#The len() function returns the length of a list or tuple:\n",
        "len(album_ratings)"
      ],
      "execution_count": null,
      "outputs": [
        {
          "output_type": "execute_result",
          "data": {
            "text/plain": [
              "8"
            ]
          },
          "metadata": {
            "tags": []
          },
          "execution_count": 36
        }
      ]
    },
    {
      "cell_type": "markdown",
      "metadata": {
        "id": "29H2lbyfrFg0",
        "colab_type": "text"
      },
      "source": [
        ">Using if/else Statements and Loops in Functions\n",
        "\n",
        ">The return() function is particularly useful if you have any IF statements in the function, when you want your output to be dependent on some condition:"
      ]
    },
    {
      "cell_type": "code",
      "metadata": {
        "id": "_pZ7BPIqq-Z5",
        "colab_type": "code",
        "colab": {}
      },
      "source": [
        "def album_type(artist,album,year):\n",
        "  print(artist,album,year)\n",
        "  if year > 1980:\n",
        "    return('modern')\n",
        "  else:\n",
        "    return('old')"
      ],
      "execution_count": null,
      "outputs": []
    },
    {
      "cell_type": "code",
      "metadata": {
        "id": "vk2LhTBzr6Ez",
        "colab_type": "code",
        "colab": {
          "base_uri": "https://localhost:8080/",
          "height": 50
        },
        "outputId": "3b7d9301-29e7-4e2a-cdda-ea33f3d68942"
      },
      "source": [
        "album_type(\"Michael Jackson\", \"Thriller\", 1980)"
      ],
      "execution_count": null,
      "outputs": [
        {
          "output_type": "stream",
          "text": [
            "Michael Jackson Thriller 1980\n"
          ],
          "name": "stdout"
        },
        {
          "output_type": "execute_result",
          "data": {
            "text/plain": [
              "'old'"
            ]
          },
          "metadata": {
            "tags": []
          },
          "execution_count": 40
        }
      ]
    },
    {
      "cell_type": "code",
      "metadata": {
        "id": "WHgD27VfsDlO",
        "colab_type": "code",
        "colab": {}
      },
      "source": [
        "#We can use a loop in a function. For example, we can print out each element in a list:\n",
        "def PrintList(the_list):\n",
        "    for element in the_list:\n",
        "        print(element)"
      ],
      "execution_count": null,
      "outputs": []
    },
    {
      "cell_type": "code",
      "metadata": {
        "id": "ru-KvCBYscMK",
        "colab_type": "code",
        "colab": {
          "base_uri": "https://localhost:8080/",
          "height": 84
        },
        "outputId": "3a03a9ce-aebb-4e06-e93c-65f34f653ec0"
      },
      "source": [
        "PrintList(['1', 1, 'the man', \"abc\"])"
      ],
      "execution_count": null,
      "outputs": [
        {
          "output_type": "stream",
          "text": [
            "1\n",
            "1\n",
            "the man\n",
            "abc\n"
          ],
          "name": "stdout"
        }
      ]
    },
    {
      "cell_type": "code",
      "metadata": {
        "id": "G1bC7Cw3sf-G",
        "colab_type": "code",
        "colab": {}
      },
      "source": [
        "# setting defined value for the variable in a custom function\n",
        "def GoodRating(rating = 5):      #5 is the default rating\n",
        "  if rating < 7:\n",
        "    print('bad movie', rating)\n",
        "  else:\n",
        "    print('good movie', rating)"
      ],
      "execution_count": null,
      "outputs": []
    },
    {
      "cell_type": "code",
      "metadata": {
        "id": "b5m2FMJ9wbpC",
        "colab_type": "code",
        "colab": {
          "base_uri": "https://localhost:8080/",
          "height": 50
        },
        "outputId": "f27cb8b8-d6be-4cb2-e34c-292f8a8b8d7b"
      },
      "source": [
        "GoodRating()\n",
        "GoodRating(10)"
      ],
      "execution_count": null,
      "outputs": [
        {
          "output_type": "stream",
          "text": [
            "bad movie 5\n",
            "good movie 10\n"
          ],
          "name": "stdout"
        }
      ]
    },
    {
      "cell_type": "markdown",
      "metadata": {
        "id": "tUZv0yEvxNHN",
        "colab_type": "text"
      },
      "source": [
        ">Global variables\n",
        "\n",
        ">So far, we've been creating variables within functions, but we have not discussed variables outside the function. These are called global variables.\n",
        "Let's try to see what printer1 returns:"
      ]
    },
    {
      "cell_type": "code",
      "metadata": {
        "id": "P6HFnTskwhnn",
        "colab_type": "code",
        "colab": {
          "base_uri": "https://localhost:8080/",
          "height": 34
        },
        "outputId": "2d622ae2-5b70-4fc0-eee6-387f4d33ac99"
      },
      "source": [
        "# Example of global variable\n",
        "\n",
        "artist = \"Michael Jackson\"\n",
        "def printer1(artist):\n",
        "    internal_var = artist\n",
        "    print(artist, \"is an artist\")\n",
        "    \n",
        "printer1(artist)"
      ],
      "execution_count": null,
      "outputs": [
        {
          "output_type": "stream",
          "text": [
            "Michael Jackson is an artist\n"
          ],
          "name": "stdout"
        }
      ]
    },
    {
      "cell_type": "code",
      "metadata": {
        "id": "n97NGbdxx8bo",
        "colab_type": "code",
        "colab": {
          "base_uri": "https://localhost:8080/",
          "height": 162
        },
        "outputId": "88a9cb9c-9355-4560-e3cd-197faecd0421"
      },
      "source": [
        "internal_var #umdefined outside the function"
      ],
      "execution_count": null,
      "outputs": [
        {
          "output_type": "error",
          "ename": "NameError",
          "evalue": "ignored",
          "traceback": [
            "\u001b[0;31m---------------------------------------------------------------------------\u001b[0m",
            "\u001b[0;31mNameError\u001b[0m                                 Traceback (most recent call last)",
            "\u001b[0;32m<ipython-input-49-b190f9fdb52c>\u001b[0m in \u001b[0;36m<module>\u001b[0;34m()\u001b[0m\n\u001b[0;32m----> 1\u001b[0;31m \u001b[0minternal_var\u001b[0m\u001b[0;34m\u001b[0m\u001b[0;34m\u001b[0m\u001b[0m\n\u001b[0m",
            "\u001b[0;31mNameError\u001b[0m: name 'internal_var' is not defined"
          ]
        }
      ]
    },
    {
      "cell_type": "code",
      "metadata": {
        "id": "WArpj6S6yA-D",
        "colab_type": "code",
        "colab": {
          "base_uri": "https://localhost:8080/",
          "height": 50
        },
        "outputId": "d31d63f3-c18a-487e-e6a3-42e528afcf5e"
      },
      "source": [
        "#to create global variables from within a function, use global\n",
        "\n",
        "artist = \"Michael Jackson\"\n",
        "\n",
        "def printer(artist):\n",
        "    global internal_var \n",
        "    internal_var= \"Whitney Houston\"\n",
        "    print(artist,\"is an artist\")\n",
        "\n",
        "printer(artist) \n",
        "printer(internal_var)"
      ],
      "execution_count": null,
      "outputs": [
        {
          "output_type": "stream",
          "text": [
            "Michael Jackson is an artist\n",
            "Whitney Houston is an artist\n"
          ],
          "name": "stdout"
        }
      ]
    },
    {
      "cell_type": "markdown",
      "metadata": {
        "id": "SC9V6jN2y2v5",
        "colab_type": "text"
      },
      "source": [
        ">Scope of a Variable\n",
        "\n",
        ">The scope of a variable is the part of that program where that variable is accessible. Variables that are declared outside of all function definitions, such as the myFavouriteBand variable in the code shown here, are accessible from anywhere within the program. As a result, such variables are said to have global scope, and are known as global variables. myFavouriteBand is a global variable, so it is accessible from within the getBandRating function, and we can use it to determine a band's rating. We can also use it outside of the function, such as when we pass it to the print function to display it:"
      ]
    },
    {
      "cell_type": "code",
      "metadata": {
        "id": "ofPdg9qfyUnj",
        "colab_type": "code",
        "colab": {
          "base_uri": "https://localhost:8080/",
          "height": 67
        },
        "outputId": "484fc2b6-4178-4351-80ca-b0bf1602e588"
      },
      "source": [
        "# Example of global variable\n",
        "\n",
        "myFavouriteBand1 = \"AC/DC\"\n",
        "\n",
        "def getBandRating(bandname):\n",
        "    if bandname == myFavouriteBand1:\n",
        "        return 10.0\n",
        "    else:\n",
        "        return 0.0\n",
        "\n",
        "print(\"AC/DC's rating is:\", getBandRating(\"AC/DC\"))\n",
        "print(\"Deep Purple's rating is:\",getBandRating(\"Deep Purple\"))\n",
        "print(\"My favourite band is:\", myFavouriteBand1)"
      ],
      "execution_count": null,
      "outputs": [
        {
          "output_type": "stream",
          "text": [
            "AC/DC's rating is: 10.0\n",
            "Deep Purple's rating is: 0.0\n",
            "My favourite band is: AC/DC\n"
          ],
          "name": "stdout"
        }
      ]
    },
    {
      "cell_type": "markdown",
      "metadata": {
        "id": "ePnaGfWzzzFt",
        "colab_type": "text"
      },
      "source": [
        ">Take a look at this modified version of our code. Now the myFavouriteBand variable is defined within the getBandRating function. A variable that is defined within a function is said to be a local variable of that function. That means that it is only accessible from within the function in which it is defined. Our getBandRating function will still work, because myFavouriteBand is still defined within the function. However, we can no longer print myFavouriteBand outside our function, because it is a local variable of our getBandRating function; it is only defined within the getBandRating function:"
      ]
    },
    {
      "cell_type": "code",
      "metadata": {
        "id": "rsz23krRzh3B",
        "colab_type": "code",
        "colab": {}
      },
      "source": [
        "# Example of local variable\n",
        "\n",
        "def getBandRating(bandname):\n",
        "    myFavouriteBand2 = \"AC/DC\"\n",
        "    if bandname == myFavouriteBand2:\n",
        "        return 10.0\n",
        "    else:\n",
        "        return 0.0\n",
        "\n"
      ],
      "execution_count": null,
      "outputs": []
    },
    {
      "cell_type": "code",
      "metadata": {
        "id": "DsRbg3-Sz3I7",
        "colab_type": "code",
        "colab": {
          "base_uri": "https://localhost:8080/",
          "height": 229
        },
        "outputId": "04095ef3-0fc7-49e1-aa99-d1cbdfdbd8da"
      },
      "source": [
        "print(\"AC/DC's rating is: \", getBandRating(\"AC/DC\"))\n",
        "print(\"Deep Purple's rating is: \", getBandRating(\"Deep Purple\"))\n",
        "print(\"My favourite band is\", myFavouriteBand2)"
      ],
      "execution_count": null,
      "outputs": [
        {
          "output_type": "stream",
          "text": [
            "AC/DC's rating is:  10.0\n",
            "Deep Purple's rating is:  0.0\n"
          ],
          "name": "stdout"
        },
        {
          "output_type": "error",
          "ename": "NameError",
          "evalue": "ignored",
          "traceback": [
            "\u001b[0;31m---------------------------------------------------------------------------\u001b[0m",
            "\u001b[0;31mNameError\u001b[0m                                 Traceback (most recent call last)",
            "\u001b[0;32m<ipython-input-63-196fc4a5c515>\u001b[0m in \u001b[0;36m<module>\u001b[0;34m()\u001b[0m\n\u001b[1;32m      1\u001b[0m \u001b[0mprint\u001b[0m\u001b[0;34m(\u001b[0m\u001b[0;34m\"AC/DC's rating is: \"\u001b[0m\u001b[0;34m,\u001b[0m \u001b[0mgetBandRating\u001b[0m\u001b[0;34m(\u001b[0m\u001b[0;34m\"AC/DC\"\u001b[0m\u001b[0;34m)\u001b[0m\u001b[0;34m)\u001b[0m\u001b[0;34m\u001b[0m\u001b[0;34m\u001b[0m\u001b[0m\n\u001b[1;32m      2\u001b[0m \u001b[0mprint\u001b[0m\u001b[0;34m(\u001b[0m\u001b[0;34m\"Deep Purple's rating is: \"\u001b[0m\u001b[0;34m,\u001b[0m \u001b[0mgetBandRating\u001b[0m\u001b[0;34m(\u001b[0m\u001b[0;34m\"Deep Purple\"\u001b[0m\u001b[0;34m)\u001b[0m\u001b[0;34m)\u001b[0m\u001b[0;34m\u001b[0m\u001b[0;34m\u001b[0m\u001b[0m\n\u001b[0;32m----> 3\u001b[0;31m \u001b[0mprint\u001b[0m\u001b[0;34m(\u001b[0m\u001b[0;34m\"My favourite band is\"\u001b[0m\u001b[0;34m,\u001b[0m \u001b[0mmyFavouriteBand2\u001b[0m\u001b[0;34m)\u001b[0m\u001b[0;34m\u001b[0m\u001b[0;34m\u001b[0m\u001b[0m\n\u001b[0m",
            "\u001b[0;31mNameError\u001b[0m: name 'myFavouriteBand2' is not defined"
          ]
        }
      ]
    },
    {
      "cell_type": "markdown",
      "metadata": {
        "id": "ywljWicF12Vh",
        "colab_type": "text"
      },
      "source": [
        ">Finally, take a look at this example. We now have two myFavouriteBand variable definitions. The first one of these has a global scope, and the second of them is a local variable within the getBandRating function. Within the getBandRating function, the local variable takes ***precedence***. Deep Purple will receive a rating of 10.0 when passed to the getBandRating function. However, outside of the getBandRating function, the getBandRating s local variable is not defined, so the myFavouriteBand variable we print is the global variable, which has a value of AC/DC:"
      ]
    },
    {
      "cell_type": "code",
      "metadata": {
        "id": "4e5r6BRT0aUX",
        "colab_type": "code",
        "colab": {
          "base_uri": "https://localhost:8080/",
          "height": 67
        },
        "outputId": "8f7b7af1-a755-44aa-93bd-63a2971c5cc3"
      },
      "source": [
        "# Example of global variable and local variable with the same name\n",
        "\n",
        "myFavouriteBand = \"AC/DC\"\n",
        "\n",
        "def getBandRating(bandname):\n",
        "    myFavouriteBand = \"Deep Purple\"\n",
        "    if bandname == myFavouriteBand:\n",
        "        return 10.0\n",
        "    else:\n",
        "        return 0.0\n",
        "\n",
        "print(\"AC/DC's rating is:\",getBandRating(\"AC/DC\"))\n",
        "print(\"Deep Purple's rating is: \",getBandRating(\"Deep Purple\"))\n",
        "print(\"My favourite band is:\",myFavouriteBand)"
      ],
      "execution_count": null,
      "outputs": [
        {
          "output_type": "stream",
          "text": [
            "AC/DC's rating is: 0.0\n",
            "Deep Purple's rating is:  10.0\n",
            "My favourite band is: AC/DC\n"
          ],
          "name": "stdout"
        }
      ]
    },
    {
      "cell_type": "code",
      "metadata": {
        "id": "RRaTnjqb18Vy",
        "colab_type": "code",
        "colab": {}
      },
      "source": [
        ""
      ],
      "execution_count": null,
      "outputs": []
    },
    {
      "cell_type": "markdown",
      "metadata": {
        "id": "MKiVge-0IR4l",
        "colab_type": "text"
      },
      "source": [
        "#Objects and Classes"
      ]
    },
    {
      "cell_type": "markdown",
      "metadata": {
        "id": "DJ15PeOCRZ7V",
        "colab_type": "text"
      },
      "source": [
        "Introduction to Classes and Objects"
      ]
    },
    {
      "cell_type": "markdown",
      "metadata": {
        "id": "TvPIHRlYRq8q",
        "colab_type": "text"
      },
      "source": [
        "***Object***\n",
        "\n",
        ">Python has many different kinds of data types: integers, floats, strings, lists, dictionaries, booleans. In Python, each is an object. Every object has the following: a type, internal representation, a set of functions called methods to interact with the data. An object is an instance of a particular type. "
      ]
    },
    {
      "cell_type": "markdown",
      "metadata": {
        "id": "-xQFQ6yxR6fO",
        "colab_type": "text"
      },
      "source": [
        ">example: Every time we create an integer, we are creating an instance of type integer, or we are creating an integer object."
      ]
    },
    {
      "cell_type": "markdown",
      "metadata": {
        "id": "Wxn1VRzrSJxC",
        "colab_type": "text"
      },
      "source": [
        ">We could find out the type of an object by using the type() command."
      ]
    },
    {
      "cell_type": "markdown",
      "metadata": {
        "id": "8U_fwDUESdR5",
        "colab_type": "text"
      },
      "source": [
        ">A class or type's methods are functions that every (instance of that class or type) object provides. It's how you interact with the object. We have been using methods all this time, for example, on lists. Sorting is an example of a method that interacts with the data in the object. Consider the list ratings, the data is a series of numbers contained within the list. The method sort will change the data within the object. We call the method by adding a period at the end of the object's name, and the method's name we would like to call with parentheses. ratings.sort()\n",
        "\n"
      ]
    },
    {
      "cell_type": "markdown",
      "metadata": {
        "id": "rLj6h8S7TEY7",
        "colab_type": "text"
      },
      "source": [
        ">You can say it changes the state of the object. We can call the reverse method (ratings.reverse() )on the list, changing the list again. We call the method, reversing the order of the sequence within the object. In many cases, you don't have to know the inner workings of the class and its methods, you just have to know how to use them. "
      ]
    },
    {
      "cell_type": "markdown",
      "metadata": {
        "id": "buRuNAYQT35b",
        "colab_type": "text"
      },
      "source": [
        "***class.***\n",
        "\n",
        ">The class has data attributes. The class has methods. We then create instances or instances of that class or objects. The class data attributes define the class. "
      ]
    },
    {
      "cell_type": "markdown",
      "metadata": {
        "id": "dDih6cewUxEN",
        "colab_type": "text"
      },
      "source": [
        ">The first part of creating a class is giving it a name: In this notebook, we will create two classes, Circle and Rectangle. We need to determine all the data that make up that class, and we call that an attribute. Think about this step as creating a blue print that we will use to create objects. In figure 1 we see two classes, circle and rectangle. Each has their attributes, they are variables. The class circle has the attribute radius and color, while the rectangle has the attribute height and width. Let’s use the visual examples of these shapes before we get to the code, as this will help you get accustomed to the vocabulary."
      ]
    },
    {
      "cell_type": "markdown",
      "metadata": {
        "id": "kS3b2yusXIVO",
        "colab_type": "text"
      },
      "source": [
        "![alt text](https://github.com/harsha8745/IBM-WATSON/blob/Images/Blue%20print%20of%20a%20class.png?raw=true)"
      ]
    },
    {
      "cell_type": "markdown",
      "metadata": {
        "id": "0knfY-Z-XstU",
        "colab_type": "text"
      },
      "source": [
        "***Instances of a Class: Objects and Attributes***"
      ]
    },
    {
      "cell_type": "markdown",
      "metadata": {
        "id": "wWtgLRVCYFRf",
        "colab_type": "text"
      },
      "source": [
        ">An instance of an object is the realisation of a class, and in Figure 2 we see three instances of the class circle. We give each object a name: red circle, yellow circle and green circle. Each object has different attributes, so let's focus on the attribute of colour for each object."
      ]
    },
    {
      "cell_type": "markdown",
      "metadata": {
        "id": "-fphdF6q5Vlj",
        "colab_type": "text"
      },
      "source": [
        "![](https://github.com/harsha8745/IBM-WATSON/blob/Images/instances%20of%20a%20class.png?raw=true)"
      ]
    },
    {
      "cell_type": "markdown",
      "metadata": {
        "id": "OncPn3C9YTP9",
        "colab_type": "text"
      },
      "source": [
        ">The colour attribute for the red circle is the colour red, for the green circle object the colour attribute is green, and for the yellow circle the colour attribute is yellow."
      ]
    },
    {
      "cell_type": "markdown",
      "metadata": {
        "id": "L_Xn5gnrYbdm",
        "colab_type": "text"
      },
      "source": [
        "**Methods**\n",
        "\n",
        "\n",
        ">Methods give you a way to change or interact with the object; they are functions that interact with objects. For example, let’s say we would like to increase the radius by a specified amount of a circle. We can create a method called add_radius(r) that increases the radius by r. This is shown in figure 3, where after applying the method to the \"orange circle object\", the radius of the object increases accordingly. The “dot” notation means to apply the method to the object, which is essentially applying a function to the information in the object."
      ]
    },
    {
      "cell_type": "markdown",
      "metadata": {
        "id": "ENUhTsJz55HK",
        "colab_type": "text"
      },
      "source": [
        "![](https://github.com/harsha8745/IBM-WATSON/blob/Images/methods.png?raw=true)"
      ]
    },
    {
      "cell_type": "markdown",
      "metadata": {
        "id": "SvjCochKY1JH",
        "colab_type": "text"
      },
      "source": [
        "***Creating a class: Circle***"
      ]
    },
    {
      "cell_type": "code",
      "metadata": {
        "id": "7v-LGXp_Md5q",
        "colab_type": "code",
        "colab": {}
      },
      "source": [
        "#Now we are going to create a class circle, but first, we are going to import a library to draw the objects:\n",
        "\n",
        "import matplotlib.pyplot as plt\n",
        "%matplotlib inline"
      ],
      "execution_count": 45,
      "outputs": []
    },
    {
      "cell_type": "code",
      "metadata": {
        "id": "qW--FYLFvstT",
        "colab_type": "code",
        "colab": {}
      },
      "source": [
        "class circle(object):                       #defining your class\n",
        "  def __init__(self,radius,color):          #constructor\n",
        "     self.radius = radius\n",
        "     self.color = color\n",
        "\n",
        "  \n",
        "  def add_radius(self,r):                        #method\n",
        "    self.radius = self.radius + r\n",
        "    return(self.radius)\n",
        "\n",
        "\n",
        "  def draw_circle(self):               #when using matplotlib to plot always use Circle and not circle, even if its not defined\n",
        "    plt.gca().add_patch(plt.Circle((0,0), radius = self.radius, fc = self.color))\n",
        "    plt.axis('scaled')\n",
        "    plt.show()"
      ],
      "execution_count": 74,
      "outputs": []
    },
    {
      "cell_type": "code",
      "metadata": {
        "id": "7L8-dyMUrHPZ",
        "colab_type": "code",
        "colab": {}
      },
      "source": [
        "red_circle = circle(5, 'red')"
      ],
      "execution_count": 72,
      "outputs": []
    },
    {
      "cell_type": "code",
      "metadata": {
        "id": "3on0E817sEFx",
        "colab_type": "code",
        "colab": {
          "base_uri": "https://localhost:8080/",
          "height": 521
        },
        "outputId": "75b9f854-76a4-4c89-e587-aeef2f0a9503"
      },
      "source": [
        "#We can use the dir command to get a list of the object's methods and attributes. Many of them are default Python methods.\n",
        "dir(red_circle)"
      ],
      "execution_count": 63,
      "outputs": [
        {
          "output_type": "execute_result",
          "data": {
            "text/plain": [
              "['__class__',\n",
              " '__delattr__',\n",
              " '__dict__',\n",
              " '__dir__',\n",
              " '__doc__',\n",
              " '__eq__',\n",
              " '__format__',\n",
              " '__ge__',\n",
              " '__getattribute__',\n",
              " '__gt__',\n",
              " '__hash__',\n",
              " '__init__',\n",
              " '__init_subclass__',\n",
              " '__le__',\n",
              " '__lt__',\n",
              " '__module__',\n",
              " '__ne__',\n",
              " '__new__',\n",
              " '__reduce__',\n",
              " '__reduce_ex__',\n",
              " '__repr__',\n",
              " '__setattr__',\n",
              " '__sizeof__',\n",
              " '__str__',\n",
              " '__subclasshook__',\n",
              " '__weakref__',\n",
              " 'add_radius',\n",
              " 'color',\n",
              " 'draw_circle',\n",
              " 'radius']"
            ]
          },
          "metadata": {
            "tags": []
          },
          "execution_count": 63
        }
      ]
    },
    {
      "cell_type": "code",
      "metadata": {
        "id": "3npqFJobsWYI",
        "colab_type": "code",
        "colab": {
          "base_uri": "https://localhost:8080/",
          "height": 34
        },
        "outputId": "d9184dc9-2ad8-4730-b6cb-d2a6b57569f9"
      },
      "source": [
        "#We can use the dir command to get a list of the object's methods. Many of them are default Python methods.\n",
        "red_circle.radius"
      ],
      "execution_count": 64,
      "outputs": [
        {
          "output_type": "execute_result",
          "data": {
            "text/plain": [
              "5"
            ]
          },
          "metadata": {
            "tags": []
          },
          "execution_count": 64
        }
      ]
    },
    {
      "cell_type": "code",
      "metadata": {
        "id": "FYszFyy0sldX",
        "colab_type": "code",
        "colab": {
          "base_uri": "https://localhost:8080/",
          "height": 35
        },
        "outputId": "741ecebd-533b-427f-97fa-b3348f001dc7"
      },
      "source": [
        "red_circle.color"
      ],
      "execution_count": 65,
      "outputs": [
        {
          "output_type": "execute_result",
          "data": {
            "application/vnd.google.colaboratory.intrinsic": {
              "type": "string"
            },
            "text/plain": [
              "'red'"
            ]
          },
          "metadata": {
            "tags": []
          },
          "execution_count": 65
        }
      ]
    },
    {
      "cell_type": "code",
      "metadata": {
        "id": "SOpFWLTmsnk2",
        "colab_type": "code",
        "colab": {
          "base_uri": "https://localhost:8080/",
          "height": 34
        },
        "outputId": "a2df23aa-0bd1-4050-8c89-74940156adfc"
      },
      "source": [
        "# Set the object attribute radius\n",
        "red_circle.radius = 7\n",
        "red_circle.radius"
      ],
      "execution_count": 87,
      "outputs": [
        {
          "output_type": "execute_result",
          "data": {
            "text/plain": [
              "7"
            ]
          },
          "metadata": {
            "tags": []
          },
          "execution_count": 87
        }
      ]
    },
    {
      "cell_type": "code",
      "metadata": {
        "id": "BQ70-qvdtJgU",
        "colab_type": "code",
        "colab": {
          "base_uri": "https://localhost:8080/",
          "height": 265
        },
        "outputId": "44617518-f41f-4d44-e80a-8f666c083377"
      },
      "source": [
        "#We can draw the object by using the method drawCircle():\n",
        "red_circle.draw_circle()"
      ],
      "execution_count": 88,
      "outputs": [
        {
          "output_type": "display_data",
          "data": {
            "image/png": "[encoded data removed]",
            "text/plain": [
              "<Figure size 432x288 with 1 Axes>"
            ]
          },
          "metadata": {
            "tags": [],
            "needs_background": "light"
          }
        }
      ]
    },
    {
      "cell_type": "code",
      "metadata": {
        "id": "L7r54gNMtXAl",
        "colab_type": "code",
        "colab": {
          "base_uri": "https://localhost:8080/",
          "height": 282
        },
        "outputId": "8d1b88a5-7835-4bfd-d213-45e2b5f11a4d"
      },
      "source": [
        "red_circle.add_radius(3)\n",
        "print('new radius =', red_circle.radius)\n",
        "red_circle.draw_circle()"
      ],
      "execution_count": 89,
      "outputs": [
        {
          "output_type": "stream",
          "text": [
            "new radius = 10\n"
          ],
          "name": "stdout"
        },
        {
          "output_type": "display_data",
          "data": {
            "image/png": "[encoded data removed]",
            "text/plain": [
              "<Figure size 432x288 with 1 Axes>"
            ]
          },
          "metadata": {
            "tags": [],
            "needs_background": "light"
          }
        }
      ]
    },
    {
      "cell_type": "code",
      "metadata": {
        "id": "1Wq9Az_RxTft",
        "colab_type": "code",
        "colab": {
          "base_uri": "https://localhost:8080/",
          "height": 52
        },
        "outputId": "30207816-917e-4711-fd3d-13ae62563413"
      },
      "source": [
        "blue_circle = circle(100, 'blue')\n",
        "print(blue_circle.radius)\n",
        "blue_circle.color"
      ],
      "execution_count": 95,
      "outputs": [
        {
          "output_type": "stream",
          "text": [
            "100\n"
          ],
          "name": "stdout"
        },
        {
          "output_type": "execute_result",
          "data": {
            "application/vnd.google.colaboratory.intrinsic": {
              "type": "string"
            },
            "text/plain": [
              "'blue'"
            ]
          },
          "metadata": {
            "tags": []
          },
          "execution_count": 95
        }
      ]
    },
    {
      "cell_type": "code",
      "metadata": {
        "id": "1EG__DA90cU9",
        "colab_type": "code",
        "colab": {
          "base_uri": "https://localhost:8080/",
          "height": 265
        },
        "outputId": "be6051c5-794a-4492-fb4a-fc833ed59815"
      },
      "source": [
        "blue_circle.draw_circle()"
      ],
      "execution_count": 96,
      "outputs": [
        {
          "output_type": "display_data",
          "data": {
            "image/png": "[encoded data removed]",
            "text/plain": [
              "<Figure size 432x288 with 1 Axes>"
            ]
          },
          "metadata": {
            "tags": [],
            "needs_background": "light"
          }
        }
      ]
    },
    {
      "cell_type": "markdown",
      "metadata": {
        "id": "tLjF0Hfw1Let",
        "colab_type": "text"
      },
      "source": [
        "***Creating a class: Rectangle***"
      ]
    },
    {
      "cell_type": "code",
      "metadata": {
        "id": "nqZ-G-1J0ySW",
        "colab_type": "code",
        "colab": {}
      },
      "source": [
        "class rect(object):\n",
        "\n",
        "  def __init__(self, width, height, color):\n",
        "    self.width = width\n",
        "    self.height = height\n",
        "    self.color = color \n",
        "\n",
        "  def draw_rect(self):\n",
        "    plt.gca().add_patch(plt.Rectangle((0,0), self.width, self.height, fc = self.color))\n",
        "    plt.axis('scaled')\n",
        "    plt.show()\n",
        "  "
      ],
      "execution_count": 97,
      "outputs": []
    },
    {
      "cell_type": "code",
      "metadata": {
        "id": "OXPNb_fT2nPM",
        "colab_type": "code",
        "colab": {
          "base_uri": "https://localhost:8080/",
          "height": 266
        },
        "outputId": "6498940f-f766-477f-86b0-536dba3c284b"
      },
      "source": [
        "G_rect = rect(10, 5, 'green')\n",
        "print('width =', G_rect.width)\n",
        "print('height =',G_rect.height)\n",
        "print('color =',G_rect.color)\n",
        "G_rect.draw_rect()"
      ],
      "execution_count": 104,
      "outputs": [
        {
          "output_type": "stream",
          "text": [
            "width = 10\n",
            "height = 5\n",
            "color = green\n"
          ],
          "name": "stdout"
        },
        {
          "output_type": "display_data",
          "data": {
            "image/png": "[encoded data removed]",
            "text/plain": [
              "<Figure size 432x288 with 1 Axes>"
            ]
          },
          "metadata": {
            "tags": [],
            "needs_background": "light"
          }
        }
      ]
    },
    {
      "cell_type": "code",
      "metadata": {
        "id": "txsOFXxv3HwR",
        "colab_type": "code",
        "colab": {
          "base_uri": "https://localhost:8080/",
          "height": 315
        },
        "outputId": "b9823977-2661-4c7a-a7d4-1fabc604ec36"
      },
      "source": [
        "y_rect = rect(5, 20, 'yellow')\n",
        "print('width =', y_rect.width)\n",
        "print('height =',y_rect.height)\n",
        "print('color =',y_rect.color)\n",
        "y_rect.draw_rect()"
      ],
      "execution_count": 105,
      "outputs": [
        {
          "output_type": "stream",
          "text": [
            "width = 5\n",
            "height = 20\n",
            "color = yellow\n"
          ],
          "name": "stdout"
        },
        {
          "output_type": "display_data",
          "data": {
            "image/png": "[encoded data removed]",
            "text/plain": [
              "<Figure size 432x288 with 1 Axes>"
            ]
          },
          "metadata": {
            "tags": [],
            "needs_background": "light"
          }
        }
      ]
    },
    {
      "cell_type": "markdown",
      "metadata": {
        "id": "tDC6qW1N5K9E",
        "colab_type": "text"
      },
      "source": [
        "#Opening files"
      ]
    },
    {
      "cell_type": "code",
      "metadata": {
        "id": "CegXBAzK4G9k",
        "colab_type": "code",
        "colab": {}
      },
      "source": [
        ""
      ],
      "execution_count": null,
      "outputs": []
    }
  ]
}