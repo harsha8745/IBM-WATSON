{
  "nbformat": 4,
  "nbformat_minor": 0,
  "metadata": {
    "colab": {
      "name": "Assignment.ipynb",
      "provenance": [],
      "authorship_tag": "ABX9TyPqFMh9YZBuq66+BS4Iu097",
      "include_colab_link": true
    },
    "kernelspec": {
      "name": "python3",
      "display_name": "Python 3"
    }
  },
  "cells": [
    {
      "cell_type": "markdown",
      "metadata": {
        "id": "view-in-github",
        "colab_type": "text"
      },
      "source": [
        "<a href=\"https://colab.research.google.com/github/harsha8745/IBM-WATSON/blob/master/Assignment.ipynb\" target=\"_parent\"><img src=\"https://colab.research.google.com/assets/colab-badge.svg\" alt=\"Open In Colab\"/></a>"
      ]
    },
    {
      "cell_type": "markdown",
      "metadata": {
        "id": "1dr6_xyafMUt"
      },
      "source": [
        "#Finding the top 3 paid employees from each department"
      ]
    },
    {
      "cell_type": "markdown",
      "metadata": {
        "id": "e4TVPU7ugP4T"
      },
      "source": [
        "## Method 1 : Using Pandas"
      ]
    },
    {
      "cell_type": "code",
      "metadata": {
        "id": "pRIUFizFX2pO"
      },
      "source": [
        "import pandas as pd\r\n",
        "import numpy as np"
      ],
      "execution_count": null,
      "outputs": []
    },
    {
      "cell_type": "code",
      "metadata": {
        "id": "Kv7VaHn-ffJD"
      },
      "source": [
        "df_dept = pd.read_csv(\"Departments1.csv\")"
      ],
      "execution_count": null,
      "outputs": []
    },
    {
      "cell_type": "code",
      "metadata": {
        "colab": {
          "base_uri": "https://localhost:8080/",
          "height": 135
        },
        "id": "5NF4ll1Zf-zB",
        "outputId": "1cd47624-ca05-4da3-95ad-a8c6742c6e3e"
      },
      "source": [
        "df_dept.head()"
      ],
      "execution_count": null,
      "outputs": [
        {
          "output_type": "execute_result",
          "data": {
            "text/html": [
              "<div>\n",
              "<style scoped>\n",
              "    .dataframe tbody tr th:only-of-type {\n",
              "        vertical-align: middle;\n",
              "    }\n",
              "\n",
              "    .dataframe tbody tr th {\n",
              "        vertical-align: top;\n",
              "    }\n",
              "\n",
              "    .dataframe thead th {\n",
              "        text-align: right;\n",
              "    }\n",
              "</style>\n",
              "<table border=\"1\" class=\"dataframe\">\n",
              "  <thead>\n",
              "    <tr style=\"text-align: right;\">\n",
              "      <th></th>\n",
              "      <th>DEP_ID</th>\n",
              "      <th>DEP_NAME</th>\n",
              "    </tr>\n",
              "  </thead>\n",
              "  <tbody>\n",
              "    <tr>\n",
              "      <th>0</th>\n",
              "      <td>1</td>\n",
              "      <td>Engineering</td>\n",
              "    </tr>\n",
              "    <tr>\n",
              "      <th>1</th>\n",
              "      <td>2</td>\n",
              "      <td>Software</td>\n",
              "    </tr>\n",
              "    <tr>\n",
              "      <th>2</th>\n",
              "      <td>3</td>\n",
              "      <td>HR</td>\n",
              "    </tr>\n",
              "  </tbody>\n",
              "</table>\n",
              "</div>"
            ],
            "text/plain": [
              "   DEP_ID     DEP_NAME\n",
              "0       1  Engineering\n",
              "1       2     Software\n",
              "2       3           HR"
            ]
          },
          "metadata": {
            "tags": []
          },
          "execution_count": 9
        }
      ]
    },
    {
      "cell_type": "code",
      "metadata": {
        "colab": {
          "base_uri": "https://localhost:8080/"
        },
        "id": "hkHMq0Xtij-M",
        "outputId": "6e7ea824-be57-41c4-a339-b2688c3fefd9"
      },
      "source": [
        "df_dept.dtypes"
      ],
      "execution_count": null,
      "outputs": [
        {
          "output_type": "execute_result",
          "data": {
            "text/plain": [
              "DEP_ID       int64\n",
              "DEP_NAME    object\n",
              "dtype: object"
            ]
          },
          "metadata": {
            "tags": []
          },
          "execution_count": 10
        }
      ]
    },
    {
      "cell_type": "code",
      "metadata": {
        "id": "tnqTDqulgCQ0"
      },
      "source": [
        "df_emp = pd.read_csv(\"Employees1.csv\")"
      ],
      "execution_count": null,
      "outputs": []
    },
    {
      "cell_type": "code",
      "metadata": {
        "colab": {
          "base_uri": "https://localhost:8080/",
          "height": 194
        },
        "id": "tuAqzyLkgkqn",
        "outputId": "1ae54360-37ef-4cdb-b3de-759b6c130113"
      },
      "source": [
        "df_emp.head()"
      ],
      "execution_count": null,
      "outputs": [
        {
          "output_type": "execute_result",
          "data": {
            "text/html": [
              "<div>\n",
              "<style scoped>\n",
              "    .dataframe tbody tr th:only-of-type {\n",
              "        vertical-align: middle;\n",
              "    }\n",
              "\n",
              "    .dataframe tbody tr th {\n",
              "        vertical-align: top;\n",
              "    }\n",
              "\n",
              "    .dataframe thead th {\n",
              "        text-align: right;\n",
              "    }\n",
              "</style>\n",
              "<table border=\"1\" class=\"dataframe\">\n",
              "  <thead>\n",
              "    <tr style=\"text-align: right;\">\n",
              "      <th></th>\n",
              "      <th>EMP_ID</th>\n",
              "      <th>EMP_NAME</th>\n",
              "      <th>DEP_ID</th>\n",
              "    </tr>\n",
              "  </thead>\n",
              "  <tbody>\n",
              "    <tr>\n",
              "      <th>0</th>\n",
              "      <td>E1001</td>\n",
              "      <td>John</td>\n",
              "      <td>3</td>\n",
              "    </tr>\n",
              "    <tr>\n",
              "      <th>1</th>\n",
              "      <td>E1002</td>\n",
              "      <td>Alice</td>\n",
              "      <td>3</td>\n",
              "    </tr>\n",
              "    <tr>\n",
              "      <th>2</th>\n",
              "      <td>E1003</td>\n",
              "      <td>Steve</td>\n",
              "      <td>1</td>\n",
              "    </tr>\n",
              "    <tr>\n",
              "      <th>3</th>\n",
              "      <td>E1004</td>\n",
              "      <td>Santosh</td>\n",
              "      <td>2</td>\n",
              "    </tr>\n",
              "    <tr>\n",
              "      <th>4</th>\n",
              "      <td>E1005</td>\n",
              "      <td>Ahmed</td>\n",
              "      <td>1</td>\n",
              "    </tr>\n",
              "  </tbody>\n",
              "</table>\n",
              "</div>"
            ],
            "text/plain": [
              "  EMP_ID EMP_NAME  DEP_ID\n",
              "0  E1001     John       3\n",
              "1  E1002    Alice       3\n",
              "2  E1003    Steve       1\n",
              "3  E1004  Santosh       2\n",
              "4  E1005    Ahmed       1"
            ]
          },
          "metadata": {
            "tags": []
          },
          "execution_count": 12
        }
      ]
    },
    {
      "cell_type": "code",
      "metadata": {
        "colab": {
          "base_uri": "https://localhost:8080/"
        },
        "id": "j9NqgoS0iw27",
        "outputId": "42a28b93-1eac-4db6-f9aa-2005d25ee96e"
      },
      "source": [
        "df_emp.dtypes"
      ],
      "execution_count": null,
      "outputs": [
        {
          "output_type": "execute_result",
          "data": {
            "text/plain": [
              "EMP_ID      object\n",
              "EMP_NAME    object\n",
              "DEP_ID       int64\n",
              "dtype: object"
            ]
          },
          "metadata": {
            "tags": []
          },
          "execution_count": 13
        }
      ]
    },
    {
      "cell_type": "code",
      "metadata": {
        "id": "ko4DPgfAgmov"
      },
      "source": [
        "df_sal = pd.read_csv(\"Salaries1.csv\")"
      ],
      "execution_count": null,
      "outputs": []
    },
    {
      "cell_type": "code",
      "metadata": {
        "colab": {
          "base_uri": "https://localhost:8080/",
          "height": 194
        },
        "id": "7OO5-0CjgzPN",
        "outputId": "0df2ac88-56c4-43a4-875b-c7987c624c4e"
      },
      "source": [
        "df_sal.head()"
      ],
      "execution_count": null,
      "outputs": [
        {
          "output_type": "execute_result",
          "data": {
            "text/html": [
              "<div>\n",
              "<style scoped>\n",
              "    .dataframe tbody tr th:only-of-type {\n",
              "        vertical-align: middle;\n",
              "    }\n",
              "\n",
              "    .dataframe tbody tr th {\n",
              "        vertical-align: top;\n",
              "    }\n",
              "\n",
              "    .dataframe thead th {\n",
              "        text-align: right;\n",
              "    }\n",
              "</style>\n",
              "<table border=\"1\" class=\"dataframe\">\n",
              "  <thead>\n",
              "    <tr style=\"text-align: right;\">\n",
              "      <th></th>\n",
              "      <th>EMP_ID</th>\n",
              "      <th>SALARY</th>\n",
              "    </tr>\n",
              "  </thead>\n",
              "  <tbody>\n",
              "    <tr>\n",
              "      <th>0</th>\n",
              "      <td>E1001</td>\n",
              "      <td>83000</td>\n",
              "    </tr>\n",
              "    <tr>\n",
              "      <th>1</th>\n",
              "      <td>E1002</td>\n",
              "      <td>59000</td>\n",
              "    </tr>\n",
              "    <tr>\n",
              "      <th>2</th>\n",
              "      <td>E1003</td>\n",
              "      <td>88000</td>\n",
              "    </tr>\n",
              "    <tr>\n",
              "      <th>3</th>\n",
              "      <td>E1004</td>\n",
              "      <td>86000</td>\n",
              "    </tr>\n",
              "    <tr>\n",
              "      <th>4</th>\n",
              "      <td>E1005</td>\n",
              "      <td>56000</td>\n",
              "    </tr>\n",
              "  </tbody>\n",
              "</table>\n",
              "</div>"
            ],
            "text/plain": [
              "  EMP_ID  SALARY\n",
              "0  E1001   83000\n",
              "1  E1002   59000\n",
              "2  E1003   88000\n",
              "3  E1004   86000\n",
              "4  E1005   56000"
            ]
          },
          "metadata": {
            "tags": []
          },
          "execution_count": 15
        }
      ]
    },
    {
      "cell_type": "code",
      "metadata": {
        "colab": {
          "base_uri": "https://localhost:8080/"
        },
        "id": "4_tdnIJOi0nX",
        "outputId": "4481ff6b-00a7-4d99-d25b-38a5079c9d90"
      },
      "source": [
        "df_sal.dtypes"
      ],
      "execution_count": null,
      "outputs": [
        {
          "output_type": "execute_result",
          "data": {
            "text/plain": [
              "EMP_ID    object\n",
              "SALARY     int64\n",
              "dtype: object"
            ]
          },
          "metadata": {
            "tags": []
          },
          "execution_count": 16
        }
      ]
    },
    {
      "cell_type": "code",
      "metadata": {
        "colab": {
          "base_uri": "https://localhost:8080/",
          "height": 194
        },
        "id": "3xRIgwX9g07z",
        "outputId": "02872b17-2c7c-40d1-828f-12d1909f5528"
      },
      "source": [
        "#merging the dataframes\r\n",
        "df_merge1 = df_emp.join(df_sal.set_index(\"EMP_ID\"),on=\"EMP_ID\")\r\n",
        "df_merge1.head()"
      ],
      "execution_count": null,
      "outputs": [
        {
          "output_type": "execute_result",
          "data": {
            "text/html": [
              "<div>\n",
              "<style scoped>\n",
              "    .dataframe tbody tr th:only-of-type {\n",
              "        vertical-align: middle;\n",
              "    }\n",
              "\n",
              "    .dataframe tbody tr th {\n",
              "        vertical-align: top;\n",
              "    }\n",
              "\n",
              "    .dataframe thead th {\n",
              "        text-align: right;\n",
              "    }\n",
              "</style>\n",
              "<table border=\"1\" class=\"dataframe\">\n",
              "  <thead>\n",
              "    <tr style=\"text-align: right;\">\n",
              "      <th></th>\n",
              "      <th>EMP_ID</th>\n",
              "      <th>EMP_NAME</th>\n",
              "      <th>DEP_ID</th>\n",
              "      <th>SALARY</th>\n",
              "    </tr>\n",
              "  </thead>\n",
              "  <tbody>\n",
              "    <tr>\n",
              "      <th>0</th>\n",
              "      <td>E1001</td>\n",
              "      <td>John</td>\n",
              "      <td>3</td>\n",
              "      <td>83000</td>\n",
              "    </tr>\n",
              "    <tr>\n",
              "      <th>1</th>\n",
              "      <td>E1002</td>\n",
              "      <td>Alice</td>\n",
              "      <td>3</td>\n",
              "      <td>59000</td>\n",
              "    </tr>\n",
              "    <tr>\n",
              "      <th>2</th>\n",
              "      <td>E1003</td>\n",
              "      <td>Steve</td>\n",
              "      <td>1</td>\n",
              "      <td>88000</td>\n",
              "    </tr>\n",
              "    <tr>\n",
              "      <th>3</th>\n",
              "      <td>E1004</td>\n",
              "      <td>Santosh</td>\n",
              "      <td>2</td>\n",
              "      <td>86000</td>\n",
              "    </tr>\n",
              "    <tr>\n",
              "      <th>4</th>\n",
              "      <td>E1005</td>\n",
              "      <td>Ahmed</td>\n",
              "      <td>1</td>\n",
              "      <td>56000</td>\n",
              "    </tr>\n",
              "  </tbody>\n",
              "</table>\n",
              "</div>"
            ],
            "text/plain": [
              "  EMP_ID EMP_NAME  DEP_ID  SALARY\n",
              "0  E1001     John       3   83000\n",
              "1  E1002    Alice       3   59000\n",
              "2  E1003    Steve       1   88000\n",
              "3  E1004  Santosh       2   86000\n",
              "4  E1005    Ahmed       1   56000"
            ]
          },
          "metadata": {
            "tags": []
          },
          "execution_count": 18
        }
      ]
    },
    {
      "cell_type": "code",
      "metadata": {
        "id": "Fi0XA3s7h_HN",
        "colab": {
          "base_uri": "https://localhost:8080/",
          "height": 194
        },
        "outputId": "8c3a8e93-bd12-4933-d941-e006cb88390d"
      },
      "source": [
        "df_merge2 = df_merge1.join(df_dept.set_index(\"DEP_ID\"),on=\"DEP_ID\")\r\n",
        "df_merge2.head()"
      ],
      "execution_count": null,
      "outputs": [
        {
          "output_type": "execute_result",
          "data": {
            "text/html": [
              "<div>\n",
              "<style scoped>\n",
              "    .dataframe tbody tr th:only-of-type {\n",
              "        vertical-align: middle;\n",
              "    }\n",
              "\n",
              "    .dataframe tbody tr th {\n",
              "        vertical-align: top;\n",
              "    }\n",
              "\n",
              "    .dataframe thead th {\n",
              "        text-align: right;\n",
              "    }\n",
              "</style>\n",
              "<table border=\"1\" class=\"dataframe\">\n",
              "  <thead>\n",
              "    <tr style=\"text-align: right;\">\n",
              "      <th></th>\n",
              "      <th>EMP_ID</th>\n",
              "      <th>EMP_NAME</th>\n",
              "      <th>DEP_ID</th>\n",
              "      <th>SALARY</th>\n",
              "      <th>DEP_NAME</th>\n",
              "    </tr>\n",
              "  </thead>\n",
              "  <tbody>\n",
              "    <tr>\n",
              "      <th>0</th>\n",
              "      <td>E1001</td>\n",
              "      <td>John</td>\n",
              "      <td>3</td>\n",
              "      <td>83000</td>\n",
              "      <td>HR</td>\n",
              "    </tr>\n",
              "    <tr>\n",
              "      <th>1</th>\n",
              "      <td>E1002</td>\n",
              "      <td>Alice</td>\n",
              "      <td>3</td>\n",
              "      <td>59000</td>\n",
              "      <td>HR</td>\n",
              "    </tr>\n",
              "    <tr>\n",
              "      <th>2</th>\n",
              "      <td>E1003</td>\n",
              "      <td>Steve</td>\n",
              "      <td>1</td>\n",
              "      <td>88000</td>\n",
              "      <td>Engineering</td>\n",
              "    </tr>\n",
              "    <tr>\n",
              "      <th>3</th>\n",
              "      <td>E1004</td>\n",
              "      <td>Santosh</td>\n",
              "      <td>2</td>\n",
              "      <td>86000</td>\n",
              "      <td>Software</td>\n",
              "    </tr>\n",
              "    <tr>\n",
              "      <th>4</th>\n",
              "      <td>E1005</td>\n",
              "      <td>Ahmed</td>\n",
              "      <td>1</td>\n",
              "      <td>56000</td>\n",
              "      <td>Engineering</td>\n",
              "    </tr>\n",
              "  </tbody>\n",
              "</table>\n",
              "</div>"
            ],
            "text/plain": [
              "  EMP_ID EMP_NAME  DEP_ID  SALARY     DEP_NAME\n",
              "0  E1001     John       3   83000           HR\n",
              "1  E1002    Alice       3   59000           HR\n",
              "2  E1003    Steve       1   88000  Engineering\n",
              "3  E1004  Santosh       2   86000     Software\n",
              "4  E1005    Ahmed       1   56000  Engineering"
            ]
          },
          "metadata": {
            "tags": []
          },
          "execution_count": 19
        }
      ]
    },
    {
      "cell_type": "code",
      "metadata": {
        "colab": {
          "base_uri": "https://localhost:8080/",
          "height": 194
        },
        "id": "RLS2B9VVkSzR",
        "outputId": "822d0104-136f-4e50-9625-38bc0c5dd802"
      },
      "source": [
        "df = df_merge2.drop([\"EMP_ID\",\"DEP_ID\"],axis=1)\r\n",
        "df.head()"
      ],
      "execution_count": null,
      "outputs": [
        {
          "output_type": "execute_result",
          "data": {
            "text/html": [
              "<div>\n",
              "<style scoped>\n",
              "    .dataframe tbody tr th:only-of-type {\n",
              "        vertical-align: middle;\n",
              "    }\n",
              "\n",
              "    .dataframe tbody tr th {\n",
              "        vertical-align: top;\n",
              "    }\n",
              "\n",
              "    .dataframe thead th {\n",
              "        text-align: right;\n",
              "    }\n",
              "</style>\n",
              "<table border=\"1\" class=\"dataframe\">\n",
              "  <thead>\n",
              "    <tr style=\"text-align: right;\">\n",
              "      <th></th>\n",
              "      <th>EMP_NAME</th>\n",
              "      <th>SALARY</th>\n",
              "      <th>DEP_NAME</th>\n",
              "    </tr>\n",
              "  </thead>\n",
              "  <tbody>\n",
              "    <tr>\n",
              "      <th>0</th>\n",
              "      <td>John</td>\n",
              "      <td>83000</td>\n",
              "      <td>HR</td>\n",
              "    </tr>\n",
              "    <tr>\n",
              "      <th>1</th>\n",
              "      <td>Alice</td>\n",
              "      <td>59000</td>\n",
              "      <td>HR</td>\n",
              "    </tr>\n",
              "    <tr>\n",
              "      <th>2</th>\n",
              "      <td>Steve</td>\n",
              "      <td>88000</td>\n",
              "      <td>Engineering</td>\n",
              "    </tr>\n",
              "    <tr>\n",
              "      <th>3</th>\n",
              "      <td>Santosh</td>\n",
              "      <td>86000</td>\n",
              "      <td>Software</td>\n",
              "    </tr>\n",
              "    <tr>\n",
              "      <th>4</th>\n",
              "      <td>Ahmed</td>\n",
              "      <td>56000</td>\n",
              "      <td>Engineering</td>\n",
              "    </tr>\n",
              "  </tbody>\n",
              "</table>\n",
              "</div>"
            ],
            "text/plain": [
              "  EMP_NAME  SALARY     DEP_NAME\n",
              "0     John   83000           HR\n",
              "1    Alice   59000           HR\n",
              "2    Steve   88000  Engineering\n",
              "3  Santosh   86000     Software\n",
              "4    Ahmed   56000  Engineering"
            ]
          },
          "metadata": {
            "tags": []
          },
          "execution_count": 24
        }
      ]
    },
    {
      "cell_type": "code",
      "metadata": {
        "colab": {
          "base_uri": "https://localhost:8080/"
        },
        "id": "xLqpQrb8ohiS",
        "outputId": "539cccb3-39c5-46c0-bcb5-6462d0de03a9"
      },
      "source": [
        "list(df.DEP_NAME.unique())"
      ],
      "execution_count": null,
      "outputs": [
        {
          "output_type": "execute_result",
          "data": {
            "text/plain": [
              "['HR', 'Engineering', 'Software']"
            ]
          },
          "metadata": {
            "tags": []
          },
          "execution_count": 35
        }
      ]
    },
    {
      "cell_type": "code",
      "metadata": {
        "colab": {
          "base_uri": "https://localhost:8080/",
          "height": 311
        },
        "id": "eV3KgTxxmgN7",
        "outputId": "716cb2b2-0fe8-454e-faea-9e87f9f08379"
      },
      "source": [
        "df_results = pd.DataFrame({\"EMP_NAME\":[], \"SALARY\":[],\t\"DEP_NAME\":[]})\r\n",
        "for i in list(df.DEP_NAME.unique()):\r\n",
        "  df1 = df[df[\"DEP_NAME\"]==i]\r\n",
        "  df2 = df1.sort_values(\"SALARY\",ascending=False).head(3)\r\n",
        "  df_results = df_results.append(df2,ignore_index=True)\r\n",
        "\r\n",
        "df_results"
      ],
      "execution_count": null,
      "outputs": [
        {
          "output_type": "execute_result",
          "data": {
            "text/html": [
              "<div>\n",
              "<style scoped>\n",
              "    .dataframe tbody tr th:only-of-type {\n",
              "        vertical-align: middle;\n",
              "    }\n",
              "\n",
              "    .dataframe tbody tr th {\n",
              "        vertical-align: top;\n",
              "    }\n",
              "\n",
              "    .dataframe thead th {\n",
              "        text-align: right;\n",
              "    }\n",
              "</style>\n",
              "<table border=\"1\" class=\"dataframe\">\n",
              "  <thead>\n",
              "    <tr style=\"text-align: right;\">\n",
              "      <th></th>\n",
              "      <th>EMP_NAME</th>\n",
              "      <th>SALARY</th>\n",
              "      <th>DEP_NAME</th>\n",
              "    </tr>\n",
              "  </thead>\n",
              "  <tbody>\n",
              "    <tr>\n",
              "      <th>0</th>\n",
              "      <td>Oliver</td>\n",
              "      <td>88000.0</td>\n",
              "      <td>HR</td>\n",
              "    </tr>\n",
              "    <tr>\n",
              "      <th>1</th>\n",
              "      <td>Alexander</td>\n",
              "      <td>86000.0</td>\n",
              "      <td>HR</td>\n",
              "    </tr>\n",
              "    <tr>\n",
              "      <th>2</th>\n",
              "      <td>John</td>\n",
              "      <td>83000.0</td>\n",
              "      <td>HR</td>\n",
              "    </tr>\n",
              "    <tr>\n",
              "      <th>3</th>\n",
              "      <td>Ethan</td>\n",
              "      <td>97000.0</td>\n",
              "      <td>Engineering</td>\n",
              "    </tr>\n",
              "    <tr>\n",
              "      <th>4</th>\n",
              "      <td>Lucas</td>\n",
              "      <td>95000.0</td>\n",
              "      <td>Engineering</td>\n",
              "    </tr>\n",
              "    <tr>\n",
              "      <th>5</th>\n",
              "      <td>Steve</td>\n",
              "      <td>88000.0</td>\n",
              "      <td>Engineering</td>\n",
              "    </tr>\n",
              "    <tr>\n",
              "      <th>6</th>\n",
              "      <td>Nancy</td>\n",
              "      <td>99000.0</td>\n",
              "      <td>Software</td>\n",
              "    </tr>\n",
              "    <tr>\n",
              "      <th>7</th>\n",
              "      <td>Jack</td>\n",
              "      <td>98000.0</td>\n",
              "      <td>Software</td>\n",
              "    </tr>\n",
              "    <tr>\n",
              "      <th>8</th>\n",
              "      <td>Benjamin</td>\n",
              "      <td>87000.0</td>\n",
              "      <td>Software</td>\n",
              "    </tr>\n",
              "  </tbody>\n",
              "</table>\n",
              "</div>"
            ],
            "text/plain": [
              "    EMP_NAME   SALARY     DEP_NAME\n",
              "0     Oliver  88000.0           HR\n",
              "1  Alexander  86000.0           HR\n",
              "2       John  83000.0           HR\n",
              "3      Ethan  97000.0  Engineering\n",
              "4      Lucas  95000.0  Engineering\n",
              "5      Steve  88000.0  Engineering\n",
              "6      Nancy  99000.0     Software\n",
              "7       Jack  98000.0     Software\n",
              "8   Benjamin  87000.0     Software"
            ]
          },
          "metadata": {
            "tags": []
          },
          "execution_count": 56
        }
      ]
    },
    {
      "cell_type": "markdown",
      "metadata": {
        "id": "Vlqmkc65vCnK"
      },
      "source": [
        "##Method 2: Using SQL(IBM DB2 on cloud) for quering the data"
      ]
    },
    {
      "cell_type": "code",
      "metadata": {
        "id": "-gm6STXXwMFF"
      },
      "source": [
        "#loading SQL extension\r\n",
        "%load_ext sql"
      ],
      "execution_count": null,
      "outputs": []
    },
    {
      "cell_type": "code",
      "metadata": {
        "id": "-U_-9QF1sbfT"
      },
      "source": [
        "!pip install -q ibm_db\r\n",
        "import ibm_db\r\n",
        "!pip install -q ibm_db_sa\r\n",
        "import ibm_db_sa\r\n",
        "!pip install -q sqlalchemy\r\n",
        "import sqlalchemy\r\n",
        "from sqlalchemy import *"
      ],
      "execution_count": null,
      "outputs": []
    },
    {
      "cell_type": "code",
      "metadata": {
        "colab": {
          "base_uri": "https://localhost:8080/",
          "height": 53
        },
        "id": "Xfdv_FHSwuhK",
        "outputId": "fb53836c-cd76-4101-b44f-109ba640a1a2"
      },
      "source": [
        "#connecting to my database service instance\r\n",
        "%sql ibm_db_sa://bjc15249:***@dashdb-txn-sbox-yp-lon02-06.services.eu-gb.bluemix.net:50000/BLUDB"
      ],
      "execution_count": null,
      "outputs": [
        {
          "output_type": "stream",
          "text": [
            "DB2/LINUXX8664\n"
          ],
          "name": "stdout"
        },
        {
          "output_type": "execute_result",
          "data": {
            "application/vnd.google.colaboratory.intrinsic+json": {
              "type": "string"
            },
            "text/plain": [
              "'Connected: bjc15249@BLUDB'"
            ]
          },
          "metadata": {
            "tags": []
          },
          "execution_count": 3
        }
      ]
    },
    {
      "cell_type": "code",
      "metadata": {
        "colab": {
          "base_uri": "https://localhost:8080/",
          "height": 688
        },
        "id": "jXhGXnQ2yLwJ",
        "outputId": "035bee09-a921-44aa-b967-0111a10ec8a3"
      },
      "source": [
        "results = %sql select E.EMP_ID, E.EMP_NAME, E.DEP_ID, S.SALARY , D.DEP_NAME from EMPLOYEES1 E inner join  SALARIES1 S on E.EMP_ID = S.EMP_ID inner join  DEPARTMENTS1 D on E.DEP_ID = D.DEP_ID;\r\n",
        "results"
      ],
      "execution_count": null,
      "outputs": [
        {
          "output_type": "stream",
          "text": [
            " * ibm_db_sa://bjc15249:***@dashdb-txn-sbox-yp-lon02-06.services.eu-gb.bluemix.net:50000/BLUDB\n",
            "Done.\n"
          ],
          "name": "stdout"
        },
        {
          "output_type": "execute_result",
          "data": {
            "text/html": [
              "<table>\n",
              "    <thead>\n",
              "        <tr>\n",
              "            <th>emp_id</th>\n",
              "            <th>emp_name</th>\n",
              "            <th>dep_id</th>\n",
              "            <th>salary</th>\n",
              "            <th>dep_name</th>\n",
              "        </tr>\n",
              "    </thead>\n",
              "    <tbody>\n",
              "        <tr>\n",
              "            <td>E1001</td>\n",
              "            <td>John</td>\n",
              "            <td>3</td>\n",
              "            <td>83000</td>\n",
              "            <td>HR</td>\n",
              "        </tr>\n",
              "        <tr>\n",
              "            <td>E1002</td>\n",
              "            <td>Alice</td>\n",
              "            <td>3</td>\n",
              "            <td>59000</td>\n",
              "            <td>HR</td>\n",
              "        </tr>\n",
              "        <tr>\n",
              "            <td>E1003</td>\n",
              "            <td>Steve</td>\n",
              "            <td>1</td>\n",
              "            <td>88000</td>\n",
              "            <td>Engineering</td>\n",
              "        </tr>\n",
              "        <tr>\n",
              "            <td>E1004</td>\n",
              "            <td>Santosh</td>\n",
              "            <td>2</td>\n",
              "            <td>86000</td>\n",
              "            <td>Software</td>\n",
              "        </tr>\n",
              "        <tr>\n",
              "            <td>E1005</td>\n",
              "            <td>Ahmed</td>\n",
              "            <td>1</td>\n",
              "            <td>56000</td>\n",
              "            <td>Engineering</td>\n",
              "        </tr>\n",
              "        <tr>\n",
              "            <td>E1006</td>\n",
              "            <td>Nancy</td>\n",
              "            <td>2</td>\n",
              "            <td>99000</td>\n",
              "            <td>Software</td>\n",
              "        </tr>\n",
              "        <tr>\n",
              "            <td>E1007</td>\n",
              "            <td>Mary</td>\n",
              "            <td>2</td>\n",
              "            <td>50000</td>\n",
              "            <td>Software</td>\n",
              "        </tr>\n",
              "        <tr>\n",
              "            <td>E1008</td>\n",
              "            <td>Bharath</td>\n",
              "            <td>1</td>\n",
              "            <td>54000</td>\n",
              "            <td>Engineering</td>\n",
              "        </tr>\n",
              "        <tr>\n",
              "            <td>E1009</td>\n",
              "            <td>Andrea</td>\n",
              "            <td>3</td>\n",
              "            <td>62000</td>\n",
              "            <td>HR</td>\n",
              "        </tr>\n",
              "        <tr>\n",
              "            <td>E1010</td>\n",
              "            <td>Ann</td>\n",
              "            <td>1</td>\n",
              "            <td>56000</td>\n",
              "            <td>Engineering</td>\n",
              "        </tr>\n",
              "        <tr>\n",
              "            <td>E1011</td>\n",
              "            <td>Liam</td>\n",
              "            <td>1</td>\n",
              "            <td>81000</td>\n",
              "            <td>Engineering</td>\n",
              "        </tr>\n",
              "        <tr>\n",
              "            <td>E1012</td>\n",
              "            <td>Noah</td>\n",
              "            <td>3</td>\n",
              "            <td>62000</td>\n",
              "            <td>HR</td>\n",
              "        </tr>\n",
              "        <tr>\n",
              "            <td>E1013</td>\n",
              "            <td>Oliver</td>\n",
              "            <td>3</td>\n",
              "            <td>88000</td>\n",
              "            <td>HR</td>\n",
              "        </tr>\n",
              "        <tr>\n",
              "            <td>E1014</td>\n",
              "            <td>William</td>\n",
              "            <td>3</td>\n",
              "            <td>52000</td>\n",
              "            <td>HR</td>\n",
              "        </tr>\n",
              "        <tr>\n",
              "            <td>E1015</td>\n",
              "            <td>Elijah</td>\n",
              "            <td>2</td>\n",
              "            <td>65000</td>\n",
              "            <td>Software</td>\n",
              "        </tr>\n",
              "        <tr>\n",
              "            <td>E1016</td>\n",
              "            <td>James</td>\n",
              "            <td>3</td>\n",
              "            <td>61000</td>\n",
              "            <td>HR</td>\n",
              "        </tr>\n",
              "        <tr>\n",
              "            <td>E1017</td>\n",
              "            <td>Benjamin</td>\n",
              "            <td>2</td>\n",
              "            <td>87000</td>\n",
              "            <td>Software</td>\n",
              "        </tr>\n",
              "        <tr>\n",
              "            <td>E1018</td>\n",
              "            <td>Lucas</td>\n",
              "            <td>1</td>\n",
              "            <td>95000</td>\n",
              "            <td>Engineering</td>\n",
              "        </tr>\n",
              "        <tr>\n",
              "            <td>E1019</td>\n",
              "            <td>Mason</td>\n",
              "            <td>2</td>\n",
              "            <td>77000</td>\n",
              "            <td>Software</td>\n",
              "        </tr>\n",
              "        <tr>\n",
              "            <td>E1020</td>\n",
              "            <td>Ethan</td>\n",
              "            <td>1</td>\n",
              "            <td>97000</td>\n",
              "            <td>Engineering</td>\n",
              "        </tr>\n",
              "        <tr>\n",
              "            <td>E1021</td>\n",
              "            <td>Alexander</td>\n",
              "            <td>3</td>\n",
              "            <td>86000</td>\n",
              "            <td>HR</td>\n",
              "        </tr>\n",
              "        <tr>\n",
              "            <td>E1022</td>\n",
              "            <td>Henry</td>\n",
              "            <td>3</td>\n",
              "            <td>68000</td>\n",
              "            <td>HR</td>\n",
              "        </tr>\n",
              "        <tr>\n",
              "            <td>E1023</td>\n",
              "            <td>Jacob</td>\n",
              "            <td>1</td>\n",
              "            <td>71000</td>\n",
              "            <td>Engineering</td>\n",
              "        </tr>\n",
              "        <tr>\n",
              "            <td>E1024</td>\n",
              "            <td>Michael</td>\n",
              "            <td>2</td>\n",
              "            <td>53000</td>\n",
              "            <td>Software</td>\n",
              "        </tr>\n",
              "        <tr>\n",
              "            <td>E1025</td>\n",
              "            <td>Daniel</td>\n",
              "            <td>1</td>\n",
              "            <td>74000</td>\n",
              "            <td>Engineering</td>\n",
              "        </tr>\n",
              "        <tr>\n",
              "            <td>E1026</td>\n",
              "            <td>Logan</td>\n",
              "            <td>1</td>\n",
              "            <td>63000</td>\n",
              "            <td>Engineering</td>\n",
              "        </tr>\n",
              "        <tr>\n",
              "            <td>E1027</td>\n",
              "            <td>Jackson</td>\n",
              "            <td>1</td>\n",
              "            <td>86000</td>\n",
              "            <td>Engineering</td>\n",
              "        </tr>\n",
              "        <tr>\n",
              "            <td>E1028</td>\n",
              "            <td>Sebastian</td>\n",
              "            <td>3</td>\n",
              "            <td>79000</td>\n",
              "            <td>HR</td>\n",
              "        </tr>\n",
              "        <tr>\n",
              "            <td>E1029</td>\n",
              "            <td>Jack</td>\n",
              "            <td>2</td>\n",
              "            <td>98000</td>\n",
              "            <td>Software</td>\n",
              "        </tr>\n",
              "        <tr>\n",
              "            <td>E1030</td>\n",
              "            <td>Aiden</td>\n",
              "            <td>1</td>\n",
              "            <td>85000</td>\n",
              "            <td>Engineering</td>\n",
              "        </tr>\n",
              "    </tbody>\n",
              "</table>"
            ],
            "text/plain": [
              "[('E1001', 'John', 3, 83000, 'HR'),\n",
              " ('E1002', 'Alice', 3, 59000, 'HR'),\n",
              " ('E1003', 'Steve', 1, 88000, 'Engineering'),\n",
              " ('E1004', 'Santosh', 2, 86000, 'Software'),\n",
              " ('E1005', 'Ahmed', 1, 56000, 'Engineering'),\n",
              " ('E1006', 'Nancy', 2, 99000, 'Software'),\n",
              " ('E1007', 'Mary', 2, 50000, 'Software'),\n",
              " ('E1008', 'Bharath', 1, 54000, 'Engineering'),\n",
              " ('E1009', 'Andrea', 3, 62000, 'HR'),\n",
              " ('E1010', 'Ann', 1, 56000, 'Engineering'),\n",
              " ('E1011', 'Liam', 1, 81000, 'Engineering'),\n",
              " ('E1012', 'Noah', 3, 62000, 'HR'),\n",
              " ('E1013', 'Oliver', 3, 88000, 'HR'),\n",
              " ('E1014', 'William', 3, 52000, 'HR'),\n",
              " ('E1015', 'Elijah', 2, 65000, 'Software'),\n",
              " ('E1016', 'James', 3, 61000, 'HR'),\n",
              " ('E1017', 'Benjamin', 2, 87000, 'Software'),\n",
              " ('E1018', 'Lucas', 1, 95000, 'Engineering'),\n",
              " ('E1019', 'Mason', 2, 77000, 'Software'),\n",
              " ('E1020', 'Ethan', 1, 97000, 'Engineering'),\n",
              " ('E1021', 'Alexander', 3, 86000, 'HR'),\n",
              " ('E1022', 'Henry', 3, 68000, 'HR'),\n",
              " ('E1023', 'Jacob', 1, 71000, 'Engineering'),\n",
              " ('E1024', 'Michael', 2, 53000, 'Software'),\n",
              " ('E1025', 'Daniel', 1, 74000, 'Engineering'),\n",
              " ('E1026', 'Logan', 1, 63000, 'Engineering'),\n",
              " ('E1027', 'Jackson', 1, 86000, 'Engineering'),\n",
              " ('E1028', 'Sebastian', 3, 79000, 'HR'),\n",
              " ('E1029', 'Jack', 2, 98000, 'Software'),\n",
              " ('E1030', 'Aiden', 1, 85000, 'Engineering')]"
            ]
          },
          "metadata": {
            "tags": []
          },
          "execution_count": 10
        }
      ]
    },
    {
      "cell_type": "code",
      "metadata": {
        "colab": {
          "base_uri": "https://localhost:8080/",
          "height": 194
        },
        "id": "dUi6YdB8ymLJ",
        "outputId": "96dad58c-1ea8-4681-aa3a-91a9869fcf17"
      },
      "source": [
        "#converting into dataframe\r\n",
        "df = results.DataFrame()\r\n",
        "df.head()"
      ],
      "execution_count": null,
      "outputs": [
        {
          "output_type": "execute_result",
          "data": {
            "text/html": [
              "<div>\n",
              "<style scoped>\n",
              "    .dataframe tbody tr th:only-of-type {\n",
              "        vertical-align: middle;\n",
              "    }\n",
              "\n",
              "    .dataframe tbody tr th {\n",
              "        vertical-align: top;\n",
              "    }\n",
              "\n",
              "    .dataframe thead th {\n",
              "        text-align: right;\n",
              "    }\n",
              "</style>\n",
              "<table border=\"1\" class=\"dataframe\">\n",
              "  <thead>\n",
              "    <tr style=\"text-align: right;\">\n",
              "      <th></th>\n",
              "      <th>emp_id</th>\n",
              "      <th>emp_name</th>\n",
              "      <th>dep_id</th>\n",
              "      <th>salary</th>\n",
              "      <th>dep_name</th>\n",
              "    </tr>\n",
              "  </thead>\n",
              "  <tbody>\n",
              "    <tr>\n",
              "      <th>0</th>\n",
              "      <td>E1001</td>\n",
              "      <td>John</td>\n",
              "      <td>3</td>\n",
              "      <td>83000</td>\n",
              "      <td>HR</td>\n",
              "    </tr>\n",
              "    <tr>\n",
              "      <th>1</th>\n",
              "      <td>E1002</td>\n",
              "      <td>Alice</td>\n",
              "      <td>3</td>\n",
              "      <td>59000</td>\n",
              "      <td>HR</td>\n",
              "    </tr>\n",
              "    <tr>\n",
              "      <th>2</th>\n",
              "      <td>E1003</td>\n",
              "      <td>Steve</td>\n",
              "      <td>1</td>\n",
              "      <td>88000</td>\n",
              "      <td>Engineering</td>\n",
              "    </tr>\n",
              "    <tr>\n",
              "      <th>3</th>\n",
              "      <td>E1004</td>\n",
              "      <td>Santosh</td>\n",
              "      <td>2</td>\n",
              "      <td>86000</td>\n",
              "      <td>Software</td>\n",
              "    </tr>\n",
              "    <tr>\n",
              "      <th>4</th>\n",
              "      <td>E1005</td>\n",
              "      <td>Ahmed</td>\n",
              "      <td>1</td>\n",
              "      <td>56000</td>\n",
              "      <td>Engineering</td>\n",
              "    </tr>\n",
              "  </tbody>\n",
              "</table>\n",
              "</div>"
            ],
            "text/plain": [
              "  emp_id emp_name  dep_id  salary     dep_name\n",
              "0  E1001     John       3   83000           HR\n",
              "1  E1002    Alice       3   59000           HR\n",
              "2  E1003    Steve       1   88000  Engineering\n",
              "3  E1004  Santosh       2   86000     Software\n",
              "4  E1005    Ahmed       1   56000  Engineering"
            ]
          },
          "metadata": {
            "tags": []
          },
          "execution_count": 11
        }
      ]
    },
    {
      "cell_type": "code",
      "metadata": {
        "colab": {
          "base_uri": "https://localhost:8080/",
          "height": 194
        },
        "id": "RbrsLunS9Iw-",
        "outputId": "b9ea0569-fcf6-4a22-ff9e-3223ee6451f7"
      },
      "source": [
        "df = df.drop([\"emp_id\",\"dep_id\"],axis=1)\r\n",
        "df.head()"
      ],
      "execution_count": null,
      "outputs": [
        {
          "output_type": "execute_result",
          "data": {
            "text/html": [
              "<div>\n",
              "<style scoped>\n",
              "    .dataframe tbody tr th:only-of-type {\n",
              "        vertical-align: middle;\n",
              "    }\n",
              "\n",
              "    .dataframe tbody tr th {\n",
              "        vertical-align: top;\n",
              "    }\n",
              "\n",
              "    .dataframe thead th {\n",
              "        text-align: right;\n",
              "    }\n",
              "</style>\n",
              "<table border=\"1\" class=\"dataframe\">\n",
              "  <thead>\n",
              "    <tr style=\"text-align: right;\">\n",
              "      <th></th>\n",
              "      <th>emp_name</th>\n",
              "      <th>salary</th>\n",
              "      <th>dep_name</th>\n",
              "    </tr>\n",
              "  </thead>\n",
              "  <tbody>\n",
              "    <tr>\n",
              "      <th>0</th>\n",
              "      <td>John</td>\n",
              "      <td>83000</td>\n",
              "      <td>HR</td>\n",
              "    </tr>\n",
              "    <tr>\n",
              "      <th>1</th>\n",
              "      <td>Alice</td>\n",
              "      <td>59000</td>\n",
              "      <td>HR</td>\n",
              "    </tr>\n",
              "    <tr>\n",
              "      <th>2</th>\n",
              "      <td>Steve</td>\n",
              "      <td>88000</td>\n",
              "      <td>Engineering</td>\n",
              "    </tr>\n",
              "    <tr>\n",
              "      <th>3</th>\n",
              "      <td>Santosh</td>\n",
              "      <td>86000</td>\n",
              "      <td>Software</td>\n",
              "    </tr>\n",
              "    <tr>\n",
              "      <th>4</th>\n",
              "      <td>Ahmed</td>\n",
              "      <td>56000</td>\n",
              "      <td>Engineering</td>\n",
              "    </tr>\n",
              "  </tbody>\n",
              "</table>\n",
              "</div>"
            ],
            "text/plain": [
              "  emp_name  salary     dep_name\n",
              "0     John   83000           HR\n",
              "1    Alice   59000           HR\n",
              "2    Steve   88000  Engineering\n",
              "3  Santosh   86000     Software\n",
              "4    Ahmed   56000  Engineering"
            ]
          },
          "metadata": {
            "tags": []
          },
          "execution_count": 13
        }
      ]
    },
    {
      "cell_type": "code",
      "metadata": {
        "colab": {
          "base_uri": "https://localhost:8080/"
        },
        "id": "MBiovSSe9IxY",
        "outputId": "3a17feb7-cec7-45fd-f9a2-a472f8512793"
      },
      "source": [
        "list(df.dep_name.unique())"
      ],
      "execution_count": null,
      "outputs": [
        {
          "output_type": "execute_result",
          "data": {
            "text/plain": [
              "['HR', 'Engineering', 'Software']"
            ]
          },
          "metadata": {
            "tags": []
          },
          "execution_count": 14
        }
      ]
    },
    {
      "cell_type": "code",
      "metadata": {
        "colab": {
          "base_uri": "https://localhost:8080/",
          "height": 311
        },
        "id": "0zVJMjqc9IxZ",
        "outputId": "f8fb4381-b90b-41ed-b4e9-e75a5215b0a0"
      },
      "source": [
        "df_results = pd.DataFrame({\"emp_name\":[], \"salary\":[],\t\"dep_name\":[]})\r\n",
        "for i in list(df.dep_name.unique()):\r\n",
        "  df1 = df[df[\"dep_name\"]==i]\r\n",
        "  df2 = df1.sort_values(\"salary\",ascending=False).head(3)\r\n",
        "  df_results = df_results.append(df2,ignore_index=True)\r\n",
        "\r\n",
        "df_results"
      ],
      "execution_count": null,
      "outputs": [
        {
          "output_type": "execute_result",
          "data": {
            "text/html": [
              "<div>\n",
              "<style scoped>\n",
              "    .dataframe tbody tr th:only-of-type {\n",
              "        vertical-align: middle;\n",
              "    }\n",
              "\n",
              "    .dataframe tbody tr th {\n",
              "        vertical-align: top;\n",
              "    }\n",
              "\n",
              "    .dataframe thead th {\n",
              "        text-align: right;\n",
              "    }\n",
              "</style>\n",
              "<table border=\"1\" class=\"dataframe\">\n",
              "  <thead>\n",
              "    <tr style=\"text-align: right;\">\n",
              "      <th></th>\n",
              "      <th>emp_name</th>\n",
              "      <th>salary</th>\n",
              "      <th>dep_name</th>\n",
              "    </tr>\n",
              "  </thead>\n",
              "  <tbody>\n",
              "    <tr>\n",
              "      <th>0</th>\n",
              "      <td>Oliver</td>\n",
              "      <td>88000.0</td>\n",
              "      <td>HR</td>\n",
              "    </tr>\n",
              "    <tr>\n",
              "      <th>1</th>\n",
              "      <td>Alexander</td>\n",
              "      <td>86000.0</td>\n",
              "      <td>HR</td>\n",
              "    </tr>\n",
              "    <tr>\n",
              "      <th>2</th>\n",
              "      <td>John</td>\n",
              "      <td>83000.0</td>\n",
              "      <td>HR</td>\n",
              "    </tr>\n",
              "    <tr>\n",
              "      <th>3</th>\n",
              "      <td>Ethan</td>\n",
              "      <td>97000.0</td>\n",
              "      <td>Engineering</td>\n",
              "    </tr>\n",
              "    <tr>\n",
              "      <th>4</th>\n",
              "      <td>Lucas</td>\n",
              "      <td>95000.0</td>\n",
              "      <td>Engineering</td>\n",
              "    </tr>\n",
              "    <tr>\n",
              "      <th>5</th>\n",
              "      <td>Steve</td>\n",
              "      <td>88000.0</td>\n",
              "      <td>Engineering</td>\n",
              "    </tr>\n",
              "    <tr>\n",
              "      <th>6</th>\n",
              "      <td>Nancy</td>\n",
              "      <td>99000.0</td>\n",
              "      <td>Software</td>\n",
              "    </tr>\n",
              "    <tr>\n",
              "      <th>7</th>\n",
              "      <td>Jack</td>\n",
              "      <td>98000.0</td>\n",
              "      <td>Software</td>\n",
              "    </tr>\n",
              "    <tr>\n",
              "      <th>8</th>\n",
              "      <td>Benjamin</td>\n",
              "      <td>87000.0</td>\n",
              "      <td>Software</td>\n",
              "    </tr>\n",
              "  </tbody>\n",
              "</table>\n",
              "</div>"
            ],
            "text/plain": [
              "    emp_name   salary     dep_name\n",
              "0     Oliver  88000.0           HR\n",
              "1  Alexander  86000.0           HR\n",
              "2       John  83000.0           HR\n",
              "3      Ethan  97000.0  Engineering\n",
              "4      Lucas  95000.0  Engineering\n",
              "5      Steve  88000.0  Engineering\n",
              "6      Nancy  99000.0     Software\n",
              "7       Jack  98000.0     Software\n",
              "8   Benjamin  87000.0     Software"
            ]
          },
          "metadata": {
            "tags": []
          },
          "execution_count": 20
        }
      ]
    }
  ]
}